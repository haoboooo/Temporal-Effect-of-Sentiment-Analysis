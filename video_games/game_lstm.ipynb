{
  "nbformat": 4,
  "nbformat_minor": 0,
  "metadata": {
    "colab": {
      "name": "game_lstm.ipynb",
      "provenance": [],
      "collapsed_sections": [],
      "authorship_tag": "ABX9TyN8T2dGxNpnb6yO/tivaST+",
      "include_colab_link": true
    },
    "kernelspec": {
      "name": "python3",
      "display_name": "Python 3"
    },
    "language_info": {
      "name": "python"
    },
    "accelerator": "GPU"
  },
  "cells": [
    {
      "cell_type": "markdown",
      "metadata": {
        "id": "view-in-github",
        "colab_type": "text"
      },
      "source": [
        "<a href=\"https://colab.research.google.com/github/haoboooo/Temporal-Generalization-of-Sentiment-Analysis-on-Amazon-Reviews/blob/main/video_games/game_lstm.ipynb\" target=\"_parent\"><img src=\"https://colab.research.google.com/assets/colab-badge.svg\" alt=\"Open In Colab\"/></a>"
      ]
    },
    {
      "cell_type": "code",
      "source": [
        "from google.colab import drive\n",
        "drive.mount('/content/drive')"
      ],
      "metadata": {
        "colab": {
          "base_uri": "https://localhost:8080/"
        },
        "id": "SunJUbnSjj9_",
        "outputId": "4b5d671c-bfe6-4a70-f519-93740a247394"
      },
      "execution_count": null,
      "outputs": [
        {
          "output_type": "stream",
          "name": "stdout",
          "text": [
            "Drive already mounted at /content/drive; to attempt to forcibly remount, call drive.mount(\"/content/drive\", force_remount=True).\n"
          ]
        }
      ]
    },
    {
      "cell_type": "code",
      "execution_count": null,
      "metadata": {
        "colab": {
          "base_uri": "https://localhost:8080/"
        },
        "id": "xvNU10WUjgW-",
        "outputId": "04d8d401-e83b-4289-edfa-c38d9fd56d67"
      },
      "outputs": [
        {
          "output_type": "stream",
          "name": "stdout",
          "text": [
            "Requirement already satisfied: emot in /usr/local/lib/python3.7/dist-packages (3.1)\n"
          ]
        }
      ],
      "source": [
        "!pip install emot"
      ]
    },
    {
      "cell_type": "code",
      "source": [
        "import pandas as pd\n",
        "import numpy as np\n",
        "import string\n",
        "import os\n",
        "\n",
        "# text preprocessing\n",
        "import nltk\n",
        "from nltk import word_tokenize\n",
        "from nltk.corpus import stopwords\n",
        "import re\n",
        "from emot.emo_unicode import EMOTICONS_EMO, UNICODE_EMOJI\n",
        "\n",
        "# plots and metrics\n",
        "import matplotlib.pyplot as plt\n",
        "import seaborn as sns\n",
        "plt.style.use('ggplot')\n",
        "from sklearn.metrics import accuracy_score, f1_score\n",
        "\n",
        "from tensorflow.keras.preprocessing.text import Tokenizer\n",
        "from tensorflow.keras.preprocessing.sequence import pad_sequences\n",
        "from tensorflow.keras.utils import to_categorical,plot_model\n",
        "\n",
        "from tensorflow.keras.layers import Input,Embedding,Bidirectional,LSTM,BatchNormalization,Dense,GlobalMaxPool1D,Dropout,Masking,Flatten\n",
        "from tensorflow.keras.callbacks import EarlyStopping\n",
        "from tensorflow.keras.models import Sequential,load_model"
      ],
      "metadata": {
        "id": "WknidSyjj2te"
      },
      "execution_count": null,
      "outputs": []
    },
    {
      "cell_type": "code",
      "source": [
        "import tensorflow as tf\n",
        "if tf.test.gpu_device_name():\n",
        "    print('Default GPU Device: {}'.format(tf.test.gpu_device_name()))\n",
        "else:\n",
        "    print(\"Please install GPU version of TF\")\n",
        "\n",
        "print(tf.test.is_built_with_cuda())\n",
        "print(tf.keras.__version__)\n",
        "print(tf.__version__)"
      ],
      "metadata": {
        "colab": {
          "base_uri": "https://localhost:8080/"
        },
        "id": "NTdQayYmj5Fa",
        "outputId": "d1d8b025-acc7-4d57-d2e8-dbccfa833462"
      },
      "execution_count": null,
      "outputs": [
        {
          "output_type": "stream",
          "name": "stdout",
          "text": [
            "Default GPU Device: /device:GPU:0\n",
            "True\n",
            "2.8.0\n",
            "2.8.0\n"
          ]
        }
      ]
    },
    {
      "cell_type": "code",
      "source": [
        "nltk.download(\"stopwords\")\n",
        "nltk.download('punkt')"
      ],
      "metadata": {
        "colab": {
          "base_uri": "https://localhost:8080/"
        },
        "id": "HM6GRxFRj6KS",
        "outputId": "5aff16cc-ed92-4a7a-8311-545a45c5f735"
      },
      "execution_count": null,
      "outputs": [
        {
          "output_type": "stream",
          "name": "stdout",
          "text": [
            "[nltk_data] Downloading package stopwords to /root/nltk_data...\n",
            "[nltk_data]   Package stopwords is already up-to-date!\n",
            "[nltk_data] Downloading package punkt to /root/nltk_data...\n",
            "[nltk_data]   Package punkt is already up-to-date!\n"
          ]
        },
        {
          "output_type": "execute_result",
          "data": {
            "text/plain": [
              "True"
            ]
          },
          "metadata": {},
          "execution_count": 5
        }
      ]
    },
    {
      "cell_type": "markdown",
      "source": [
        "## load game data"
      ],
      "metadata": {
        "id": "3iV86ZCJj9PJ"
      }
    },
    {
      "cell_type": "code",
      "source": [
        "file1 = \"./drive/MyDrive/Colab Notebooks/CL/game/97_06.csv\"\n",
        "file2 = \"./drive/MyDrive/Colab Notebooks/CL/game/07_12.csv\"\n",
        "file3 = \"./drive/MyDrive/Colab Notebooks/CL/game/13_17.csv\"\n",
        "file4 = \"./drive/MyDrive/Colab Notebooks/CL/game/18.csv\""
      ],
      "metadata": {
        "id": "85JuG645j7JK"
      },
      "execution_count": null,
      "outputs": []
    },
    {
      "cell_type": "code",
      "source": [
        "def load_data(file):\n",
        "  # read csv data and set columns\n",
        "  df = pd.read_csv(file,usecols=['overall', 'reviewTime','reviewText'])\n",
        "\n",
        "  # remove the duplicates if any\n",
        "  df.duplicated('reviewText').sum()\n",
        "  df.drop_duplicates(subset=['reviewText'],inplace=True)\n",
        "  \n",
        "  # remove NaN rows\n",
        "  df.isnull().sum()\n",
        "  df.dropna(how='any',axis=0,inplace=True)\n",
        "  shape = df.shape\n",
        "  counts = df.overall.value_counts()# labels count\n",
        "\n",
        "  sns.countplot(df['overall']) # plot bar graph\n",
        "  fig = plt.gcf() # get current figure\n",
        "  fig.set_size_inches(5,5) # set the figure size\n",
        "  plt.title('overall') # add title to the figure\n",
        "\n",
        "  return df,shape,counts"
      ],
      "metadata": {
        "id": "yhLer_pIl2Ig"
      },
      "execution_count": null,
      "outputs": []
    },
    {
      "cell_type": "code",
      "source": [
        "# load data for 1997 - 2006\n",
        "df1,shape1,counts1 = load_data(file1)\n",
        "print(shape1)\n",
        "print(counts1)\n",
        "df1.head()"
      ],
      "metadata": {
        "colab": {
          "base_uri": "https://localhost:8080/",
          "height": 692
        },
        "id": "yitjMxNTl3tr",
        "outputId": "198622e2-c928-4eef-f706-e1402a31c7bb"
      },
      "execution_count": null,
      "outputs": [
        {
          "output_type": "stream",
          "name": "stdout",
          "text": [
            "(95385, 3)\n",
            " 1.0    69406\n",
            "-1.0    18035\n",
            " 0.0     7944\n",
            "Name: overall, dtype: int64\n"
          ]
        },
        {
          "output_type": "stream",
          "name": "stderr",
          "text": [
            "/usr/local/lib/python3.7/dist-packages/seaborn/_decorators.py:43: FutureWarning: Pass the following variable as a keyword arg: x. From version 0.12, the only valid positional argument will be `data`, and passing other arguments without an explicit keyword will result in an error or misinterpretation.\n",
            "  FutureWarning\n"
          ]
        },
        {
          "output_type": "execute_result",
          "data": {
            "text/plain": [
              "   overall  reviewTime                                         reviewText\n",
              "0      1.0        2006  This game is a good time.  Especially if you h...\n",
              "1      0.0        2005  Don't expect the bells and whistles that you f...\n",
              "2      1.0        2005  It is fun to play this game, I really like it....\n",
              "3      1.0        2006  Here's the deal with this item: it's fine for ...\n",
              "4      0.0        2006  We bought this for Christmas for our three kid..."
            ],
            "text/html": [
              "\n",
              "  <div id=\"df-270758b9-8994-4658-8d8b-19a30a950389\">\n",
              "    <div class=\"colab-df-container\">\n",
              "      <div>\n",
              "<style scoped>\n",
              "    .dataframe tbody tr th:only-of-type {\n",
              "        vertical-align: middle;\n",
              "    }\n",
              "\n",
              "    .dataframe tbody tr th {\n",
              "        vertical-align: top;\n",
              "    }\n",
              "\n",
              "    .dataframe thead th {\n",
              "        text-align: right;\n",
              "    }\n",
              "</style>\n",
              "<table border=\"1\" class=\"dataframe\">\n",
              "  <thead>\n",
              "    <tr style=\"text-align: right;\">\n",
              "      <th></th>\n",
              "      <th>overall</th>\n",
              "      <th>reviewTime</th>\n",
              "      <th>reviewText</th>\n",
              "    </tr>\n",
              "  </thead>\n",
              "  <tbody>\n",
              "    <tr>\n",
              "      <th>0</th>\n",
              "      <td>1.0</td>\n",
              "      <td>2006</td>\n",
              "      <td>This game is a good time.  Especially if you h...</td>\n",
              "    </tr>\n",
              "    <tr>\n",
              "      <th>1</th>\n",
              "      <td>0.0</td>\n",
              "      <td>2005</td>\n",
              "      <td>Don't expect the bells and whistles that you f...</td>\n",
              "    </tr>\n",
              "    <tr>\n",
              "      <th>2</th>\n",
              "      <td>1.0</td>\n",
              "      <td>2005</td>\n",
              "      <td>It is fun to play this game, I really like it....</td>\n",
              "    </tr>\n",
              "    <tr>\n",
              "      <th>3</th>\n",
              "      <td>1.0</td>\n",
              "      <td>2006</td>\n",
              "      <td>Here's the deal with this item: it's fine for ...</td>\n",
              "    </tr>\n",
              "    <tr>\n",
              "      <th>4</th>\n",
              "      <td>0.0</td>\n",
              "      <td>2006</td>\n",
              "      <td>We bought this for Christmas for our three kid...</td>\n",
              "    </tr>\n",
              "  </tbody>\n",
              "</table>\n",
              "</div>\n",
              "      <button class=\"colab-df-convert\" onclick=\"convertToInteractive('df-270758b9-8994-4658-8d8b-19a30a950389')\"\n",
              "              title=\"Convert this dataframe to an interactive table.\"\n",
              "              style=\"display:none;\">\n",
              "        \n",
              "  <svg xmlns=\"http://www.w3.org/2000/svg\" height=\"24px\"viewBox=\"0 0 24 24\"\n",
              "       width=\"24px\">\n",
              "    <path d=\"M0 0h24v24H0V0z\" fill=\"none\"/>\n",
              "    <path d=\"M18.56 5.44l.94 2.06.94-2.06 2.06-.94-2.06-.94-.94-2.06-.94 2.06-2.06.94zm-11 1L8.5 8.5l.94-2.06 2.06-.94-2.06-.94L8.5 2.5l-.94 2.06-2.06.94zm10 10l.94 2.06.94-2.06 2.06-.94-2.06-.94-.94-2.06-.94 2.06-2.06.94z\"/><path d=\"M17.41 7.96l-1.37-1.37c-.4-.4-.92-.59-1.43-.59-.52 0-1.04.2-1.43.59L10.3 9.45l-7.72 7.72c-.78.78-.78 2.05 0 2.83L4 21.41c.39.39.9.59 1.41.59.51 0 1.02-.2 1.41-.59l7.78-7.78 2.81-2.81c.8-.78.8-2.07 0-2.86zM5.41 20L4 18.59l7.72-7.72 1.47 1.35L5.41 20z\"/>\n",
              "  </svg>\n",
              "      </button>\n",
              "      \n",
              "  <style>\n",
              "    .colab-df-container {\n",
              "      display:flex;\n",
              "      flex-wrap:wrap;\n",
              "      gap: 12px;\n",
              "    }\n",
              "\n",
              "    .colab-df-convert {\n",
              "      background-color: #E8F0FE;\n",
              "      border: none;\n",
              "      border-radius: 50%;\n",
              "      cursor: pointer;\n",
              "      display: none;\n",
              "      fill: #1967D2;\n",
              "      height: 32px;\n",
              "      padding: 0 0 0 0;\n",
              "      width: 32px;\n",
              "    }\n",
              "\n",
              "    .colab-df-convert:hover {\n",
              "      background-color: #E2EBFA;\n",
              "      box-shadow: 0px 1px 2px rgba(60, 64, 67, 0.3), 0px 1px 3px 1px rgba(60, 64, 67, 0.15);\n",
              "      fill: #174EA6;\n",
              "    }\n",
              "\n",
              "    [theme=dark] .colab-df-convert {\n",
              "      background-color: #3B4455;\n",
              "      fill: #D2E3FC;\n",
              "    }\n",
              "\n",
              "    [theme=dark] .colab-df-convert:hover {\n",
              "      background-color: #434B5C;\n",
              "      box-shadow: 0px 1px 3px 1px rgba(0, 0, 0, 0.15);\n",
              "      filter: drop-shadow(0px 1px 2px rgba(0, 0, 0, 0.3));\n",
              "      fill: #FFFFFF;\n",
              "    }\n",
              "  </style>\n",
              "\n",
              "      <script>\n",
              "        const buttonEl =\n",
              "          document.querySelector('#df-270758b9-8994-4658-8d8b-19a30a950389 button.colab-df-convert');\n",
              "        buttonEl.style.display =\n",
              "          google.colab.kernel.accessAllowed ? 'block' : 'none';\n",
              "\n",
              "        async function convertToInteractive(key) {\n",
              "          const element = document.querySelector('#df-270758b9-8994-4658-8d8b-19a30a950389');\n",
              "          const dataTable =\n",
              "            await google.colab.kernel.invokeFunction('convertToInteractive',\n",
              "                                                     [key], {});\n",
              "          if (!dataTable) return;\n",
              "\n",
              "          const docLinkHtml = 'Like what you see? Visit the ' +\n",
              "            '<a target=\"_blank\" href=https://colab.research.google.com/notebooks/data_table.ipynb>data table notebook</a>'\n",
              "            + ' to learn more about interactive tables.';\n",
              "          element.innerHTML = '';\n",
              "          dataTable['output_type'] = 'display_data';\n",
              "          await google.colab.output.renderOutput(dataTable, element);\n",
              "          const docLink = document.createElement('div');\n",
              "          docLink.innerHTML = docLinkHtml;\n",
              "          element.appendChild(docLink);\n",
              "        }\n",
              "      </script>\n",
              "    </div>\n",
              "  </div>\n",
              "  "
            ]
          },
          "metadata": {},
          "execution_count": 8
        },
        {
          "output_type": "display_data",
          "data": {
            "text/plain": [
              "<Figure size 360x360 with 1 Axes>"
            ],
            "image/png": "[encoded data removed]"
          },
          "metadata": {}
        }
      ]
    },
    {
      "cell_type": "code",
      "source": [
        "# load data for 2007 - 2012\n",
        "df2,shape2,counts2 = load_data(file2)\n",
        "print(shape2)\n",
        "print(counts2)\n",
        "df2.head()"
      ],
      "metadata": {
        "colab": {
          "base_uri": "https://localhost:8080/",
          "height": 692
        },
        "id": "zJbYiTqhl4sr",
        "outputId": "6a6d1291-b835-42fb-8f93-ab1fa345f272"
      },
      "execution_count": null,
      "outputs": [
        {
          "output_type": "stream",
          "name": "stdout",
          "text": [
            "(273501, 3)\n",
            " 1.0    193149\n",
            "-1.0     55507\n",
            " 0.0     24845\n",
            "Name: overall, dtype: int64\n"
          ]
        },
        {
          "output_type": "stream",
          "name": "stderr",
          "text": [
            "/usr/local/lib/python3.7/dist-packages/seaborn/_decorators.py:43: FutureWarning: Pass the following variable as a keyword arg: x. From version 0.12, the only valid positional argument will be `data`, and passing other arguments without an explicit keyword will result in an error or misinterpretation.\n",
            "  FutureWarning\n"
          ]
        },
        {
          "output_type": "execute_result",
          "data": {
            "text/plain": [
              "   overall  reviewTime                                         reviewText\n",
              "0      1.0        2012  I oredered this for a daughter who is now 33 a...\n",
              "1      1.0        2010  Well I thought since this idem didn't have any...\n",
              "2      1.0        2012  Good game. Good graphics. A bit of a learning ...\n",
              "3     -1.0        2012  If you buy this game, you will regret it.  If ...\n",
              "4      1.0        2012  4 Stars because they like it and play it often..."
            ],
            "text/html": [
              "\n",
              "  <div id=\"df-b9e7614e-f12d-41da-b664-438db6965dcd\">\n",
              "    <div class=\"colab-df-container\">\n",
              "      <div>\n",
              "<style scoped>\n",
              "    .dataframe tbody tr th:only-of-type {\n",
              "        vertical-align: middle;\n",
              "    }\n",
              "\n",
              "    .dataframe tbody tr th {\n",
              "        vertical-align: top;\n",
              "    }\n",
              "\n",
              "    .dataframe thead th {\n",
              "        text-align: right;\n",
              "    }\n",
              "</style>\n",
              "<table border=\"1\" class=\"dataframe\">\n",
              "  <thead>\n",
              "    <tr style=\"text-align: right;\">\n",
              "      <th></th>\n",
              "      <th>overall</th>\n",
              "      <th>reviewTime</th>\n",
              "      <th>reviewText</th>\n",
              "    </tr>\n",
              "  </thead>\n",
              "  <tbody>\n",
              "    <tr>\n",
              "      <th>0</th>\n",
              "      <td>1.0</td>\n",
              "      <td>2012</td>\n",
              "      <td>I oredered this for a daughter who is now 33 a...</td>\n",
              "    </tr>\n",
              "    <tr>\n",
              "      <th>1</th>\n",
              "      <td>1.0</td>\n",
              "      <td>2010</td>\n",
              "      <td>Well I thought since this idem didn't have any...</td>\n",
              "    </tr>\n",
              "    <tr>\n",
              "      <th>2</th>\n",
              "      <td>1.0</td>\n",
              "      <td>2012</td>\n",
              "      <td>Good game. Good graphics. A bit of a learning ...</td>\n",
              "    </tr>\n",
              "    <tr>\n",
              "      <th>3</th>\n",
              "      <td>-1.0</td>\n",
              "      <td>2012</td>\n",
              "      <td>If you buy this game, you will regret it.  If ...</td>\n",
              "    </tr>\n",
              "    <tr>\n",
              "      <th>4</th>\n",
              "      <td>1.0</td>\n",
              "      <td>2012</td>\n",
              "      <td>4 Stars because they like it and play it often...</td>\n",
              "    </tr>\n",
              "  </tbody>\n",
              "</table>\n",
              "</div>\n",
              "      <button class=\"colab-df-convert\" onclick=\"convertToInteractive('df-b9e7614e-f12d-41da-b664-438db6965dcd')\"\n",
              "              title=\"Convert this dataframe to an interactive table.\"\n",
              "              style=\"display:none;\">\n",
              "        \n",
              "  <svg xmlns=\"http://www.w3.org/2000/svg\" height=\"24px\"viewBox=\"0 0 24 24\"\n",
              "       width=\"24px\">\n",
              "    <path d=\"M0 0h24v24H0V0z\" fill=\"none\"/>\n",
              "    <path d=\"M18.56 5.44l.94 2.06.94-2.06 2.06-.94-2.06-.94-.94-2.06-.94 2.06-2.06.94zm-11 1L8.5 8.5l.94-2.06 2.06-.94-2.06-.94L8.5 2.5l-.94 2.06-2.06.94zm10 10l.94 2.06.94-2.06 2.06-.94-2.06-.94-.94-2.06-.94 2.06-2.06.94z\"/><path d=\"M17.41 7.96l-1.37-1.37c-.4-.4-.92-.59-1.43-.59-.52 0-1.04.2-1.43.59L10.3 9.45l-7.72 7.72c-.78.78-.78 2.05 0 2.83L4 21.41c.39.39.9.59 1.41.59.51 0 1.02-.2 1.41-.59l7.78-7.78 2.81-2.81c.8-.78.8-2.07 0-2.86zM5.41 20L4 18.59l7.72-7.72 1.47 1.35L5.41 20z\"/>\n",
              "  </svg>\n",
              "      </button>\n",
              "      \n",
              "  <style>\n",
              "    .colab-df-container {\n",
              "      display:flex;\n",
              "      flex-wrap:wrap;\n",
              "      gap: 12px;\n",
              "    }\n",
              "\n",
              "    .colab-df-convert {\n",
              "      background-color: #E8F0FE;\n",
              "      border: none;\n",
              "      border-radius: 50%;\n",
              "      cursor: pointer;\n",
              "      display: none;\n",
              "      fill: #1967D2;\n",
              "      height: 32px;\n",
              "      padding: 0 0 0 0;\n",
              "      width: 32px;\n",
              "    }\n",
              "\n",
              "    .colab-df-convert:hover {\n",
              "      background-color: #E2EBFA;\n",
              "      box-shadow: 0px 1px 2px rgba(60, 64, 67, 0.3), 0px 1px 3px 1px rgba(60, 64, 67, 0.15);\n",
              "      fill: #174EA6;\n",
              "    }\n",
              "\n",
              "    [theme=dark] .colab-df-convert {\n",
              "      background-color: #3B4455;\n",
              "      fill: #D2E3FC;\n",
              "    }\n",
              "\n",
              "    [theme=dark] .colab-df-convert:hover {\n",
              "      background-color: #434B5C;\n",
              "      box-shadow: 0px 1px 3px 1px rgba(0, 0, 0, 0.15);\n",
              "      filter: drop-shadow(0px 1px 2px rgba(0, 0, 0, 0.3));\n",
              "      fill: #FFFFFF;\n",
              "    }\n",
              "  </style>\n",
              "\n",
              "      <script>\n",
              "        const buttonEl =\n",
              "          document.querySelector('#df-b9e7614e-f12d-41da-b664-438db6965dcd button.colab-df-convert');\n",
              "        buttonEl.style.display =\n",
              "          google.colab.kernel.accessAllowed ? 'block' : 'none';\n",
              "\n",
              "        async function convertToInteractive(key) {\n",
              "          const element = document.querySelector('#df-b9e7614e-f12d-41da-b664-438db6965dcd');\n",
              "          const dataTable =\n",
              "            await google.colab.kernel.invokeFunction('convertToInteractive',\n",
              "                                                     [key], {});\n",
              "          if (!dataTable) return;\n",
              "\n",
              "          const docLinkHtml = 'Like what you see? Visit the ' +\n",
              "            '<a target=\"_blank\" href=https://colab.research.google.com/notebooks/data_table.ipynb>data table notebook</a>'\n",
              "            + ' to learn more about interactive tables.';\n",
              "          element.innerHTML = '';\n",
              "          dataTable['output_type'] = 'display_data';\n",
              "          await google.colab.output.renderOutput(dataTable, element);\n",
              "          const docLink = document.createElement('div');\n",
              "          docLink.innerHTML = docLinkHtml;\n",
              "          element.appendChild(docLink);\n",
              "        }\n",
              "      </script>\n",
              "    </div>\n",
              "  </div>\n",
              "  "
            ]
          },
          "metadata": {},
          "execution_count": 9
        },
        {
          "output_type": "display_data",
          "data": {
            "text/plain": [
              "<Figure size 360x360 with 1 Axes>"
            ],
            "image/png": "[encoded data removed]"
          },
          "metadata": {}
        }
      ]
    },
    {
      "cell_type": "code",
      "source": [
        "# load data for 2013 - 2017\n",
        "df3,shape3,counts3 = load_data(file3)\n",
        "print(shape3)\n",
        "print(counts3)\n",
        "df3.head()"
      ],
      "metadata": {
        "colab": {
          "base_uri": "https://localhost:8080/",
          "height": 692
        },
        "id": "-NYeeOHgl533",
        "outputId": "8247881b-9bea-4435-84aa-96693c2c9454"
      },
      "execution_count": null,
      "outputs": [
        {
          "output_type": "stream",
          "name": "stderr",
          "text": [
            "/usr/local/lib/python3.7/dist-packages/seaborn/_decorators.py:43: FutureWarning: Pass the following variable as a keyword arg: x. From version 0.12, the only valid positional argument will be `data`, and passing other arguments without an explicit keyword will result in an error or misinterpretation.\n",
            "  FutureWarning\n"
          ]
        },
        {
          "output_type": "stream",
          "name": "stdout",
          "text": [
            "(957163, 3)\n",
            " 1.0    672584\n",
            "-1.0    210099\n",
            " 0.0     74480\n",
            "Name: overall, dtype: int64\n"
          ]
        },
        {
          "output_type": "execute_result",
          "data": {
            "text/plain": [
              "   overall  reviewTime                                         reviewText\n",
              "0     -1.0        2014  I used to play this game years ago and loved i...\n",
              "1      0.0        2014  The game itself worked great but the story lin...\n",
              "2      1.0        2014  I had to learn the hard way after ordering thi...\n",
              "3     -1.0        2014  The product description should state this clea...\n",
              "4      1.0        2014  I would recommend this learning game for anyon..."
            ],
            "text/html": [
              "\n",
              "  <div id=\"df-04e60093-fa9d-4378-ae3a-0ada45434d94\">\n",
              "    <div class=\"colab-df-container\">\n",
              "      <div>\n",
              "<style scoped>\n",
              "    .dataframe tbody tr th:only-of-type {\n",
              "        vertical-align: middle;\n",
              "    }\n",
              "\n",
              "    .dataframe tbody tr th {\n",
              "        vertical-align: top;\n",
              "    }\n",
              "\n",
              "    .dataframe thead th {\n",
              "        text-align: right;\n",
              "    }\n",
              "</style>\n",
              "<table border=\"1\" class=\"dataframe\">\n",
              "  <thead>\n",
              "    <tr style=\"text-align: right;\">\n",
              "      <th></th>\n",
              "      <th>overall</th>\n",
              "      <th>reviewTime</th>\n",
              "      <th>reviewText</th>\n",
              "    </tr>\n",
              "  </thead>\n",
              "  <tbody>\n",
              "    <tr>\n",
              "      <th>0</th>\n",
              "      <td>-1.0</td>\n",
              "      <td>2014</td>\n",
              "      <td>I used to play this game years ago and loved i...</td>\n",
              "    </tr>\n",
              "    <tr>\n",
              "      <th>1</th>\n",
              "      <td>0.0</td>\n",
              "      <td>2014</td>\n",
              "      <td>The game itself worked great but the story lin...</td>\n",
              "    </tr>\n",
              "    <tr>\n",
              "      <th>2</th>\n",
              "      <td>1.0</td>\n",
              "      <td>2014</td>\n",
              "      <td>I had to learn the hard way after ordering thi...</td>\n",
              "    </tr>\n",
              "    <tr>\n",
              "      <th>3</th>\n",
              "      <td>-1.0</td>\n",
              "      <td>2014</td>\n",
              "      <td>The product description should state this clea...</td>\n",
              "    </tr>\n",
              "    <tr>\n",
              "      <th>4</th>\n",
              "      <td>1.0</td>\n",
              "      <td>2014</td>\n",
              "      <td>I would recommend this learning game for anyon...</td>\n",
              "    </tr>\n",
              "  </tbody>\n",
              "</table>\n",
              "</div>\n",
              "      <button class=\"colab-df-convert\" onclick=\"convertToInteractive('df-04e60093-fa9d-4378-ae3a-0ada45434d94')\"\n",
              "              title=\"Convert this dataframe to an interactive table.\"\n",
              "              style=\"display:none;\">\n",
              "        \n",
              "  <svg xmlns=\"http://www.w3.org/2000/svg\" height=\"24px\"viewBox=\"0 0 24 24\"\n",
              "       width=\"24px\">\n",
              "    <path d=\"M0 0h24v24H0V0z\" fill=\"none\"/>\n",
              "    <path d=\"M18.56 5.44l.94 2.06.94-2.06 2.06-.94-2.06-.94-.94-2.06-.94 2.06-2.06.94zm-11 1L8.5 8.5l.94-2.06 2.06-.94-2.06-.94L8.5 2.5l-.94 2.06-2.06.94zm10 10l.94 2.06.94-2.06 2.06-.94-2.06-.94-.94-2.06-.94 2.06-2.06.94z\"/><path d=\"M17.41 7.96l-1.37-1.37c-.4-.4-.92-.59-1.43-.59-.52 0-1.04.2-1.43.59L10.3 9.45l-7.72 7.72c-.78.78-.78 2.05 0 2.83L4 21.41c.39.39.9.59 1.41.59.51 0 1.02-.2 1.41-.59l7.78-7.78 2.81-2.81c.8-.78.8-2.07 0-2.86zM5.41 20L4 18.59l7.72-7.72 1.47 1.35L5.41 20z\"/>\n",
              "  </svg>\n",
              "      </button>\n",
              "      \n",
              "  <style>\n",
              "    .colab-df-container {\n",
              "      display:flex;\n",
              "      flex-wrap:wrap;\n",
              "      gap: 12px;\n",
              "    }\n",
              "\n",
              "    .colab-df-convert {\n",
              "      background-color: #E8F0FE;\n",
              "      border: none;\n",
              "      border-radius: 50%;\n",
              "      cursor: pointer;\n",
              "      display: none;\n",
              "      fill: #1967D2;\n",
              "      height: 32px;\n",
              "      padding: 0 0 0 0;\n",
              "      width: 32px;\n",
              "    }\n",
              "\n",
              "    .colab-df-convert:hover {\n",
              "      background-color: #E2EBFA;\n",
              "      box-shadow: 0px 1px 2px rgba(60, 64, 67, 0.3), 0px 1px 3px 1px rgba(60, 64, 67, 0.15);\n",
              "      fill: #174EA6;\n",
              "    }\n",
              "\n",
              "    [theme=dark] .colab-df-convert {\n",
              "      background-color: #3B4455;\n",
              "      fill: #D2E3FC;\n",
              "    }\n",
              "\n",
              "    [theme=dark] .colab-df-convert:hover {\n",
              "      background-color: #434B5C;\n",
              "      box-shadow: 0px 1px 3px 1px rgba(0, 0, 0, 0.15);\n",
              "      filter: drop-shadow(0px 1px 2px rgba(0, 0, 0, 0.3));\n",
              "      fill: #FFFFFF;\n",
              "    }\n",
              "  </style>\n",
              "\n",
              "      <script>\n",
              "        const buttonEl =\n",
              "          document.querySelector('#df-04e60093-fa9d-4378-ae3a-0ada45434d94 button.colab-df-convert');\n",
              "        buttonEl.style.display =\n",
              "          google.colab.kernel.accessAllowed ? 'block' : 'none';\n",
              "\n",
              "        async function convertToInteractive(key) {\n",
              "          const element = document.querySelector('#df-04e60093-fa9d-4378-ae3a-0ada45434d94');\n",
              "          const dataTable =\n",
              "            await google.colab.kernel.invokeFunction('convertToInteractive',\n",
              "                                                     [key], {});\n",
              "          if (!dataTable) return;\n",
              "\n",
              "          const docLinkHtml = 'Like what you see? Visit the ' +\n",
              "            '<a target=\"_blank\" href=https://colab.research.google.com/notebooks/data_table.ipynb>data table notebook</a>'\n",
              "            + ' to learn more about interactive tables.';\n",
              "          element.innerHTML = '';\n",
              "          dataTable['output_type'] = 'display_data';\n",
              "          await google.colab.output.renderOutput(dataTable, element);\n",
              "          const docLink = document.createElement('div');\n",
              "          docLink.innerHTML = docLinkHtml;\n",
              "          element.appendChild(docLink);\n",
              "        }\n",
              "      </script>\n",
              "    </div>\n",
              "  </div>\n",
              "  "
            ]
          },
          "metadata": {},
          "execution_count": 10
        },
        {
          "output_type": "display_data",
          "data": {
            "text/plain": [
              "<Figure size 360x360 with 1 Axes>"
            ],
            "image/png": "[encoded data removed]"
          },
          "metadata": {}
        }
      ]
    },
    {
      "cell_type": "code",
      "source": [
        "# load data for 2018\n",
        "df4,shape4,counts4 = load_data(file4)\n",
        "print(shape4)\n",
        "print(counts4)\n",
        "df4.head()"
      ],
      "metadata": {
        "colab": {
          "base_uri": "https://localhost:8080/",
          "height": 692
        },
        "id": "ziHrqc7Il69u",
        "outputId": "91c443dc-ca4b-4beb-d8e9-25739126c8b5"
      },
      "execution_count": null,
      "outputs": [
        {
          "output_type": "stream",
          "name": "stdout",
          "text": [
            "(80396, 3)\n",
            " 1.0    52744\n",
            "-1.0    21618\n",
            " 0.0     6034\n",
            "Name: overall, dtype: int64\n"
          ]
        },
        {
          "output_type": "stream",
          "name": "stderr",
          "text": [
            "/usr/local/lib/python3.7/dist-packages/seaborn/_decorators.py:43: FutureWarning: Pass the following variable as a keyword arg: x. From version 0.12, the only valid positional argument will be `data`, and passing other arguments without an explicit keyword will result in an error or misinterpretation.\n",
            "  FutureWarning\n"
          ]
        },
        {
          "output_type": "execute_result",
          "data": {
            "text/plain": [
              "   overall  reviewTime                                         reviewText\n",
              "0      1.0        2018         No complaints! Sing your little heart out!\n",
              "1      1.0        2018  Works great with Xbox 360. I have 2 of these u...\n",
              "2      1.0        2018  The game was perfect and super clean. Very ple...\n",
              "3      1.0        2018  It was perfect gift. Got it for Christmas and ...\n",
              "4      1.0        2018                                           Lik3d it"
            ],
            "text/html": [
              "\n",
              "  <div id=\"df-4eb50f91-caa7-4b2c-b4ac-8b88c650c46f\">\n",
              "    <div class=\"colab-df-container\">\n",
              "      <div>\n",
              "<style scoped>\n",
              "    .dataframe tbody tr th:only-of-type {\n",
              "        vertical-align: middle;\n",
              "    }\n",
              "\n",
              "    .dataframe tbody tr th {\n",
              "        vertical-align: top;\n",
              "    }\n",
              "\n",
              "    .dataframe thead th {\n",
              "        text-align: right;\n",
              "    }\n",
              "</style>\n",
              "<table border=\"1\" class=\"dataframe\">\n",
              "  <thead>\n",
              "    <tr style=\"text-align: right;\">\n",
              "      <th></th>\n",
              "      <th>overall</th>\n",
              "      <th>reviewTime</th>\n",
              "      <th>reviewText</th>\n",
              "    </tr>\n",
              "  </thead>\n",
              "  <tbody>\n",
              "    <tr>\n",
              "      <th>0</th>\n",
              "      <td>1.0</td>\n",
              "      <td>2018</td>\n",
              "      <td>No complaints! Sing your little heart out!</td>\n",
              "    </tr>\n",
              "    <tr>\n",
              "      <th>1</th>\n",
              "      <td>1.0</td>\n",
              "      <td>2018</td>\n",
              "      <td>Works great with Xbox 360. I have 2 of these u...</td>\n",
              "    </tr>\n",
              "    <tr>\n",
              "      <th>2</th>\n",
              "      <td>1.0</td>\n",
              "      <td>2018</td>\n",
              "      <td>The game was perfect and super clean. Very ple...</td>\n",
              "    </tr>\n",
              "    <tr>\n",
              "      <th>3</th>\n",
              "      <td>1.0</td>\n",
              "      <td>2018</td>\n",
              "      <td>It was perfect gift. Got it for Christmas and ...</td>\n",
              "    </tr>\n",
              "    <tr>\n",
              "      <th>4</th>\n",
              "      <td>1.0</td>\n",
              "      <td>2018</td>\n",
              "      <td>Lik3d it</td>\n",
              "    </tr>\n",
              "  </tbody>\n",
              "</table>\n",
              "</div>\n",
              "      <button class=\"colab-df-convert\" onclick=\"convertToInteractive('df-4eb50f91-caa7-4b2c-b4ac-8b88c650c46f')\"\n",
              "              title=\"Convert this dataframe to an interactive table.\"\n",
              "              style=\"display:none;\">\n",
              "        \n",
              "  <svg xmlns=\"http://www.w3.org/2000/svg\" height=\"24px\"viewBox=\"0 0 24 24\"\n",
              "       width=\"24px\">\n",
              "    <path d=\"M0 0h24v24H0V0z\" fill=\"none\"/>\n",
              "    <path d=\"M18.56 5.44l.94 2.06.94-2.06 2.06-.94-2.06-.94-.94-2.06-.94 2.06-2.06.94zm-11 1L8.5 8.5l.94-2.06 2.06-.94-2.06-.94L8.5 2.5l-.94 2.06-2.06.94zm10 10l.94 2.06.94-2.06 2.06-.94-2.06-.94-.94-2.06-.94 2.06-2.06.94z\"/><path d=\"M17.41 7.96l-1.37-1.37c-.4-.4-.92-.59-1.43-.59-.52 0-1.04.2-1.43.59L10.3 9.45l-7.72 7.72c-.78.78-.78 2.05 0 2.83L4 21.41c.39.39.9.59 1.41.59.51 0 1.02-.2 1.41-.59l7.78-7.78 2.81-2.81c.8-.78.8-2.07 0-2.86zM5.41 20L4 18.59l7.72-7.72 1.47 1.35L5.41 20z\"/>\n",
              "  </svg>\n",
              "      </button>\n",
              "      \n",
              "  <style>\n",
              "    .colab-df-container {\n",
              "      display:flex;\n",
              "      flex-wrap:wrap;\n",
              "      gap: 12px;\n",
              "    }\n",
              "\n",
              "    .colab-df-convert {\n",
              "      background-color: #E8F0FE;\n",
              "      border: none;\n",
              "      border-radius: 50%;\n",
              "      cursor: pointer;\n",
              "      display: none;\n",
              "      fill: #1967D2;\n",
              "      height: 32px;\n",
              "      padding: 0 0 0 0;\n",
              "      width: 32px;\n",
              "    }\n",
              "\n",
              "    .colab-df-convert:hover {\n",
              "      background-color: #E2EBFA;\n",
              "      box-shadow: 0px 1px 2px rgba(60, 64, 67, 0.3), 0px 1px 3px 1px rgba(60, 64, 67, 0.15);\n",
              "      fill: #174EA6;\n",
              "    }\n",
              "\n",
              "    [theme=dark] .colab-df-convert {\n",
              "      background-color: #3B4455;\n",
              "      fill: #D2E3FC;\n",
              "    }\n",
              "\n",
              "    [theme=dark] .colab-df-convert:hover {\n",
              "      background-color: #434B5C;\n",
              "      box-shadow: 0px 1px 3px 1px rgba(0, 0, 0, 0.15);\n",
              "      filter: drop-shadow(0px 1px 2px rgba(0, 0, 0, 0.3));\n",
              "      fill: #FFFFFF;\n",
              "    }\n",
              "  </style>\n",
              "\n",
              "      <script>\n",
              "        const buttonEl =\n",
              "          document.querySelector('#df-4eb50f91-caa7-4b2c-b4ac-8b88c650c46f button.colab-df-convert');\n",
              "        buttonEl.style.display =\n",
              "          google.colab.kernel.accessAllowed ? 'block' : 'none';\n",
              "\n",
              "        async function convertToInteractive(key) {\n",
              "          const element = document.querySelector('#df-4eb50f91-caa7-4b2c-b4ac-8b88c650c46f');\n",
              "          const dataTable =\n",
              "            await google.colab.kernel.invokeFunction('convertToInteractive',\n",
              "                                                     [key], {});\n",
              "          if (!dataTable) return;\n",
              "\n",
              "          const docLinkHtml = 'Like what you see? Visit the ' +\n",
              "            '<a target=\"_blank\" href=https://colab.research.google.com/notebooks/data_table.ipynb>data table notebook</a>'\n",
              "            + ' to learn more about interactive tables.';\n",
              "          element.innerHTML = '';\n",
              "          dataTable['output_type'] = 'display_data';\n",
              "          await google.colab.output.renderOutput(dataTable, element);\n",
              "          const docLink = document.createElement('div');\n",
              "          docLink.innerHTML = docLinkHtml;\n",
              "          element.appendChild(docLink);\n",
              "        }\n",
              "      </script>\n",
              "    </div>\n",
              "  </div>\n",
              "  "
            ]
          },
          "metadata": {},
          "execution_count": 11
        },
        {
          "output_type": "display_data",
          "data": {
            "text/plain": [
              "<Figure size 360x360 with 1 Axes>"
            ],
            "image/png": "[encoded data removed]"
          },
          "metadata": {}
        }
      ]
    },
    {
      "cell_type": "markdown",
      "source": [
        "## Split and Balance train&test"
      ],
      "metadata": {
        "id": "isLzjG3el9nV"
      }
    },
    {
      "cell_type": "markdown",
      "source": [
        "Balance each time period for \n",
        "5000 positive，5000 negative，5000 neutral\n",
        "\n",
        "80%(12000) training and 20%(3000) testing"
      ],
      "metadata": {
        "id": "e9UYM84zl_tg"
      }
    },
    {
      "cell_type": "code",
      "source": [
        "def split_balance(df):\n",
        "  # get data of each class\n",
        "  groups = df.groupby(df.overall)\n",
        "  pos = groups.get_group(1)\n",
        "  neu = groups.get_group(0)\n",
        "  neg = groups.get_group(-1)\n",
        "\n",
        "  # shuffle the dataframe\n",
        "  pos = pos.sample(frac=1.0)\n",
        "  neu = neu.sample(frac=1.0)\n",
        "  neg = neg.sample(frac=1.0)\n",
        "\n",
        "  # split to get train for each class\n",
        "  train_posdata = pos.iloc[:4000,:]\n",
        "  train_neudata = neu.iloc[:4000,:]\n",
        "  train_negdata = neg.iloc[:4000,:]\n",
        "\n",
        "  # split to get test for each class\n",
        "  test_posdata = pos.iloc[4000:5000,:]\n",
        "  test_neudata = neu.iloc[4000:5000,:]\n",
        "  test_negdata = neg.iloc[4000:5000,:]\n",
        "\n",
        "  train = pd.concat([train_posdata, train_neudata, train_negdata],sort=False).sample(frac=1.0)\n",
        "  test = pd.concat([test_posdata, test_neudata, test_negdata],sort=False).sample(frac=1.0)\n",
        "\n",
        "  return train,test"
      ],
      "metadata": {
        "id": "ZSajMY9nl8Ea"
      },
      "execution_count": null,
      "outputs": []
    },
    {
      "cell_type": "code",
      "source": [
        "# data for 1997 - 2006\n",
        "df1_train,df1_test = split_balance(df1)\n",
        "\n",
        "# data for 2007 - 2012\n",
        "df2_train,df2_test = split_balance(df2)\n",
        "\n",
        "# data for 2013 - 2017\n",
        "df3_train,df3_test = split_balance(df3)\n",
        "\n",
        "# data for 2018\n",
        "df4_train,df4_test = split_balance(df4)"
      ],
      "metadata": {
        "id": "JdJzE43QtkqK"
      },
      "execution_count": null,
      "outputs": []
    },
    {
      "cell_type": "code",
      "source": [
        "df1_train[\"overall\"] = df1_train[\"overall\"].replace(-1,2)\n",
        "df1_test[\"overall\"] = df1_test[\"overall\"].replace(-1,2)\n",
        "\n",
        "df2_train[\"overall\"] = df2_train[\"overall\"].replace(-1,2)\n",
        "df2_test[\"overall\"] = df2_test[\"overall\"].replace(-1,2)\n",
        "\n",
        "df3_train[\"overall\"] = df3_train[\"overall\"].replace(-1,2)\n",
        "df3_test[\"overall\"] = df3_test[\"overall\"].replace(-1,2)\n",
        "\n",
        "df4_train[\"overall\"] = df4_train[\"overall\"].replace(-1,2)\n",
        "df4_test[\"overall\"] = df4_test[\"overall\"].replace(-1,2)"
      ],
      "metadata": {
        "id": "BlBBYnnXtpQH"
      },
      "execution_count": null,
      "outputs": []
    },
    {
      "cell_type": "code",
      "source": [
        "df1_test.shape"
      ],
      "metadata": {
        "colab": {
          "base_uri": "https://localhost:8080/"
        },
        "id": "KCiVjC5vt-ZN",
        "outputId": "168db727-423a-4239-9559-2883df5130af"
      },
      "execution_count": null,
      "outputs": [
        {
          "output_type": "execute_result",
          "data": {
            "text/plain": [
              "(3000, 3)"
            ]
          },
          "metadata": {},
          "execution_count": 15
        }
      ]
    },
    {
      "cell_type": "markdown",
      "source": [
        "## Text Preprocessing"
      ],
      "metadata": {
        "id": "xiGRxh8duEnM"
      }
    },
    {
      "cell_type": "code",
      "source": [
        "# get stopwords from txt\n",
        "def get_stop_words(txt):\n",
        "    #read the stop words\n",
        "    with open(txt,'r') as f:\n",
        "        stopwords_list=f.readlines()\n",
        "    for i in range (0,len(stopwords_list)):\n",
        "        stopwords_list[i]=stopwords_list[i].replace('\\n','')\n",
        "    return stopwords_list"
      ],
      "metadata": {
        "id": "S7ntWYGct_hV"
      },
      "execution_count": null,
      "outputs": []
    },
    {
      "cell_type": "code",
      "source": [
        "# Defining my NLTK stop words and my user-defined stop words\n",
        "stop_words = list(stopwords.words('english'))\n",
        "alphabets = list(string.ascii_lowercase) # 26 letters with lowercase\n",
        "user_stop_words = get_stop_words(\"./drive/MyDrive/Colab Notebooks/CL/stopwords.txt\")\n",
        "stop_words = stop_words+alphabets+user_stop_words\n",
        "emojis = {**UNICODE_EMOJI,**EMOTICONS_EMO} # full list of emojis unicodes"
      ],
      "metadata": {
        "id": "7wZgAF59uGCD"
      },
      "execution_count": null,
      "outputs": []
    },
    {
      "cell_type": "code",
      "source": [
        "def processtext(txt):\n",
        "  # replace all emojis\n",
        "  for emo in emojis.keys():\n",
        "    txt = txt.replace(emo,\"EMOJI \"+emojis[emo])\n",
        "  \n",
        "  txt = txt.replace('\\r', '').replace('\\n', ' ')\n",
        "  # remove all html tag\n",
        "  txt = re.sub(\"(<.*?>)\", \"\", txt)\n",
        "  # remove all urls\n",
        "  txt = re.sub('https?:\\/\\/\\S+','',txt)\n",
        "  # remove @ references  \n",
        "  txt = re.sub('@[\\w_]+','',txt)\n",
        "  # remove # hashtags\n",
        "  txt = re.sub('#\\S+','',txt)\n",
        "  # replace digits with no space\n",
        "  txt = re.sub(r\"\\d\", '',txt)\n",
        "  # convert tweet to lower case\n",
        "  txt = txt.lower()\n",
        "  # remove all multiple white spaces\n",
        "  txt = re.sub('[\\s]+',' ',txt)\n",
        "  # remove all punctuations and non-ascii\n",
        "  txt = re.sub('[\\.?!,;:\\-\\[\\]\\{\\}\\(\\)\\'\\\"/]','',txt)\n",
        "  txt = txt.replace('$','').replace('&','')\n",
        "  # remove whitespace\n",
        "  txt = txt.strip()\n",
        "\n",
        "  tokens = word_tokenize(txt)\n",
        "  filtered_words = [w for w in tokens if w not in stop_words]\n",
        "  # filtered_words = [w for w in filtered_words if w in word_list]\n",
        "  return \" \".join(filtered_words)"
      ],
      "metadata": {
        "id": "v5NSOtm_uHQC"
      },
      "execution_count": null,
      "outputs": []
    },
    {
      "cell_type": "code",
      "source": [
        "df1_train[\"cleanText\"] = df1_train[\"reviewText\"].apply(processtext)\n",
        "df1_test[\"cleanText\"] = df1_test[\"reviewText\"].apply(processtext)\n",
        "\n",
        "df2_train[\"cleanText\"] = df2_train[\"reviewText\"].apply(processtext)\n",
        "df2_test[\"cleanText\"] = df2_test[\"reviewText\"].apply(processtext)\n",
        "\n",
        "df3_train[\"cleanText\"] = df3_train[\"reviewText\"].apply(processtext)\n",
        "df3_test[\"cleanText\"] = df3_test[\"reviewText\"].apply(processtext)\n",
        "\n",
        "df4_train[\"cleanText\"] = df4_train[\"reviewText\"].apply(processtext)\n",
        "df4_test[\"cleanText\"] = df4_test[\"reviewText\"].apply(processtext)"
      ],
      "metadata": {
        "id": "AeK8nKITuIGV"
      },
      "execution_count": null,
      "outputs": []
    },
    {
      "cell_type": "code",
      "source": [
        "df1_train.head(10)"
      ],
      "metadata": {
        "colab": {
          "base_uri": "https://localhost:8080/",
          "height": 363
        },
        "id": "o93m8tLNuJDZ",
        "outputId": "fbeadb94-1c08-4a75-99aa-7914314aa554"
      },
      "execution_count": null,
      "outputs": [
        {
          "output_type": "execute_result",
          "data": {
            "text/plain": [
              "       overall  reviewTime                                         reviewText  \\\n",
              "23470      1.0        2001  This is by far the best baseball game for PS2....   \n",
              "83466      2.0        2006  Game controls are terrible.  Instant replay do...   \n",
              "54690      2.0        2003  My son (7 yrs old) wanted this as soon as it c...   \n",
              "18835      0.0        2001  I recently bought cfs2 and was enthusiastic at...   \n",
              "32529      2.0        2002  Would like to get my hands on the x box DVD pl...   \n",
              "80516      0.0        2006  The graphics are very good and the game play i...   \n",
              "52505      2.0        2003         so ship already, then we'll know, won't we   \n",
              "1601       1.0        2000  Hi. This, in my mind is an exellent game. It f...   \n",
              "58083      0.0        2003  This game started really cool with an intrigui...   \n",
              "21961      2.0        2000  When I first got my Japanese Playstation 2 bac...   \n",
              "\n",
              "                                               cleanText  \n",
              "23470  far best baseball game ps none others even clo...  \n",
              "83466  game controls terrible instant replay doesnt s...  \n",
              "54690  son yrs old wanted soon came ran bought disapp...  \n",
              "18835  recently bought cfs enthusiastic first beware ...  \n",
              "32529  like get hands box dvd player kit cant find an...  \n",
              "80516  graphics good game play great however advice r...  \n",
              "52505                                ship well know wont  \n",
              "1601   hi mind exellent game follows plot film isnt h...  \n",
              "58083  game started really cool intriguing mystery fi...  \n",
              "21961  first got japanese playstation back march expe...  "
            ],
            "text/html": [
              "\n",
              "  <div id=\"df-e0594f15-3dea-4b26-9c11-15bc299a2ffb\">\n",
              "    <div class=\"colab-df-container\">\n",
              "      <div>\n",
              "<style scoped>\n",
              "    .dataframe tbody tr th:only-of-type {\n",
              "        vertical-align: middle;\n",
              "    }\n",
              "\n",
              "    .dataframe tbody tr th {\n",
              "        vertical-align: top;\n",
              "    }\n",
              "\n",
              "    .dataframe thead th {\n",
              "        text-align: right;\n",
              "    }\n",
              "</style>\n",
              "<table border=\"1\" class=\"dataframe\">\n",
              "  <thead>\n",
              "    <tr style=\"text-align: right;\">\n",
              "      <th></th>\n",
              "      <th>overall</th>\n",
              "      <th>reviewTime</th>\n",
              "      <th>reviewText</th>\n",
              "      <th>cleanText</th>\n",
              "    </tr>\n",
              "  </thead>\n",
              "  <tbody>\n",
              "    <tr>\n",
              "      <th>23470</th>\n",
              "      <td>1.0</td>\n",
              "      <td>2001</td>\n",
              "      <td>This is by far the best baseball game for PS2....</td>\n",
              "      <td>far best baseball game ps none others even clo...</td>\n",
              "    </tr>\n",
              "    <tr>\n",
              "      <th>83466</th>\n",
              "      <td>2.0</td>\n",
              "      <td>2006</td>\n",
              "      <td>Game controls are terrible.  Instant replay do...</td>\n",
              "      <td>game controls terrible instant replay doesnt s...</td>\n",
              "    </tr>\n",
              "    <tr>\n",
              "      <th>54690</th>\n",
              "      <td>2.0</td>\n",
              "      <td>2003</td>\n",
              "      <td>My son (7 yrs old) wanted this as soon as it c...</td>\n",
              "      <td>son yrs old wanted soon came ran bought disapp...</td>\n",
              "    </tr>\n",
              "    <tr>\n",
              "      <th>18835</th>\n",
              "      <td>0.0</td>\n",
              "      <td>2001</td>\n",
              "      <td>I recently bought cfs2 and was enthusiastic at...</td>\n",
              "      <td>recently bought cfs enthusiastic first beware ...</td>\n",
              "    </tr>\n",
              "    <tr>\n",
              "      <th>32529</th>\n",
              "      <td>2.0</td>\n",
              "      <td>2002</td>\n",
              "      <td>Would like to get my hands on the x box DVD pl...</td>\n",
              "      <td>like get hands box dvd player kit cant find an...</td>\n",
              "    </tr>\n",
              "    <tr>\n",
              "      <th>80516</th>\n",
              "      <td>0.0</td>\n",
              "      <td>2006</td>\n",
              "      <td>The graphics are very good and the game play i...</td>\n",
              "      <td>graphics good game play great however advice r...</td>\n",
              "    </tr>\n",
              "    <tr>\n",
              "      <th>52505</th>\n",
              "      <td>2.0</td>\n",
              "      <td>2003</td>\n",
              "      <td>so ship already, then we'll know, won't we</td>\n",
              "      <td>ship well know wont</td>\n",
              "    </tr>\n",
              "    <tr>\n",
              "      <th>1601</th>\n",
              "      <td>1.0</td>\n",
              "      <td>2000</td>\n",
              "      <td>Hi. This, in my mind is an exellent game. It f...</td>\n",
              "      <td>hi mind exellent game follows plot film isnt h...</td>\n",
              "    </tr>\n",
              "    <tr>\n",
              "      <th>58083</th>\n",
              "      <td>0.0</td>\n",
              "      <td>2003</td>\n",
              "      <td>This game started really cool with an intrigui...</td>\n",
              "      <td>game started really cool intriguing mystery fi...</td>\n",
              "    </tr>\n",
              "    <tr>\n",
              "      <th>21961</th>\n",
              "      <td>2.0</td>\n",
              "      <td>2000</td>\n",
              "      <td>When I first got my Japanese Playstation 2 bac...</td>\n",
              "      <td>first got japanese playstation back march expe...</td>\n",
              "    </tr>\n",
              "  </tbody>\n",
              "</table>\n",
              "</div>\n",
              "      <button class=\"colab-df-convert\" onclick=\"convertToInteractive('df-e0594f15-3dea-4b26-9c11-15bc299a2ffb')\"\n",
              "              title=\"Convert this dataframe to an interactive table.\"\n",
              "              style=\"display:none;\">\n",
              "        \n",
              "  <svg xmlns=\"http://www.w3.org/2000/svg\" height=\"24px\"viewBox=\"0 0 24 24\"\n",
              "       width=\"24px\">\n",
              "    <path d=\"M0 0h24v24H0V0z\" fill=\"none\"/>\n",
              "    <path d=\"M18.56 5.44l.94 2.06.94-2.06 2.06-.94-2.06-.94-.94-2.06-.94 2.06-2.06.94zm-11 1L8.5 8.5l.94-2.06 2.06-.94-2.06-.94L8.5 2.5l-.94 2.06-2.06.94zm10 10l.94 2.06.94-2.06 2.06-.94-2.06-.94-.94-2.06-.94 2.06-2.06.94z\"/><path d=\"M17.41 7.96l-1.37-1.37c-.4-.4-.92-.59-1.43-.59-.52 0-1.04.2-1.43.59L10.3 9.45l-7.72 7.72c-.78.78-.78 2.05 0 2.83L4 21.41c.39.39.9.59 1.41.59.51 0 1.02-.2 1.41-.59l7.78-7.78 2.81-2.81c.8-.78.8-2.07 0-2.86zM5.41 20L4 18.59l7.72-7.72 1.47 1.35L5.41 20z\"/>\n",
              "  </svg>\n",
              "      </button>\n",
              "      \n",
              "  <style>\n",
              "    .colab-df-container {\n",
              "      display:flex;\n",
              "      flex-wrap:wrap;\n",
              "      gap: 12px;\n",
              "    }\n",
              "\n",
              "    .colab-df-convert {\n",
              "      background-color: #E8F0FE;\n",
              "      border: none;\n",
              "      border-radius: 50%;\n",
              "      cursor: pointer;\n",
              "      display: none;\n",
              "      fill: #1967D2;\n",
              "      height: 32px;\n",
              "      padding: 0 0 0 0;\n",
              "      width: 32px;\n",
              "    }\n",
              "\n",
              "    .colab-df-convert:hover {\n",
              "      background-color: #E2EBFA;\n",
              "      box-shadow: 0px 1px 2px rgba(60, 64, 67, 0.3), 0px 1px 3px 1px rgba(60, 64, 67, 0.15);\n",
              "      fill: #174EA6;\n",
              "    }\n",
              "\n",
              "    [theme=dark] .colab-df-convert {\n",
              "      background-color: #3B4455;\n",
              "      fill: #D2E3FC;\n",
              "    }\n",
              "\n",
              "    [theme=dark] .colab-df-convert:hover {\n",
              "      background-color: #434B5C;\n",
              "      box-shadow: 0px 1px 3px 1px rgba(0, 0, 0, 0.15);\n",
              "      filter: drop-shadow(0px 1px 2px rgba(0, 0, 0, 0.3));\n",
              "      fill: #FFFFFF;\n",
              "    }\n",
              "  </style>\n",
              "\n",
              "      <script>\n",
              "        const buttonEl =\n",
              "          document.querySelector('#df-e0594f15-3dea-4b26-9c11-15bc299a2ffb button.colab-df-convert');\n",
              "        buttonEl.style.display =\n",
              "          google.colab.kernel.accessAllowed ? 'block' : 'none';\n",
              "\n",
              "        async function convertToInteractive(key) {\n",
              "          const element = document.querySelector('#df-e0594f15-3dea-4b26-9c11-15bc299a2ffb');\n",
              "          const dataTable =\n",
              "            await google.colab.kernel.invokeFunction('convertToInteractive',\n",
              "                                                     [key], {});\n",
              "          if (!dataTable) return;\n",
              "\n",
              "          const docLinkHtml = 'Like what you see? Visit the ' +\n",
              "            '<a target=\"_blank\" href=https://colab.research.google.com/notebooks/data_table.ipynb>data table notebook</a>'\n",
              "            + ' to learn more about interactive tables.';\n",
              "          element.innerHTML = '';\n",
              "          dataTable['output_type'] = 'display_data';\n",
              "          await google.colab.output.renderOutput(dataTable, element);\n",
              "          const docLink = document.createElement('div');\n",
              "          docLink.innerHTML = docLinkHtml;\n",
              "          element.appendChild(docLink);\n",
              "        }\n",
              "      </script>\n",
              "    </div>\n",
              "  </div>\n",
              "  "
            ]
          },
          "metadata": {},
          "execution_count": 20
        }
      ]
    },
    {
      "cell_type": "markdown",
      "source": [
        "## Tokenization"
      ],
      "metadata": {
        "id": "cv3VovCMuSNl"
      }
    },
    {
      "cell_type": "code",
      "source": [
        "def tokenize(data1,data2):\n",
        "  tokenizer = Tokenizer()\n",
        "  tokenizer.fit_on_texts(data1)\n",
        "  print(f\"{len(tokenizer.word_index)} words are used\")\n",
        "\n",
        "  vocab_size=len(tokenizer.word_index)\n",
        "  tokenizer = Tokenizer(num_words=vocab_size)\n",
        "\n",
        "  tokenizer.fit_on_texts(data1)\n",
        "  train_fea = tokenizer.texts_to_sequences(data1)\n",
        "  test_fea = tokenizer.texts_to_sequences(data2)\n",
        "\n",
        "  length_tr = [len(s) for s in train_fea]\n",
        "  print(\"Training:\")\n",
        "  print(f\"Average length of each row >> {np.mean(length_tr)}\")\n",
        "  print(f\"Maximum length of each row >> {np.max(length_tr)}\")\n",
        "  plt.hist(length_tr,bins=50)\n",
        "  plt.show()\n",
        "\n",
        "  length_te = [len(s) for s in test_fea]\n",
        "  print(\"Testing\")\n",
        "  print(f\"Average length of each row >> {np.mean(length_te)}\")\n",
        "  print(f\"Maximum length of each row >> {np.max(length_te)}\")\n",
        "  plt.hist(length_te,bins=50)\n",
        "  plt.show()\n",
        "\n",
        "  seq_len = max(max(length_tr),max(length_te))\n",
        "  print(\"max sequence length: \",seq_len)\n",
        "\n",
        "  return train_fea,test_fea,vocab_size,seq_len"
      ],
      "metadata": {
        "id": "G8TPM-YeuRBy"
      },
      "execution_count": null,
      "outputs": []
    },
    {
      "cell_type": "code",
      "source": [
        "df1_train_fea,df1_test_fea,df1_vocab_size,df1_maxlen = tokenize(df1_train[\"cleanText\"],df1_test[\"cleanText\"])"
      ],
      "metadata": {
        "colab": {
          "base_uri": "https://localhost:8080/",
          "height": 660
        },
        "id": "r1QMJddjuTTl",
        "outputId": "29a10b3a-2dd0-4481-abb9-1dd80cbc593d"
      },
      "execution_count": null,
      "outputs": [
        {
          "output_type": "stream",
          "name": "stdout",
          "text": [
            "48328 words are used\n",
            "Training:\n",
            "Average length of each row >> 76.37316666666666\n",
            "Maximum length of each row >> 1548\n"
          ]
        },
        {
          "output_type": "display_data",
          "data": {
            "text/plain": [
              "<Figure size 432x288 with 1 Axes>"
            ],
            "image/png": "[encoded data removed]"
          },
          "metadata": {}
        },
        {
          "output_type": "stream",
          "name": "stdout",
          "text": [
            "Testing\n",
            "Average length of each row >> 71.33733333333333\n",
            "Maximum length of each row >> 1649\n"
          ]
        },
        {
          "output_type": "display_data",
          "data": {
            "text/plain": [
              "<Figure size 432x288 with 1 Axes>"
            ],
            "image/png": "[encoded data removed]"
          },
          "metadata": {}
        },
        {
          "output_type": "stream",
          "name": "stdout",
          "text": [
            "max sequence length:  1649\n"
          ]
        }
      ]
    },
    {
      "cell_type": "code",
      "source": [
        "df2_train_fea,df2_test_fea,df2_vocab_size,df2_maxlen = tokenize(df2_train[\"cleanText\"],df2_test[\"cleanText\"])"
      ],
      "metadata": {
        "colab": {
          "base_uri": "https://localhost:8080/",
          "height": 663
        },
        "id": "1PCt0-KUuWF-",
        "outputId": "2fe030df-c273-4c22-a0ef-8260f75ad6b2"
      },
      "execution_count": null,
      "outputs": [
        {
          "output_type": "stream",
          "name": "stdout",
          "text": [
            "34877 words are used\n",
            "Training:\n",
            "Average length of each row >> 57.880916666666664\n",
            "Maximum length of each row >> 2440\n"
          ]
        },
        {
          "output_type": "display_data",
          "data": {
            "text/plain": [
              "<Figure size 432x288 with 1 Axes>"
            ],
            "image/png": "[encoded data removed]"
          },
          "metadata": {}
        },
        {
          "output_type": "stream",
          "name": "stdout",
          "text": [
            "Testing\n",
            "Average length of each row >> 54.52133333333333\n",
            "Maximum length of each row >> 1586\n"
          ]
        },
        {
          "output_type": "display_data",
          "data": {
            "text/plain": [
              "<Figure size 432x288 with 1 Axes>"
            ],
            "image/png": "[encoded data removed]"
          },
          "metadata": {}
        },
        {
          "output_type": "stream",
          "name": "stdout",
          "text": [
            "max sequence length:  2440\n"
          ]
        }
      ]
    },
    {
      "cell_type": "code",
      "source": [
        "df3_train_fea,df3_test_fea,df3_vocab_size,df3_maxlen = tokenize(df3_train[\"cleanText\"],df3_test[\"cleanText\"])"
      ],
      "metadata": {
        "colab": {
          "base_uri": "https://localhost:8080/",
          "height": 660
        },
        "id": "fkp3Thh3uXfz",
        "outputId": "cc382df5-4863-4e6f-ca3b-67387cc289f9"
      },
      "execution_count": null,
      "outputs": [
        {
          "output_type": "stream",
          "name": "stdout",
          "text": [
            "19348 words are used\n",
            "Training:\n",
            "Average length of each row >> 25.599\n",
            "Maximum length of each row >> 1189\n"
          ]
        },
        {
          "output_type": "display_data",
          "data": {
            "text/plain": [
              "<Figure size 432x288 with 1 Axes>"
            ],
            "image/png": "[encoded data removed]"
          },
          "metadata": {}
        },
        {
          "output_type": "stream",
          "name": "stdout",
          "text": [
            "Testing\n",
            "Average length of each row >> 24.917333333333332\n",
            "Maximum length of each row >> 675\n"
          ]
        },
        {
          "output_type": "display_data",
          "data": {
            "text/plain": [
              "<Figure size 432x288 with 1 Axes>"
            ],
            "image/png": "[encoded data removed]"
          },
          "metadata": {}
        },
        {
          "output_type": "stream",
          "name": "stdout",
          "text": [
            "max sequence length:  1189\n"
          ]
        }
      ]
    },
    {
      "cell_type": "code",
      "source": [
        "df4_train_fea,df4_test_fea,df4_vocab_size,df4_maxlen = tokenize(df4_train[\"cleanText\"],df4_test[\"cleanText\"])"
      ],
      "metadata": {
        "colab": {
          "base_uri": "https://localhost:8080/",
          "height": 660
        },
        "id": "FmE2rsJ4uYz9",
        "outputId": "c208a731-fc75-42a9-efb5-d6957885ecd6"
      },
      "execution_count": null,
      "outputs": [
        {
          "output_type": "stream",
          "name": "stdout",
          "text": [
            "14388 words are used\n",
            "Training:\n",
            "Average length of each row >> 19.101583333333334\n",
            "Maximum length of each row >> 595\n"
          ]
        },
        {
          "output_type": "display_data",
          "data": {
            "text/plain": [
              "<Figure size 432x288 with 1 Axes>"
            ],
            "image/png": "[encoded data removed]"
          },
          "metadata": {}
        },
        {
          "output_type": "stream",
          "name": "stdout",
          "text": [
            "Testing\n",
            "Average length of each row >> 18.420333333333332\n",
            "Maximum length of each row >> 609\n"
          ]
        },
        {
          "output_type": "display_data",
          "data": {
            "text/plain": [
              "<Figure size 432x288 with 1 Axes>"
            ],
            "image/png": "[encoded data removed]"
          },
          "metadata": {}
        },
        {
          "output_type": "stream",
          "name": "stdout",
          "text": [
            "max sequence length:  609\n"
          ]
        }
      ]
    },
    {
      "cell_type": "markdown",
      "source": [
        "## Padding"
      ],
      "metadata": {
        "id": "Ayrbw8K2uaJo"
      }
    },
    {
      "cell_type": "code",
      "source": [
        "sequence_size = 400\n",
        "print(\"max sequence length for game: \",sequence_size)"
      ],
      "metadata": {
        "colab": {
          "base_uri": "https://localhost:8080/"
        },
        "id": "cJpHtmaHuaVq",
        "outputId": "6398a247-09dc-4e29-d33e-8ec9a9e3a7af"
      },
      "execution_count": null,
      "outputs": [
        {
          "output_type": "stream",
          "name": "stdout",
          "text": [
            "max sequence length for game:  400\n"
          ]
        }
      ]
    },
    {
      "cell_type": "code",
      "source": [
        "df1_train_pad = pad_sequences(df1_train_fea,maxlen=sequence_size,padding='post',truncating='post')\n",
        "df1_test_pad = pad_sequences(df1_test_fea,maxlen=sequence_size,padding='post',truncating='post')\n",
        "df1_train_label = to_categorical(df1_train.overall,num_classes=3)\n",
        "df1_test_label = to_categorical(df1_test.overall,num_classes=3)"
      ],
      "metadata": {
        "id": "DtiBt16uueYw"
      },
      "execution_count": null,
      "outputs": []
    },
    {
      "cell_type": "code",
      "source": [
        "df2_train_pad = pad_sequences(df2_train_fea,maxlen=sequence_size,padding='post',truncating='post')\n",
        "df2_test_pad = pad_sequences(df2_test_fea,maxlen=sequence_size,padding='post',truncating='post')\n",
        "df2_train_label = to_categorical(df2_train.overall,num_classes=3)\n",
        "df2_test_label = to_categorical(df2_test.overall,num_classes=3)"
      ],
      "metadata": {
        "id": "j9Vx8qSnugo4"
      },
      "execution_count": null,
      "outputs": []
    },
    {
      "cell_type": "code",
      "source": [
        "df3_train_pad = pad_sequences(df3_train_fea,maxlen=sequence_size,padding='post',truncating='post')\n",
        "df3_test_pad = pad_sequences(df3_test_fea,maxlen=sequence_size,padding='post',truncating='post')\n",
        "df3_train_label = to_categorical(df3_train.overall,num_classes=3)\n",
        "df3_test_label = to_categorical(df3_test.overall,num_classes=3)"
      ],
      "metadata": {
        "id": "3EyJPLGJuhBb"
      },
      "execution_count": null,
      "outputs": []
    },
    {
      "cell_type": "code",
      "source": [
        "df4_train_pad = pad_sequences(df4_train_fea,maxlen=sequence_size,padding='post',truncating='post')\n",
        "df4_test_pad = pad_sequences(df4_test_fea,maxlen=sequence_size,padding='post',truncating='post')\n",
        "df4_train_label = to_categorical(df4_train.overall,num_classes=3)\n",
        "df4_test_label = to_categorical(df4_test.overall,num_classes=3)"
      ],
      "metadata": {
        "id": "NqfuBPcYuiFR"
      },
      "execution_count": null,
      "outputs": []
    },
    {
      "cell_type": "markdown",
      "source": [
        "## Build LSTM Model"
      ],
      "metadata": {
        "id": "g9eFiVh7unPB"
      }
    },
    {
      "cell_type": "code",
      "source": [
        "# hyperparameters\n",
        "word_vec_size = 100\n",
        "hidden_size = 128\n",
        "batch_size = 256\n",
        "epochs = 15\n",
        "vocab_size = max(df1_vocab_size,df2_vocab_size,df3_vocab_size,df4_vocab_size)\n",
        "print(\"max vocab size: \",vocab_size)"
      ],
      "metadata": {
        "colab": {
          "base_uri": "https://localhost:8080/"
        },
        "id": "6ViQ75J3unby",
        "outputId": "52c1c933-3104-4d28-a52d-6a396c9521ed"
      },
      "execution_count": null,
      "outputs": [
        {
          "output_type": "stream",
          "name": "stdout",
          "text": [
            "max vocab size:  48328\n"
          ]
        }
      ]
    },
    {
      "cell_type": "code",
      "source": [
        "def bilstm_model():\n",
        "    model = Sequential()\n",
        "    model.add(Input(shape=[sequence_size]))\n",
        "    model.add(Embedding(vocab_size,word_vec_size,input_length=sequence_size))\n",
        "    model.add(Bidirectional(LSTM(hidden_size,return_sequences=True)))\n",
        "    model.add(Flatten())\n",
        "    model.output_shape\n",
        "    model.add(Dense(32,activation='relu'))\n",
        "    model.add(Dropout(0.3))\n",
        "    model.add(Dense(3,activation='softmax'))\n",
        "    \n",
        "    model.compile(loss='categorical_crossentropy',optimizer='adam',metrics=['accuracy'])\n",
        "    model.summary()\n",
        "    return model\n",
        "es = EarlyStopping(monitor='val_accuracy',mode='min',patience=4,verbose=1)"
      ],
      "metadata": {
        "id": "5rYZ7erJuo0G"
      },
      "execution_count": null,
      "outputs": []
    },
    {
      "cell_type": "markdown",
      "source": [
        "### For 1997-2006"
      ],
      "metadata": {
        "id": "7SWtPfF_u2X8"
      }
    },
    {
      "cell_type": "code",
      "source": [
        "df1_lstm = bilstm_model()\n",
        "plot_model(df1_lstm)\n",
        "lstm_no_hist = df1_lstm.fit(df1_train_pad,df1_train_label,epochs=epochs,batch_size=batch_size,validation_data=(df1_test_pad,df1_test_label),callbacks=[es])"
      ],
      "metadata": {
        "colab": {
          "base_uri": "https://localhost:8080/"
        },
        "id": "icsQ8dU7uz-B",
        "outputId": "e3e42ec7-71a8-4d98-9263-9511940bd55c"
      },
      "execution_count": null,
      "outputs": [
        {
          "output_type": "stream",
          "name": "stdout",
          "text": [
            "Model: \"sequential\"\n",
            "_________________________________________________________________\n",
            " Layer (type)                Output Shape              Param #   \n",
            "=================================================================\n",
            " embedding (Embedding)       (None, 400, 100)          4832800   \n",
            "                                                                 \n",
            " bidirectional (Bidirectiona  (None, 400, 256)         234496    \n",
            " l)                                                              \n",
            "                                                                 \n",
            " flatten (Flatten)           (None, 102400)            0         \n",
            "                                                                 \n",
            " dense (Dense)               (None, 32)                3276832   \n",
            "                                                                 \n",
            " dropout (Dropout)           (None, 32)                0         \n",
            "                                                                 \n",
            " dense_1 (Dense)             (None, 3)                 99        \n",
            "                                                                 \n",
            "=================================================================\n",
            "Total params: 8,344,227\n",
            "Trainable params: 8,344,227\n",
            "Non-trainable params: 0\n",
            "_________________________________________________________________\n",
            "Epoch 1/15\n",
            "47/47 [==============================] - 18s 162ms/step - loss: 1.1109 - accuracy: 0.3491 - val_loss: 1.0427 - val_accuracy: 0.4347\n",
            "Epoch 2/15\n",
            "47/47 [==============================] - 5s 110ms/step - loss: 0.8706 - accuracy: 0.5775 - val_loss: 0.8440 - val_accuracy: 0.6123\n",
            "Epoch 3/15\n",
            "47/47 [==============================] - 5s 104ms/step - loss: 0.5233 - accuracy: 0.7907 - val_loss: 0.9061 - val_accuracy: 0.6213\n",
            "Epoch 4/15\n",
            "47/47 [==============================] - 5s 103ms/step - loss: 0.2657 - accuracy: 0.9061 - val_loss: 1.1792 - val_accuracy: 0.6077\n",
            "Epoch 5/15\n",
            "47/47 [==============================] - 5s 101ms/step - loss: 0.1385 - accuracy: 0.9538 - val_loss: 1.5267 - val_accuracy: 0.5923\n",
            "Epoch 5: early stopping\n"
          ]
        }
      ]
    },
    {
      "cell_type": "code",
      "source": [
        "plt.plot(lstm_no_hist.history['loss'], label='loss')\n",
        "plt.plot(lstm_no_hist.history['val_loss'], label = 'val_loss')\n",
        "plt.legend()"
      ],
      "metadata": {
        "colab": {
          "base_uri": "https://localhost:8080/",
          "height": 283
        },
        "id": "nCxentjPu6Wn",
        "outputId": "04714bf9-0a5f-40e4-bdcf-0494e4276b19"
      },
      "execution_count": null,
      "outputs": [
        {
          "output_type": "execute_result",
          "data": {
            "text/plain": [
              "<matplotlib.legend.Legend at 0x7f64a5e78550>"
            ]
          },
          "metadata": {},
          "execution_count": 34
        },
        {
          "output_type": "display_data",
          "data": {
            "text/plain": [
              "<Figure size 432x288 with 1 Axes>"
            ],
            "image/png": "[encoded data removed]"
          },
          "metadata": {}
        }
      ]
    },
    {
      "cell_type": "code",
      "source": [
        "plt.plot(lstm_no_hist.history['accuracy'], label= 'accuracy')\n",
        "plt.plot(lstm_no_hist.history['val_accuracy'], label='val_accuracy')\n",
        "plt.legend()"
      ],
      "metadata": {
        "colab": {
          "base_uri": "https://localhost:8080/",
          "height": 283
        },
        "id": "rZZaSmmEu8XX",
        "outputId": "097731f0-be37-4faf-9371-fad64eff0fce"
      },
      "execution_count": null,
      "outputs": [
        {
          "output_type": "execute_result",
          "data": {
            "text/plain": [
              "<matplotlib.legend.Legend at 0x7f64a636f990>"
            ]
          },
          "metadata": {},
          "execution_count": 35
        },
        {
          "output_type": "display_data",
          "data": {
            "text/plain": [
              "<Figure size 432x288 with 1 Axes>"
            ],
            "image/png": "[encoded data removed]"
          },
          "metadata": {}
        }
      ]
    },
    {
      "cell_type": "code",
      "source": [
        "df1_lstm.save('./drive/MyDrive/Colab Notebooks/CL/game/LSTM/df1_BiLSTM.h5')"
      ],
      "metadata": {
        "id": "oftUq6p5u_NL"
      },
      "execution_count": null,
      "outputs": []
    },
    {
      "cell_type": "markdown",
      "source": [
        "### For 2007-2012"
      ],
      "metadata": {
        "id": "nmoEELguzpqj"
      }
    },
    {
      "cell_type": "code",
      "source": [
        "df2_lstm = bilstm_model()\n",
        "plot_model(df2_lstm)\n",
        "lstm_no_hist = df2_lstm.fit(df2_train_pad,df2_train_label,epochs=epochs,batch_size=batch_size,validation_data=(df2_test_pad,df2_test_label),callbacks=[es])"
      ],
      "metadata": {
        "colab": {
          "base_uri": "https://localhost:8080/"
        },
        "id": "jKm_ANfmzksJ",
        "outputId": "c44f453a-c41e-4d81-e49c-d862a55373c2"
      },
      "execution_count": null,
      "outputs": [
        {
          "output_type": "stream",
          "name": "stdout",
          "text": [
            "Model: \"sequential_1\"\n",
            "_________________________________________________________________\n",
            " Layer (type)                Output Shape              Param #   \n",
            "=================================================================\n",
            " embedding_1 (Embedding)     (None, 400, 100)          4832800   \n",
            "                                                                 \n",
            " bidirectional_1 (Bidirectio  (None, 400, 256)         234496    \n",
            " nal)                                                            \n",
            "                                                                 \n",
            " flatten_1 (Flatten)         (None, 102400)            0         \n",
            "                                                                 \n",
            " dense_2 (Dense)             (None, 32)                3276832   \n",
            "                                                                 \n",
            " dropout_1 (Dropout)         (None, 32)                0         \n",
            "                                                                 \n",
            " dense_3 (Dense)             (None, 3)                 99        \n",
            "                                                                 \n",
            "=================================================================\n",
            "Total params: 8,344,227\n",
            "Trainable params: 8,344,227\n",
            "Non-trainable params: 0\n",
            "_________________________________________________________________\n",
            "Epoch 1/15\n",
            "47/47 [==============================] - 10s 129ms/step - loss: 1.1196 - accuracy: 0.3632 - val_loss: 1.0665 - val_accuracy: 0.4313\n",
            "Epoch 2/15\n",
            "47/47 [==============================] - 5s 101ms/step - loss: 0.9439 - accuracy: 0.5178 - val_loss: 0.8350 - val_accuracy: 0.5887\n",
            "Epoch 3/15\n",
            "47/47 [==============================] - 5s 102ms/step - loss: 0.6838 - accuracy: 0.7015 - val_loss: 0.8094 - val_accuracy: 0.6343\n",
            "Epoch 4/15\n",
            "47/47 [==============================] - 5s 102ms/step - loss: 0.4645 - accuracy: 0.8192 - val_loss: 0.9329 - val_accuracy: 0.6240\n",
            "Epoch 5/15\n",
            "47/47 [==============================] - 5s 102ms/step - loss: 0.2877 - accuracy: 0.9017 - val_loss: 1.2241 - val_accuracy: 0.6203\n",
            "Epoch 5: early stopping\n"
          ]
        }
      ]
    },
    {
      "cell_type": "code",
      "source": [
        "plt.plot(lstm_no_hist.history['loss'], label='loss')\n",
        "plt.plot(lstm_no_hist.history['val_loss'], label = 'val_loss')\n",
        "plt.legend()"
      ],
      "metadata": {
        "colab": {
          "base_uri": "https://localhost:8080/",
          "height": 283
        },
        "id": "K9z5y1QkzujI",
        "outputId": "4df16816-4445-416e-eec0-01b8d3be2b55"
      },
      "execution_count": null,
      "outputs": [
        {
          "output_type": "execute_result",
          "data": {
            "text/plain": [
              "<matplotlib.legend.Legend at 0x7f64940a0490>"
            ]
          },
          "metadata": {},
          "execution_count": 38
        },
        {
          "output_type": "display_data",
          "data": {
            "text/plain": [
              "<Figure size 432x288 with 1 Axes>"
            ],
            "image/png": "[encoded data removed]"
          },
          "metadata": {}
        }
      ]
    },
    {
      "cell_type": "code",
      "source": [
        "plt.plot(lstm_no_hist.history['accuracy'], label= 'accuracy')\n",
        "plt.plot(lstm_no_hist.history['val_accuracy'], label='val_accuracy')\n",
        "plt.legend()"
      ],
      "metadata": {
        "colab": {
          "base_uri": "https://localhost:8080/",
          "height": 283
        },
        "id": "b3W4iMqIzvHO",
        "outputId": "fc0dcdd3-b85b-49cf-964c-db95f4062a61"
      },
      "execution_count": null,
      "outputs": [
        {
          "output_type": "execute_result",
          "data": {
            "text/plain": [
              "<matplotlib.legend.Legend at 0x7f645e429ed0>"
            ]
          },
          "metadata": {},
          "execution_count": 39
        },
        {
          "output_type": "display_data",
          "data": {
            "text/plain": [
              "<Figure size 432x288 with 1 Axes>"
            ],
            "image/png": "[encoded data removed]"
          },
          "metadata": {}
        }
      ]
    },
    {
      "cell_type": "code",
      "source": [
        "df2_lstm.save('./drive/MyDrive/Colab Notebooks/CL/game/LSTM/df2_BiLSTM.h5')"
      ],
      "metadata": {
        "id": "6gJFRs06zxEV"
      },
      "execution_count": null,
      "outputs": []
    },
    {
      "cell_type": "markdown",
      "source": [
        "### For 2013-2017"
      ],
      "metadata": {
        "id": "uOTmHuDcz19A"
      }
    },
    {
      "cell_type": "code",
      "source": [
        "df3_lstm = bilstm_model()\n",
        "plot_model(df3_lstm)\n",
        "lstm_no_hist = df3_lstm.fit(df3_train_pad,df3_train_label,epochs=epochs,batch_size=batch_size,validation_data=(df3_test_pad,df3_test_label),callbacks=[es])"
      ],
      "metadata": {
        "colab": {
          "base_uri": "https://localhost:8080/"
        },
        "id": "qAY5Mqhvz0d8",
        "outputId": "909875ca-7667-426b-9939-32c244e313e2"
      },
      "execution_count": null,
      "outputs": [
        {
          "output_type": "stream",
          "name": "stdout",
          "text": [
            "Model: \"sequential_2\"\n",
            "_________________________________________________________________\n",
            " Layer (type)                Output Shape              Param #   \n",
            "=================================================================\n",
            " embedding_2 (Embedding)     (None, 400, 100)          4832800   \n",
            "                                                                 \n",
            " bidirectional_2 (Bidirectio  (None, 400, 256)         234496    \n",
            " nal)                                                            \n",
            "                                                                 \n",
            " flatten_2 (Flatten)         (None, 102400)            0         \n",
            "                                                                 \n",
            " dense_4 (Dense)             (None, 32)                3276832   \n",
            "                                                                 \n",
            " dropout_2 (Dropout)         (None, 32)                0         \n",
            "                                                                 \n",
            " dense_5 (Dense)             (None, 3)                 99        \n",
            "                                                                 \n",
            "=================================================================\n",
            "Total params: 8,344,227\n",
            "Trainable params: 8,344,227\n",
            "Non-trainable params: 0\n",
            "_________________________________________________________________\n",
            "Epoch 1/15\n",
            "47/47 [==============================] - 10s 133ms/step - loss: 1.1199 - accuracy: 0.3489 - val_loss: 1.0911 - val_accuracy: 0.4347\n",
            "Epoch 2/15\n",
            "47/47 [==============================] - 5s 102ms/step - loss: 1.0320 - accuracy: 0.4357 - val_loss: 0.8746 - val_accuracy: 0.5820\n",
            "Epoch 3/15\n",
            "47/47 [==============================] - 5s 103ms/step - loss: 0.8399 - accuracy: 0.5767 - val_loss: 0.8175 - val_accuracy: 0.6023\n",
            "Epoch 4/15\n",
            "47/47 [==============================] - 5s 103ms/step - loss: 0.6711 - accuracy: 0.6970 - val_loss: 0.8307 - val_accuracy: 0.6287\n",
            "Epoch 5/15\n",
            "47/47 [==============================] - 5s 102ms/step - loss: 0.5708 - accuracy: 0.7565 - val_loss: 0.9378 - val_accuracy: 0.6340\n",
            "Epoch 5: early stopping\n"
          ]
        }
      ]
    },
    {
      "cell_type": "code",
      "source": [
        "plt.plot(lstm_no_hist.history['loss'], label='loss')\n",
        "plt.plot(lstm_no_hist.history['val_loss'], label = 'val_loss')\n",
        "plt.legend()"
      ],
      "metadata": {
        "colab": {
          "base_uri": "https://localhost:8080/",
          "height": 283
        },
        "id": "-cfv1S6P0BBe",
        "outputId": "f7c8d861-8dfb-41b9-8b7d-5f5023aeed14"
      },
      "execution_count": null,
      "outputs": [
        {
          "output_type": "execute_result",
          "data": {
            "text/plain": [
              "<matplotlib.legend.Legend at 0x7f6494a7ecd0>"
            ]
          },
          "metadata": {},
          "execution_count": 42
        },
        {
          "output_type": "display_data",
          "data": {
            "text/plain": [
              "<Figure size 432x288 with 1 Axes>"
            ],
            "image/png": "[encoded data removed]"
          },
          "metadata": {}
        }
      ]
    },
    {
      "cell_type": "code",
      "source": [
        "plt.plot(lstm_no_hist.history['accuracy'], label= 'accuracy')\n",
        "plt.plot(lstm_no_hist.history['val_accuracy'], label='val_accuracy')\n",
        "plt.legend()"
      ],
      "metadata": {
        "colab": {
          "base_uri": "https://localhost:8080/",
          "height": 283
        },
        "id": "la6jWb350Bpq",
        "outputId": "de4b973c-35f6-4bea-ba69-f42dfc637575"
      },
      "execution_count": null,
      "outputs": [
        {
          "output_type": "execute_result",
          "data": {
            "text/plain": [
              "<matplotlib.legend.Legend at 0x7f645e2701d0>"
            ]
          },
          "metadata": {},
          "execution_count": 43
        },
        {
          "output_type": "display_data",
          "data": {
            "text/plain": [
              "<Figure size 432x288 with 1 Axes>"
            ],
            "image/png": "[encoded data removed]"
          },
          "metadata": {}
        }
      ]
    },
    {
      "cell_type": "code",
      "source": [
        "df3_lstm.save('./drive/MyDrive/Colab Notebooks/CL/game/LSTM/df3_BiLSTM.h5')"
      ],
      "metadata": {
        "id": "xhnYj5S-0C3w"
      },
      "execution_count": null,
      "outputs": []
    },
    {
      "cell_type": "markdown",
      "source": [
        "### For 2018"
      ],
      "metadata": {
        "id": "luW3ul3E0KOQ"
      }
    },
    {
      "cell_type": "code",
      "source": [
        "df4_lstm = bilstm_model()\n",
        "plot_model(df4_lstm)\n",
        "lstm_no_hist = df4_lstm.fit(df4_train_pad,df4_train_label,epochs=epochs,batch_size=batch_size,validation_data=(df4_test_pad,df4_test_label),callbacks=[es])"
      ],
      "metadata": {
        "colab": {
          "base_uri": "https://localhost:8080/"
        },
        "id": "vWYExEzH0FiT",
        "outputId": "b3bb9d53-ca92-4c85-ce88-a72fadd2d361"
      },
      "execution_count": null,
      "outputs": [
        {
          "output_type": "stream",
          "name": "stdout",
          "text": [
            "Model: \"sequential_3\"\n",
            "_________________________________________________________________\n",
            " Layer (type)                Output Shape              Param #   \n",
            "=================================================================\n",
            " embedding_3 (Embedding)     (None, 400, 100)          4832800   \n",
            "                                                                 \n",
            " bidirectional_3 (Bidirectio  (None, 400, 256)         234496    \n",
            " nal)                                                            \n",
            "                                                                 \n",
            " flatten_3 (Flatten)         (None, 102400)            0         \n",
            "                                                                 \n",
            " dense_6 (Dense)             (None, 32)                3276832   \n",
            "                                                                 \n",
            " dropout_3 (Dropout)         (None, 32)                0         \n",
            "                                                                 \n",
            " dense_7 (Dense)             (None, 3)                 99        \n",
            "                                                                 \n",
            "=================================================================\n",
            "Total params: 8,344,227\n",
            "Trainable params: 8,344,227\n",
            "Non-trainable params: 0\n",
            "_________________________________________________________________\n",
            "Epoch 1/15\n",
            "47/47 [==============================] - 10s 132ms/step - loss: 1.1095 - accuracy: 0.3236 - val_loss: 1.0985 - val_accuracy: 0.3330\n",
            "Epoch 2/15\n",
            "47/47 [==============================] - 5s 102ms/step - loss: 1.0981 - accuracy: 0.3337 - val_loss: 1.0984 - val_accuracy: 0.3583\n",
            "Epoch 3/15\n",
            "47/47 [==============================] - 5s 102ms/step - loss: 1.0973 - accuracy: 0.3438 - val_loss: 1.0955 - val_accuracy: 0.3567\n",
            "Epoch 4/15\n",
            "47/47 [==============================] - 5s 103ms/step - loss: 1.0825 - accuracy: 0.4047 - val_loss: 1.0412 - val_accuracy: 0.5020\n",
            "Epoch 5/15\n",
            "47/47 [==============================] - 5s 102ms/step - loss: 0.9594 - accuracy: 0.5483 - val_loss: 0.7837 - val_accuracy: 0.6687\n",
            "Epoch 5: early stopping\n"
          ]
        }
      ]
    },
    {
      "cell_type": "code",
      "source": [
        "plt.plot(lstm_no_hist.history['loss'], label='loss')\n",
        "plt.plot(lstm_no_hist.history['val_loss'], label = 'val_loss')\n",
        "plt.legend()"
      ],
      "metadata": {
        "colab": {
          "base_uri": "https://localhost:8080/",
          "height": 283
        },
        "id": "BkxP7fdz0gPo",
        "outputId": "c94fa247-9996-448b-f65e-c89bc02fa1de"
      },
      "execution_count": null,
      "outputs": [
        {
          "output_type": "execute_result",
          "data": {
            "text/plain": [
              "<matplotlib.legend.Legend at 0x7f64354b3910>"
            ]
          },
          "metadata": {},
          "execution_count": 46
        },
        {
          "output_type": "display_data",
          "data": {
            "text/plain": [
              "<Figure size 432x288 with 1 Axes>"
            ],
            "image/png": "[encoded data removed]"
          },
          "metadata": {}
        }
      ]
    },
    {
      "cell_type": "code",
      "source": [
        "plt.plot(lstm_no_hist.history['accuracy'], label= 'accuracy')\n",
        "plt.plot(lstm_no_hist.history['val_accuracy'], label='val_accuracy')\n",
        "plt.legend()"
      ],
      "metadata": {
        "colab": {
          "base_uri": "https://localhost:8080/",
          "height": 283
        },
        "id": "d2V45yc10hZs",
        "outputId": "f7bb5629-b2e0-4f48-993a-27f184d64ae8"
      },
      "execution_count": null,
      "outputs": [
        {
          "output_type": "execute_result",
          "data": {
            "text/plain": [
              "<matplotlib.legend.Legend at 0x7f64341c4290>"
            ]
          },
          "metadata": {},
          "execution_count": 47
        },
        {
          "output_type": "display_data",
          "data": {
            "text/plain": [
              "<Figure size 432x288 with 1 Axes>"
            ],
            "image/png": "[encoded data removed]"
          },
          "metadata": {}
        }
      ]
    },
    {
      "cell_type": "code",
      "source": [
        "df4_lstm.save('./drive/MyDrive/Colab Notebooks/CL/game/LSTM/df4_BiLSTM.h5')"
      ],
      "metadata": {
        "id": "xS1iYNM30iRU"
      },
      "execution_count": null,
      "outputs": []
    },
    {
      "cell_type": "markdown",
      "source": [
        "## Evaluate on other time data"
      ],
      "metadata": {
        "id": "tX_BIcgt0lTl"
      }
    },
    {
      "cell_type": "markdown",
      "source": [
        "### For 1997-2006"
      ],
      "metadata": {
        "id": "QLV2RCvc0ng8"
      }
    },
    {
      "cell_type": "code",
      "source": [
        "df1_model = load_model('./drive/MyDrive/Colab Notebooks/CL/game/LSTM/df1_BiLSTM.h5')\n",
        "df1_model.evaluate(df2_test_pad,df2_test_label)"
      ],
      "metadata": {
        "colab": {
          "base_uri": "https://localhost:8080/"
        },
        "id": "3IACRYh00j-0",
        "outputId": "0cf6f47b-9318-4337-8960-6f69e84fe306"
      },
      "execution_count": null,
      "outputs": [
        {
          "output_type": "stream",
          "name": "stdout",
          "text": [
            "94/94 [==============================] - 3s 19ms/step - loss: 2.7425 - accuracy: 0.3217\n"
          ]
        },
        {
          "output_type": "execute_result",
          "data": {
            "text/plain": [
              "[2.742539167404175, 0.3216666579246521]"
            ]
          },
          "metadata": {},
          "execution_count": 49
        }
      ]
    },
    {
      "cell_type": "code",
      "source": [
        "df1_model = load_model('./drive/MyDrive/Colab Notebooks/CL/game/LSTM/df1_BiLSTM.h5')\n",
        "df1_model.evaluate(df3_test_pad,df3_test_label)"
      ],
      "metadata": {
        "colab": {
          "base_uri": "https://localhost:8080/"
        },
        "id": "tIOnG_PR0rZq",
        "outputId": "9a7a7c1c-a45f-4490-896e-ec9588307889"
      },
      "execution_count": null,
      "outputs": [
        {
          "output_type": "stream",
          "name": "stdout",
          "text": [
            "94/94 [==============================] - 3s 21ms/step - loss: 1.9795 - accuracy: 0.3490\n"
          ]
        },
        {
          "output_type": "execute_result",
          "data": {
            "text/plain": [
              "[1.9795265197753906, 0.3490000069141388]"
            ]
          },
          "metadata": {},
          "execution_count": 50
        }
      ]
    },
    {
      "cell_type": "code",
      "source": [
        "df1_model = load_model('./drive/MyDrive/Colab Notebooks/CL/game/LSTM/df1_BiLSTM.h5')\n",
        "df1_model.evaluate(df4_test_pad,df4_test_label)"
      ],
      "metadata": {
        "colab": {
          "base_uri": "https://localhost:8080/"
        },
        "id": "SDqHmgxV0uAi",
        "outputId": "979997e0-ed7b-4710-98ad-1acbbd3da55f"
      },
      "execution_count": null,
      "outputs": [
        {
          "output_type": "stream",
          "name": "stdout",
          "text": [
            "94/94 [==============================] - 3s 19ms/step - loss: 1.9815 - accuracy: 0.3077\n"
          ]
        },
        {
          "output_type": "execute_result",
          "data": {
            "text/plain": [
              "[1.9815117120742798, 0.3076666593551636]"
            ]
          },
          "metadata": {},
          "execution_count": 51
        }
      ]
    },
    {
      "cell_type": "markdown",
      "source": [
        "### For 2007-2012"
      ],
      "metadata": {
        "id": "_6wT8W8h0x-4"
      }
    },
    {
      "cell_type": "code",
      "source": [
        "df2_model = load_model('./drive/MyDrive/Colab Notebooks/CL/game/LSTM/df2_BiLSTM.h5')\n",
        "df2_model.evaluate(df1_test_pad,df1_test_label)"
      ],
      "metadata": {
        "colab": {
          "base_uri": "https://localhost:8080/"
        },
        "id": "h9Exn4yB0yJa",
        "outputId": "e286e6a5-020b-47b2-9ac1-9fda624ddb80"
      },
      "execution_count": null,
      "outputs": [
        {
          "output_type": "stream",
          "name": "stdout",
          "text": [
            "94/94 [==============================] - 3s 20ms/step - loss: 2.6490 - accuracy: 0.3410\n"
          ]
        },
        {
          "output_type": "execute_result",
          "data": {
            "text/plain": [
              "[2.6489791870117188, 0.3409999907016754]"
            ]
          },
          "metadata": {},
          "execution_count": 52
        }
      ]
    },
    {
      "cell_type": "code",
      "source": [
        "df2_model = load_model('./drive/MyDrive/Colab Notebooks/CL/game/LSTM/df2_BiLSTM.h5')\n",
        "df2_model.evaluate(df3_test_pad,df3_test_label)"
      ],
      "metadata": {
        "colab": {
          "base_uri": "https://localhost:8080/"
        },
        "id": "M69uFIzA00mT",
        "outputId": "e9b24ee2-e76f-4b00-f42f-ef06e113a685"
      },
      "execution_count": null,
      "outputs": [
        {
          "output_type": "stream",
          "name": "stdout",
          "text": [
            "94/94 [==============================] - 4s 19ms/step - loss: 2.0447 - accuracy: 0.3247\n"
          ]
        },
        {
          "output_type": "execute_result",
          "data": {
            "text/plain": [
              "[2.044715166091919, 0.32466667890548706]"
            ]
          },
          "metadata": {},
          "execution_count": 53
        }
      ]
    },
    {
      "cell_type": "code",
      "source": [
        "df2_model = load_model('./drive/MyDrive/Colab Notebooks/CL/game/LSTM/df2_BiLSTM.h5')\n",
        "df2_model.evaluate(df4_test_pad,df4_test_label)"
      ],
      "metadata": {
        "colab": {
          "base_uri": "https://localhost:8080/"
        },
        "id": "9lpvuiGH00oL",
        "outputId": "4fda824a-b19e-4a09-fc25-1f894bdbb594"
      },
      "execution_count": null,
      "outputs": [
        {
          "output_type": "stream",
          "name": "stdout",
          "text": [
            "94/94 [==============================] - 3s 19ms/step - loss: 1.9651 - accuracy: 0.3483\n"
          ]
        },
        {
          "output_type": "execute_result",
          "data": {
            "text/plain": [
              "[1.965065598487854, 0.34833332896232605]"
            ]
          },
          "metadata": {},
          "execution_count": 54
        }
      ]
    },
    {
      "cell_type": "markdown",
      "source": [
        "### For 2013-2017"
      ],
      "metadata": {
        "id": "-39aLgZY07oT"
      }
    },
    {
      "cell_type": "code",
      "source": [
        "df3_model = load_model('./drive/MyDrive/Colab Notebooks/CL/game/LSTM/df3_BiLSTM.h5')\n",
        "df3_model.evaluate(df1_test_pad,df1_test_label)"
      ],
      "metadata": {
        "colab": {
          "base_uri": "https://localhost:8080/"
        },
        "id": "mrIo2eJB07-t",
        "outputId": "3628ed94-8c1b-4de0-c073-48155d9f5d97"
      },
      "execution_count": null,
      "outputs": [
        {
          "output_type": "stream",
          "name": "stdout",
          "text": [
            "94/94 [==============================] - 3s 19ms/step - loss: 2.6321 - accuracy: 0.3413\n"
          ]
        },
        {
          "output_type": "execute_result",
          "data": {
            "text/plain": [
              "[2.6321139335632324, 0.3413333296775818]"
            ]
          },
          "metadata": {},
          "execution_count": 55
        }
      ]
    },
    {
      "cell_type": "code",
      "source": [
        "df3_model = load_model('./drive/MyDrive/Colab Notebooks/CL/game/LSTM/df3_BiLSTM.h5')\n",
        "df3_model.evaluate(df2_test_pad,df2_test_label)"
      ],
      "metadata": {
        "colab": {
          "base_uri": "https://localhost:8080/"
        },
        "id": "wq9fw_Wo0_Ti",
        "outputId": "61392861-53ba-4673-9864-a56e76c74c63"
      },
      "execution_count": null,
      "outputs": [
        {
          "output_type": "stream",
          "name": "stdout",
          "text": [
            "94/94 [==============================] - 3s 19ms/step - loss: 2.3983 - accuracy: 0.3263\n"
          ]
        },
        {
          "output_type": "execute_result",
          "data": {
            "text/plain": [
              "[2.3983378410339355, 0.32633334398269653]"
            ]
          },
          "metadata": {},
          "execution_count": 56
        }
      ]
    },
    {
      "cell_type": "code",
      "source": [
        "df3_model = load_model('./drive/MyDrive/Colab Notebooks/CL/game/LSTM/df3_BiLSTM.h5')\n",
        "df3_model.evaluate(df4_test_pad,df4_test_label)"
      ],
      "metadata": {
        "colab": {
          "base_uri": "https://localhost:8080/"
        },
        "id": "UEVi3mWm0_Vi",
        "outputId": "79c5c8dc-6e8d-4652-b611-93297dff5742"
      },
      "execution_count": null,
      "outputs": [
        {
          "output_type": "stream",
          "name": "stdout",
          "text": [
            "94/94 [==============================] - 3s 19ms/step - loss: 1.7891 - accuracy: 0.3457\n"
          ]
        },
        {
          "output_type": "execute_result",
          "data": {
            "text/plain": [
              "[1.7891229391098022, 0.34566667675971985]"
            ]
          },
          "metadata": {},
          "execution_count": 57
        }
      ]
    },
    {
      "cell_type": "markdown",
      "source": [
        "### For 2018"
      ],
      "metadata": {
        "id": "YlhTVycC1SQK"
      }
    },
    {
      "cell_type": "code",
      "source": [
        "df4_model = load_model('./drive/MyDrive/Colab Notebooks/CL/game/LSTM/df4_BiLSTM.h5')\n",
        "df4_model.evaluate(df1_test_pad,df1_test_label)"
      ],
      "metadata": {
        "colab": {
          "base_uri": "https://localhost:8080/"
        },
        "id": "y3zluUc_1Slq",
        "outputId": "b9f06c71-22fe-41fa-fb7e-d0eee9b49672"
      },
      "execution_count": null,
      "outputs": [
        {
          "output_type": "stream",
          "name": "stdout",
          "text": [
            "94/94 [==============================] - 3s 19ms/step - loss: 1.8854 - accuracy: 0.3353\n"
          ]
        },
        {
          "output_type": "execute_result",
          "data": {
            "text/plain": [
              "[1.8854106664657593, 0.33533334732055664]"
            ]
          },
          "metadata": {},
          "execution_count": 58
        }
      ]
    },
    {
      "cell_type": "code",
      "source": [
        "df4_model = load_model('./drive/MyDrive/Colab Notebooks/CL/game/LSTM/df4_BiLSTM.h5')\n",
        "df4_model.evaluate(df2_test_pad,df2_test_label)"
      ],
      "metadata": {
        "colab": {
          "base_uri": "https://localhost:8080/"
        },
        "id": "PYes4G4v1Ui8",
        "outputId": "530088b4-43c4-45cc-d5cb-5e5dfc39d55b"
      },
      "execution_count": null,
      "outputs": [
        {
          "output_type": "stream",
          "name": "stdout",
          "text": [
            "94/94 [==============================] - 3s 19ms/step - loss: 1.7808 - accuracy: 0.3380\n"
          ]
        },
        {
          "output_type": "execute_result",
          "data": {
            "text/plain": [
              "[1.7808250188827515, 0.33799999952316284]"
            ]
          },
          "metadata": {},
          "execution_count": 59
        }
      ]
    },
    {
      "cell_type": "code",
      "source": [
        "df4_model = load_model('./drive/MyDrive/Colab Notebooks/CL/game/LSTM/df4_BiLSTM.h5')\n",
        "df4_model.evaluate(df3_test_pad,df3_test_label)"
      ],
      "metadata": {
        "colab": {
          "base_uri": "https://localhost:8080/"
        },
        "id": "-lJVtaLs1Ulg",
        "outputId": "c101109b-d304-4af2-9bf6-9c998ceb7204"
      },
      "execution_count": null,
      "outputs": [
        {
          "output_type": "stream",
          "name": "stdout",
          "text": [
            "94/94 [==============================] - 3s 19ms/step - loss: 1.4884 - accuracy: 0.3497\n"
          ]
        },
        {
          "output_type": "execute_result",
          "data": {
            "text/plain": [
              "[1.4883991479873657, 0.34966665506362915]"
            ]
          },
          "metadata": {},
          "execution_count": 60
        }
      ]
    },
    {
      "cell_type": "code",
      "source": [
        ""
      ],
      "metadata": {
        "id": "rQ-6fhk02JTc"
      },
      "execution_count": null,
      "outputs": []
    }
  ]
}