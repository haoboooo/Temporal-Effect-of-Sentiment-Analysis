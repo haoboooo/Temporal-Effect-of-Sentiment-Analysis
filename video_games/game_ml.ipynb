{
  "nbformat": 4,
  "nbformat_minor": 0,
  "metadata": {
    "colab": {
      "name": "game_ml.ipynb",
      "provenance": [],
      "machine_shape": "hm",
      "mount_file_id": "13f6FarNEamrBVdlsd82u7-uqtiXPCRBg",
      "authorship_tag": "ABX9TyOnMch0xVb5xcNKc8MNKgjR",
      "include_colab_link": true
    },
    "kernelspec": {
      "name": "python3",
      "display_name": "Python 3"
    },
    "language_info": {
      "name": "python"
    }
  },
  "cells": [
    {
      "cell_type": "markdown",
      "metadata": {
        "id": "view-in-github",
        "colab_type": "text"
      },
      "source": [
        "<a href=\"https://colab.research.google.com/github/haoboooo/Temporal-Generalization-of-Sentiment-Analysis-on-Amazon-Reviews/blob/main/video_games/game_ml.ipynb\" target=\"_parent\"><img src=\"https://colab.research.google.com/assets/colab-badge.svg\" alt=\"Open In Colab\"/></a>"
      ]
    },
    {
      "cell_type": "code",
      "execution_count": null,
      "metadata": {
        "colab": {
          "base_uri": "https://localhost:8080/"
        },
        "id": "HqWYqdCvSPJL",
        "outputId": "d82cf8e7-35a1-4693-8cfb-6717b191383e"
      },
      "outputs": [
        {
          "output_type": "stream",
          "name": "stdout",
          "text": [
            "Looking in indexes: https://pypi.org/simple, https://us-python.pkg.dev/colab-wheels/public/simple/\n",
            "Collecting emot\n",
            "  Downloading emot-3.1-py3-none-any.whl (61 kB)\n",
            "\u001b[?25l\r\u001b[K     |█████▎                          | 10 kB 18.3 MB/s eta 0:00:01\r\u001b[K     |██████████▋                     | 20 kB 8.6 MB/s eta 0:00:01\r\u001b[K     |████████████████                | 30 kB 7.3 MB/s eta 0:00:01\r\u001b[K     |█████████████████████▎          | 40 kB 7.0 MB/s eta 0:00:01\r\u001b[K     |██████████████████████████▋     | 51 kB 5.0 MB/s eta 0:00:01\r\u001b[K     |████████████████████████████████| 61 kB 5.5 MB/s eta 0:00:01\r\u001b[K     |████████████████████████████████| 61 kB 15 kB/s \n",
            "\u001b[?25hInstalling collected packages: emot\n",
            "Successfully installed emot-3.1\n"
          ]
        }
      ],
      "source": [
        "# install emoji library\n",
        "!pip install emot"
      ]
    },
    {
      "cell_type": "code",
      "source": [
        "import pandas as pd\n",
        "import numpy as np\n",
        "import string\n",
        "\n",
        "# store models\n",
        "import pickle\n",
        "from sklearn.pipeline import Pipeline\n",
        "\n",
        "# text preprocessing\n",
        "import nltk\n",
        "from nltk import word_tokenize\n",
        "from nltk.stem import PorterStemmer\n",
        "from nltk.corpus import stopwords\n",
        "import re\n",
        "from emot.emo_unicode import EMOTICONS_EMO, UNICODE_EMOJI\n",
        "\n",
        "# plots and metrics\n",
        "import matplotlib.pyplot as plt\n",
        "import seaborn as sns\n",
        "plt.style.use('ggplot')\n",
        "from sklearn.metrics import accuracy_score, f1_score, confusion_matrix\n",
        "\n",
        "# feature extraction / vectorization\n",
        "from sklearn.feature_extraction.text import CountVectorizer, TfidfVectorizer\n",
        "\n",
        "\n",
        "# classifiers\n",
        "from sklearn.naive_bayes import MultinomialNB\n",
        "from sklearn.linear_model import LogisticRegression, SGDClassifier\n",
        "from sklearn.ensemble import RandomForestClassifier\n",
        "from sklearn.svm import LinearSVC"
      ],
      "metadata": {
        "id": "-q60qwmNSY3e"
      },
      "execution_count": null,
      "outputs": []
    },
    {
      "cell_type": "code",
      "source": [
        "nltk.download('punkt')"
      ],
      "metadata": {
        "colab": {
          "base_uri": "https://localhost:8080/"
        },
        "id": "OAjG8TXXSaGK",
        "outputId": "000679dd-ccb6-4946-db85-5deab01006ba"
      },
      "execution_count": null,
      "outputs": [
        {
          "output_type": "stream",
          "name": "stdout",
          "text": [
            "[nltk_data] Downloading package punkt to /root/nltk_data...\n",
            "[nltk_data]   Unzipping tokenizers/punkt.zip.\n"
          ]
        },
        {
          "output_type": "execute_result",
          "data": {
            "text/plain": [
              "True"
            ]
          },
          "metadata": {},
          "execution_count": 3
        }
      ]
    },
    {
      "cell_type": "markdown",
      "source": [
        "## load the game data"
      ],
      "metadata": {
        "id": "5p3lh9zwSe3r"
      }
    },
    {
      "cell_type": "code",
      "source": [
        "file1 = \"./drive/MyDrive/Colab Notebooks/CL/game/97_06.csv\"\n",
        "file2 = \"./drive/MyDrive/Colab Notebooks/CL/game/07_12.csv\"\n",
        "file3 = \"./drive/MyDrive/Colab Notebooks/CL/game/13_17.csv\"\n",
        "file4 = \"./drive/MyDrive/Colab Notebooks/CL/game/18.csv\""
      ],
      "metadata": {
        "id": "FPzU08wHSdku"
      },
      "execution_count": null,
      "outputs": []
    },
    {
      "cell_type": "code",
      "source": [
        "def load_data(file):\n",
        "  # read csv data and set columns\n",
        "  df = pd.read_csv(file,usecols=['overall', 'reviewTime','reviewText'])\n",
        "\n",
        "  # remove the duplicates if any\n",
        "  df.duplicated('reviewText').sum()\n",
        "  df.drop_duplicates(subset=['reviewText'],inplace=True)\n",
        "  \n",
        "  # remove NaN rows\n",
        "  df.isnull().sum()\n",
        "  df.dropna(how='any',axis=0,inplace=True)\n",
        "  shape = df.shape\n",
        "  counts = df.overall.value_counts()# labels count\n",
        "\n",
        "  sns.countplot(df['overall']) # plot bar graph\n",
        "  fig = plt.gcf() # get current figure\n",
        "  fig.set_size_inches(5,5) # set the figure size\n",
        "  plt.title('overall') # add title to the figure\n",
        "\n",
        "  return df,shape,counts"
      ],
      "metadata": {
        "id": "XqQIBUluSo58"
      },
      "execution_count": null,
      "outputs": []
    },
    {
      "cell_type": "code",
      "source": [
        "# load data for 1997 - 2006\n",
        "df1,shape1,counts1 = load_data(file1)\n",
        "print(shape1)\n",
        "print(counts1)\n",
        "df1.head()"
      ],
      "metadata": {
        "colab": {
          "base_uri": "https://localhost:8080/",
          "height": 692
        },
        "id": "8__g_Jd4SqCZ",
        "outputId": "5899b065-e4ec-4e12-b7df-3d2b85cd49de"
      },
      "execution_count": null,
      "outputs": [
        {
          "output_type": "stream",
          "name": "stdout",
          "text": [
            "(95385, 3)\n",
            " 1.0    69406\n",
            "-1.0    18035\n",
            " 0.0     7944\n",
            "Name: overall, dtype: int64\n"
          ]
        },
        {
          "output_type": "stream",
          "name": "stderr",
          "text": [
            "/usr/local/lib/python3.7/dist-packages/seaborn/_decorators.py:43: FutureWarning: Pass the following variable as a keyword arg: x. From version 0.12, the only valid positional argument will be `data`, and passing other arguments without an explicit keyword will result in an error or misinterpretation.\n",
            "  FutureWarning\n"
          ]
        },
        {
          "output_type": "execute_result",
          "data": {
            "text/plain": [
              "   overall  reviewTime                                         reviewText\n",
              "0      1.0        2006  This game is a good time.  Especially if you h...\n",
              "1      0.0        2005  Don't expect the bells and whistles that you f...\n",
              "2      1.0        2005  It is fun to play this game, I really like it....\n",
              "3      1.0        2006  Here's the deal with this item: it's fine for ...\n",
              "4      0.0        2006  We bought this for Christmas for our three kid..."
            ],
            "text/html": [
              "\n",
              "  <div id=\"df-7ff6e099-9f78-4222-8eef-0486d69d71e3\">\n",
              "    <div class=\"colab-df-container\">\n",
              "      <div>\n",
              "<style scoped>\n",
              "    .dataframe tbody tr th:only-of-type {\n",
              "        vertical-align: middle;\n",
              "    }\n",
              "\n",
              "    .dataframe tbody tr th {\n",
              "        vertical-align: top;\n",
              "    }\n",
              "\n",
              "    .dataframe thead th {\n",
              "        text-align: right;\n",
              "    }\n",
              "</style>\n",
              "<table border=\"1\" class=\"dataframe\">\n",
              "  <thead>\n",
              "    <tr style=\"text-align: right;\">\n",
              "      <th></th>\n",
              "      <th>overall</th>\n",
              "      <th>reviewTime</th>\n",
              "      <th>reviewText</th>\n",
              "    </tr>\n",
              "  </thead>\n",
              "  <tbody>\n",
              "    <tr>\n",
              "      <th>0</th>\n",
              "      <td>1.0</td>\n",
              "      <td>2006</td>\n",
              "      <td>This game is a good time.  Especially if you h...</td>\n",
              "    </tr>\n",
              "    <tr>\n",
              "      <th>1</th>\n",
              "      <td>0.0</td>\n",
              "      <td>2005</td>\n",
              "      <td>Don't expect the bells and whistles that you f...</td>\n",
              "    </tr>\n",
              "    <tr>\n",
              "      <th>2</th>\n",
              "      <td>1.0</td>\n",
              "      <td>2005</td>\n",
              "      <td>It is fun to play this game, I really like it....</td>\n",
              "    </tr>\n",
              "    <tr>\n",
              "      <th>3</th>\n",
              "      <td>1.0</td>\n",
              "      <td>2006</td>\n",
              "      <td>Here's the deal with this item: it's fine for ...</td>\n",
              "    </tr>\n",
              "    <tr>\n",
              "      <th>4</th>\n",
              "      <td>0.0</td>\n",
              "      <td>2006</td>\n",
              "      <td>We bought this for Christmas for our three kid...</td>\n",
              "    </tr>\n",
              "  </tbody>\n",
              "</table>\n",
              "</div>\n",
              "      <button class=\"colab-df-convert\" onclick=\"convertToInteractive('df-7ff6e099-9f78-4222-8eef-0486d69d71e3')\"\n",
              "              title=\"Convert this dataframe to an interactive table.\"\n",
              "              style=\"display:none;\">\n",
              "        \n",
              "  <svg xmlns=\"http://www.w3.org/2000/svg\" height=\"24px\"viewBox=\"0 0 24 24\"\n",
              "       width=\"24px\">\n",
              "    <path d=\"M0 0h24v24H0V0z\" fill=\"none\"/>\n",
              "    <path d=\"M18.56 5.44l.94 2.06.94-2.06 2.06-.94-2.06-.94-.94-2.06-.94 2.06-2.06.94zm-11 1L8.5 8.5l.94-2.06 2.06-.94-2.06-.94L8.5 2.5l-.94 2.06-2.06.94zm10 10l.94 2.06.94-2.06 2.06-.94-2.06-.94-.94-2.06-.94 2.06-2.06.94z\"/><path d=\"M17.41 7.96l-1.37-1.37c-.4-.4-.92-.59-1.43-.59-.52 0-1.04.2-1.43.59L10.3 9.45l-7.72 7.72c-.78.78-.78 2.05 0 2.83L4 21.41c.39.39.9.59 1.41.59.51 0 1.02-.2 1.41-.59l7.78-7.78 2.81-2.81c.8-.78.8-2.07 0-2.86zM5.41 20L4 18.59l7.72-7.72 1.47 1.35L5.41 20z\"/>\n",
              "  </svg>\n",
              "      </button>\n",
              "      \n",
              "  <style>\n",
              "    .colab-df-container {\n",
              "      display:flex;\n",
              "      flex-wrap:wrap;\n",
              "      gap: 12px;\n",
              "    }\n",
              "\n",
              "    .colab-df-convert {\n",
              "      background-color: #E8F0FE;\n",
              "      border: none;\n",
              "      border-radius: 50%;\n",
              "      cursor: pointer;\n",
              "      display: none;\n",
              "      fill: #1967D2;\n",
              "      height: 32px;\n",
              "      padding: 0 0 0 0;\n",
              "      width: 32px;\n",
              "    }\n",
              "\n",
              "    .colab-df-convert:hover {\n",
              "      background-color: #E2EBFA;\n",
              "      box-shadow: 0px 1px 2px rgba(60, 64, 67, 0.3), 0px 1px 3px 1px rgba(60, 64, 67, 0.15);\n",
              "      fill: #174EA6;\n",
              "    }\n",
              "\n",
              "    [theme=dark] .colab-df-convert {\n",
              "      background-color: #3B4455;\n",
              "      fill: #D2E3FC;\n",
              "    }\n",
              "\n",
              "    [theme=dark] .colab-df-convert:hover {\n",
              "      background-color: #434B5C;\n",
              "      box-shadow: 0px 1px 3px 1px rgba(0, 0, 0, 0.15);\n",
              "      filter: drop-shadow(0px 1px 2px rgba(0, 0, 0, 0.3));\n",
              "      fill: #FFFFFF;\n",
              "    }\n",
              "  </style>\n",
              "\n",
              "      <script>\n",
              "        const buttonEl =\n",
              "          document.querySelector('#df-7ff6e099-9f78-4222-8eef-0486d69d71e3 button.colab-df-convert');\n",
              "        buttonEl.style.display =\n",
              "          google.colab.kernel.accessAllowed ? 'block' : 'none';\n",
              "\n",
              "        async function convertToInteractive(key) {\n",
              "          const element = document.querySelector('#df-7ff6e099-9f78-4222-8eef-0486d69d71e3');\n",
              "          const dataTable =\n",
              "            await google.colab.kernel.invokeFunction('convertToInteractive',\n",
              "                                                     [key], {});\n",
              "          if (!dataTable) return;\n",
              "\n",
              "          const docLinkHtml = 'Like what you see? Visit the ' +\n",
              "            '<a target=\"_blank\" href=https://colab.research.google.com/notebooks/data_table.ipynb>data table notebook</a>'\n",
              "            + ' to learn more about interactive tables.';\n",
              "          element.innerHTML = '';\n",
              "          dataTable['output_type'] = 'display_data';\n",
              "          await google.colab.output.renderOutput(dataTable, element);\n",
              "          const docLink = document.createElement('div');\n",
              "          docLink.innerHTML = docLinkHtml;\n",
              "          element.appendChild(docLink);\n",
              "        }\n",
              "      </script>\n",
              "    </div>\n",
              "  </div>\n",
              "  "
            ]
          },
          "metadata": {},
          "execution_count": 6
        },
        {
          "output_type": "display_data",
          "data": {
            "text/plain": [
              "<Figure size 360x360 with 1 Axes>"
            ],
            "image/png": "[encoded data removed]"
          },
          "metadata": {}
        }
      ]
    },
    {
      "cell_type": "code",
      "source": [
        "# load data for 2007 - 2012\n",
        "df2,shape2,counts2 = load_data(file2)\n",
        "print(shape2)\n",
        "print(counts2)\n",
        "df2.head()"
      ],
      "metadata": {
        "colab": {
          "base_uri": "https://localhost:8080/",
          "height": 692
        },
        "id": "LgQBso02Ss4V",
        "outputId": "fe3219f2-5ea2-4011-abe7-3449af14f912"
      },
      "execution_count": null,
      "outputs": [
        {
          "output_type": "stream",
          "name": "stdout",
          "text": [
            "(273501, 3)\n",
            " 1.0    193149\n",
            "-1.0     55507\n",
            " 0.0     24845\n",
            "Name: overall, dtype: int64\n"
          ]
        },
        {
          "output_type": "stream",
          "name": "stderr",
          "text": [
            "/usr/local/lib/python3.7/dist-packages/seaborn/_decorators.py:43: FutureWarning: Pass the following variable as a keyword arg: x. From version 0.12, the only valid positional argument will be `data`, and passing other arguments without an explicit keyword will result in an error or misinterpretation.\n",
            "  FutureWarning\n"
          ]
        },
        {
          "output_type": "execute_result",
          "data": {
            "text/plain": [
              "   overall  reviewTime                                         reviewText\n",
              "0      1.0        2012  I oredered this for a daughter who is now 33 a...\n",
              "1      1.0        2010  Well I thought since this idem didn't have any...\n",
              "2      1.0        2012  Good game. Good graphics. A bit of a learning ...\n",
              "3     -1.0        2012  If you buy this game, you will regret it.  If ...\n",
              "4      1.0        2012  4 Stars because they like it and play it often..."
            ],
            "text/html": [
              "\n",
              "  <div id=\"df-d860d9a5-0d6c-4c49-b9ed-a058e5865198\">\n",
              "    <div class=\"colab-df-container\">\n",
              "      <div>\n",
              "<style scoped>\n",
              "    .dataframe tbody tr th:only-of-type {\n",
              "        vertical-align: middle;\n",
              "    }\n",
              "\n",
              "    .dataframe tbody tr th {\n",
              "        vertical-align: top;\n",
              "    }\n",
              "\n",
              "    .dataframe thead th {\n",
              "        text-align: right;\n",
              "    }\n",
              "</style>\n",
              "<table border=\"1\" class=\"dataframe\">\n",
              "  <thead>\n",
              "    <tr style=\"text-align: right;\">\n",
              "      <th></th>\n",
              "      <th>overall</th>\n",
              "      <th>reviewTime</th>\n",
              "      <th>reviewText</th>\n",
              "    </tr>\n",
              "  </thead>\n",
              "  <tbody>\n",
              "    <tr>\n",
              "      <th>0</th>\n",
              "      <td>1.0</td>\n",
              "      <td>2012</td>\n",
              "      <td>I oredered this for a daughter who is now 33 a...</td>\n",
              "    </tr>\n",
              "    <tr>\n",
              "      <th>1</th>\n",
              "      <td>1.0</td>\n",
              "      <td>2010</td>\n",
              "      <td>Well I thought since this idem didn't have any...</td>\n",
              "    </tr>\n",
              "    <tr>\n",
              "      <th>2</th>\n",
              "      <td>1.0</td>\n",
              "      <td>2012</td>\n",
              "      <td>Good game. Good graphics. A bit of a learning ...</td>\n",
              "    </tr>\n",
              "    <tr>\n",
              "      <th>3</th>\n",
              "      <td>-1.0</td>\n",
              "      <td>2012</td>\n",
              "      <td>If you buy this game, you will regret it.  If ...</td>\n",
              "    </tr>\n",
              "    <tr>\n",
              "      <th>4</th>\n",
              "      <td>1.0</td>\n",
              "      <td>2012</td>\n",
              "      <td>4 Stars because they like it and play it often...</td>\n",
              "    </tr>\n",
              "  </tbody>\n",
              "</table>\n",
              "</div>\n",
              "      <button class=\"colab-df-convert\" onclick=\"convertToInteractive('df-d860d9a5-0d6c-4c49-b9ed-a058e5865198')\"\n",
              "              title=\"Convert this dataframe to an interactive table.\"\n",
              "              style=\"display:none;\">\n",
              "        \n",
              "  <svg xmlns=\"http://www.w3.org/2000/svg\" height=\"24px\"viewBox=\"0 0 24 24\"\n",
              "       width=\"24px\">\n",
              "    <path d=\"M0 0h24v24H0V0z\" fill=\"none\"/>\n",
              "    <path d=\"M18.56 5.44l.94 2.06.94-2.06 2.06-.94-2.06-.94-.94-2.06-.94 2.06-2.06.94zm-11 1L8.5 8.5l.94-2.06 2.06-.94-2.06-.94L8.5 2.5l-.94 2.06-2.06.94zm10 10l.94 2.06.94-2.06 2.06-.94-2.06-.94-.94-2.06-.94 2.06-2.06.94z\"/><path d=\"M17.41 7.96l-1.37-1.37c-.4-.4-.92-.59-1.43-.59-.52 0-1.04.2-1.43.59L10.3 9.45l-7.72 7.72c-.78.78-.78 2.05 0 2.83L4 21.41c.39.39.9.59 1.41.59.51 0 1.02-.2 1.41-.59l7.78-7.78 2.81-2.81c.8-.78.8-2.07 0-2.86zM5.41 20L4 18.59l7.72-7.72 1.47 1.35L5.41 20z\"/>\n",
              "  </svg>\n",
              "      </button>\n",
              "      \n",
              "  <style>\n",
              "    .colab-df-container {\n",
              "      display:flex;\n",
              "      flex-wrap:wrap;\n",
              "      gap: 12px;\n",
              "    }\n",
              "\n",
              "    .colab-df-convert {\n",
              "      background-color: #E8F0FE;\n",
              "      border: none;\n",
              "      border-radius: 50%;\n",
              "      cursor: pointer;\n",
              "      display: none;\n",
              "      fill: #1967D2;\n",
              "      height: 32px;\n",
              "      padding: 0 0 0 0;\n",
              "      width: 32px;\n",
              "    }\n",
              "\n",
              "    .colab-df-convert:hover {\n",
              "      background-color: #E2EBFA;\n",
              "      box-shadow: 0px 1px 2px rgba(60, 64, 67, 0.3), 0px 1px 3px 1px rgba(60, 64, 67, 0.15);\n",
              "      fill: #174EA6;\n",
              "    }\n",
              "\n",
              "    [theme=dark] .colab-df-convert {\n",
              "      background-color: #3B4455;\n",
              "      fill: #D2E3FC;\n",
              "    }\n",
              "\n",
              "    [theme=dark] .colab-df-convert:hover {\n",
              "      background-color: #434B5C;\n",
              "      box-shadow: 0px 1px 3px 1px rgba(0, 0, 0, 0.15);\n",
              "      filter: drop-shadow(0px 1px 2px rgba(0, 0, 0, 0.3));\n",
              "      fill: #FFFFFF;\n",
              "    }\n",
              "  </style>\n",
              "\n",
              "      <script>\n",
              "        const buttonEl =\n",
              "          document.querySelector('#df-d860d9a5-0d6c-4c49-b9ed-a058e5865198 button.colab-df-convert');\n",
              "        buttonEl.style.display =\n",
              "          google.colab.kernel.accessAllowed ? 'block' : 'none';\n",
              "\n",
              "        async function convertToInteractive(key) {\n",
              "          const element = document.querySelector('#df-d860d9a5-0d6c-4c49-b9ed-a058e5865198');\n",
              "          const dataTable =\n",
              "            await google.colab.kernel.invokeFunction('convertToInteractive',\n",
              "                                                     [key], {});\n",
              "          if (!dataTable) return;\n",
              "\n",
              "          const docLinkHtml = 'Like what you see? Visit the ' +\n",
              "            '<a target=\"_blank\" href=https://colab.research.google.com/notebooks/data_table.ipynb>data table notebook</a>'\n",
              "            + ' to learn more about interactive tables.';\n",
              "          element.innerHTML = '';\n",
              "          dataTable['output_type'] = 'display_data';\n",
              "          await google.colab.output.renderOutput(dataTable, element);\n",
              "          const docLink = document.createElement('div');\n",
              "          docLink.innerHTML = docLinkHtml;\n",
              "          element.appendChild(docLink);\n",
              "        }\n",
              "      </script>\n",
              "    </div>\n",
              "  </div>\n",
              "  "
            ]
          },
          "metadata": {},
          "execution_count": 7
        },
        {
          "output_type": "display_data",
          "data": {
            "text/plain": [
              "<Figure size 360x360 with 1 Axes>"
            ],
            "image/png": "[encoded data removed]"
          },
          "metadata": {}
        }
      ]
    },
    {
      "cell_type": "code",
      "source": [
        "# load data for 2013 - 2017\n",
        "df3,shape3,counts3 = load_data(file3)\n",
        "print(shape3)\n",
        "print(counts3)\n",
        "df3.head()"
      ],
      "metadata": {
        "colab": {
          "base_uri": "https://localhost:8080/",
          "height": 692
        },
        "id": "McIk7TPtSwq3",
        "outputId": "a9c37b34-a597-4a20-b8c2-140d677ac38e"
      },
      "execution_count": null,
      "outputs": [
        {
          "output_type": "stream",
          "name": "stderr",
          "text": [
            "/usr/local/lib/python3.7/dist-packages/seaborn/_decorators.py:43: FutureWarning: Pass the following variable as a keyword arg: x. From version 0.12, the only valid positional argument will be `data`, and passing other arguments without an explicit keyword will result in an error or misinterpretation.\n",
            "  FutureWarning\n"
          ]
        },
        {
          "output_type": "stream",
          "name": "stdout",
          "text": [
            "(957163, 3)\n",
            " 1.0    672584\n",
            "-1.0    210099\n",
            " 0.0     74480\n",
            "Name: overall, dtype: int64\n"
          ]
        },
        {
          "output_type": "execute_result",
          "data": {
            "text/plain": [
              "   overall  reviewTime                                         reviewText\n",
              "0     -1.0        2014  I used to play this game years ago and loved i...\n",
              "1      0.0        2014  The game itself worked great but the story lin...\n",
              "2      1.0        2014  I had to learn the hard way after ordering thi...\n",
              "3     -1.0        2014  The product description should state this clea...\n",
              "4      1.0        2014  I would recommend this learning game for anyon..."
            ],
            "text/html": [
              "\n",
              "  <div id=\"df-2064b3d4-4d0a-4bfa-95b0-9323cd83d701\">\n",
              "    <div class=\"colab-df-container\">\n",
              "      <div>\n",
              "<style scoped>\n",
              "    .dataframe tbody tr th:only-of-type {\n",
              "        vertical-align: middle;\n",
              "    }\n",
              "\n",
              "    .dataframe tbody tr th {\n",
              "        vertical-align: top;\n",
              "    }\n",
              "\n",
              "    .dataframe thead th {\n",
              "        text-align: right;\n",
              "    }\n",
              "</style>\n",
              "<table border=\"1\" class=\"dataframe\">\n",
              "  <thead>\n",
              "    <tr style=\"text-align: right;\">\n",
              "      <th></th>\n",
              "      <th>overall</th>\n",
              "      <th>reviewTime</th>\n",
              "      <th>reviewText</th>\n",
              "    </tr>\n",
              "  </thead>\n",
              "  <tbody>\n",
              "    <tr>\n",
              "      <th>0</th>\n",
              "      <td>-1.0</td>\n",
              "      <td>2014</td>\n",
              "      <td>I used to play this game years ago and loved i...</td>\n",
              "    </tr>\n",
              "    <tr>\n",
              "      <th>1</th>\n",
              "      <td>0.0</td>\n",
              "      <td>2014</td>\n",
              "      <td>The game itself worked great but the story lin...</td>\n",
              "    </tr>\n",
              "    <tr>\n",
              "      <th>2</th>\n",
              "      <td>1.0</td>\n",
              "      <td>2014</td>\n",
              "      <td>I had to learn the hard way after ordering thi...</td>\n",
              "    </tr>\n",
              "    <tr>\n",
              "      <th>3</th>\n",
              "      <td>-1.0</td>\n",
              "      <td>2014</td>\n",
              "      <td>The product description should state this clea...</td>\n",
              "    </tr>\n",
              "    <tr>\n",
              "      <th>4</th>\n",
              "      <td>1.0</td>\n",
              "      <td>2014</td>\n",
              "      <td>I would recommend this learning game for anyon...</td>\n",
              "    </tr>\n",
              "  </tbody>\n",
              "</table>\n",
              "</div>\n",
              "      <button class=\"colab-df-convert\" onclick=\"convertToInteractive('df-2064b3d4-4d0a-4bfa-95b0-9323cd83d701')\"\n",
              "              title=\"Convert this dataframe to an interactive table.\"\n",
              "              style=\"display:none;\">\n",
              "        \n",
              "  <svg xmlns=\"http://www.w3.org/2000/svg\" height=\"24px\"viewBox=\"0 0 24 24\"\n",
              "       width=\"24px\">\n",
              "    <path d=\"M0 0h24v24H0V0z\" fill=\"none\"/>\n",
              "    <path d=\"M18.56 5.44l.94 2.06.94-2.06 2.06-.94-2.06-.94-.94-2.06-.94 2.06-2.06.94zm-11 1L8.5 8.5l.94-2.06 2.06-.94-2.06-.94L8.5 2.5l-.94 2.06-2.06.94zm10 10l.94 2.06.94-2.06 2.06-.94-2.06-.94-.94-2.06-.94 2.06-2.06.94z\"/><path d=\"M17.41 7.96l-1.37-1.37c-.4-.4-.92-.59-1.43-.59-.52 0-1.04.2-1.43.59L10.3 9.45l-7.72 7.72c-.78.78-.78 2.05 0 2.83L4 21.41c.39.39.9.59 1.41.59.51 0 1.02-.2 1.41-.59l7.78-7.78 2.81-2.81c.8-.78.8-2.07 0-2.86zM5.41 20L4 18.59l7.72-7.72 1.47 1.35L5.41 20z\"/>\n",
              "  </svg>\n",
              "      </button>\n",
              "      \n",
              "  <style>\n",
              "    .colab-df-container {\n",
              "      display:flex;\n",
              "      flex-wrap:wrap;\n",
              "      gap: 12px;\n",
              "    }\n",
              "\n",
              "    .colab-df-convert {\n",
              "      background-color: #E8F0FE;\n",
              "      border: none;\n",
              "      border-radius: 50%;\n",
              "      cursor: pointer;\n",
              "      display: none;\n",
              "      fill: #1967D2;\n",
              "      height: 32px;\n",
              "      padding: 0 0 0 0;\n",
              "      width: 32px;\n",
              "    }\n",
              "\n",
              "    .colab-df-convert:hover {\n",
              "      background-color: #E2EBFA;\n",
              "      box-shadow: 0px 1px 2px rgba(60, 64, 67, 0.3), 0px 1px 3px 1px rgba(60, 64, 67, 0.15);\n",
              "      fill: #174EA6;\n",
              "    }\n",
              "\n",
              "    [theme=dark] .colab-df-convert {\n",
              "      background-color: #3B4455;\n",
              "      fill: #D2E3FC;\n",
              "    }\n",
              "\n",
              "    [theme=dark] .colab-df-convert:hover {\n",
              "      background-color: #434B5C;\n",
              "      box-shadow: 0px 1px 3px 1px rgba(0, 0, 0, 0.15);\n",
              "      filter: drop-shadow(0px 1px 2px rgba(0, 0, 0, 0.3));\n",
              "      fill: #FFFFFF;\n",
              "    }\n",
              "  </style>\n",
              "\n",
              "      <script>\n",
              "        const buttonEl =\n",
              "          document.querySelector('#df-2064b3d4-4d0a-4bfa-95b0-9323cd83d701 button.colab-df-convert');\n",
              "        buttonEl.style.display =\n",
              "          google.colab.kernel.accessAllowed ? 'block' : 'none';\n",
              "\n",
              "        async function convertToInteractive(key) {\n",
              "          const element = document.querySelector('#df-2064b3d4-4d0a-4bfa-95b0-9323cd83d701');\n",
              "          const dataTable =\n",
              "            await google.colab.kernel.invokeFunction('convertToInteractive',\n",
              "                                                     [key], {});\n",
              "          if (!dataTable) return;\n",
              "\n",
              "          const docLinkHtml = 'Like what you see? Visit the ' +\n",
              "            '<a target=\"_blank\" href=https://colab.research.google.com/notebooks/data_table.ipynb>data table notebook</a>'\n",
              "            + ' to learn more about interactive tables.';\n",
              "          element.innerHTML = '';\n",
              "          dataTable['output_type'] = 'display_data';\n",
              "          await google.colab.output.renderOutput(dataTable, element);\n",
              "          const docLink = document.createElement('div');\n",
              "          docLink.innerHTML = docLinkHtml;\n",
              "          element.appendChild(docLink);\n",
              "        }\n",
              "      </script>\n",
              "    </div>\n",
              "  </div>\n",
              "  "
            ]
          },
          "metadata": {},
          "execution_count": 8
        },
        {
          "output_type": "display_data",
          "data": {
            "text/plain": [
              "<Figure size 360x360 with 1 Axes>"
            ],
            "image/png": "[encoded data removed]"
          },
          "metadata": {}
        }
      ]
    },
    {
      "cell_type": "code",
      "source": [
        "# load data for 2018\n",
        "df4,shape4,counts4 = load_data(file4)\n",
        "print(shape4)\n",
        "print(counts4)\n",
        "df4.head()"
      ],
      "metadata": {
        "colab": {
          "base_uri": "https://localhost:8080/",
          "height": 692
        },
        "id": "ct7Ok2vnSzZ2",
        "outputId": "2f02aa64-7fcd-4a24-db6a-f764945dc7b8"
      },
      "execution_count": null,
      "outputs": [
        {
          "output_type": "stream",
          "name": "stdout",
          "text": [
            "(80396, 3)\n",
            " 1.0    52744\n",
            "-1.0    21618\n",
            " 0.0     6034\n",
            "Name: overall, dtype: int64\n"
          ]
        },
        {
          "output_type": "stream",
          "name": "stderr",
          "text": [
            "/usr/local/lib/python3.7/dist-packages/seaborn/_decorators.py:43: FutureWarning: Pass the following variable as a keyword arg: x. From version 0.12, the only valid positional argument will be `data`, and passing other arguments without an explicit keyword will result in an error or misinterpretation.\n",
            "  FutureWarning\n"
          ]
        },
        {
          "output_type": "execute_result",
          "data": {
            "text/plain": [
              "   overall  reviewTime                                         reviewText\n",
              "0      1.0        2018         No complaints! Sing your little heart out!\n",
              "1      1.0        2018  Works great with Xbox 360. I have 2 of these u...\n",
              "2      1.0        2018  The game was perfect and super clean. Very ple...\n",
              "3      1.0        2018  It was perfect gift. Got it for Christmas and ...\n",
              "4      1.0        2018                                           Lik3d it"
            ],
            "text/html": [
              "\n",
              "  <div id=\"df-d77bc7cf-0716-4818-bbda-77e6cb31c7e8\">\n",
              "    <div class=\"colab-df-container\">\n",
              "      <div>\n",
              "<style scoped>\n",
              "    .dataframe tbody tr th:only-of-type {\n",
              "        vertical-align: middle;\n",
              "    }\n",
              "\n",
              "    .dataframe tbody tr th {\n",
              "        vertical-align: top;\n",
              "    }\n",
              "\n",
              "    .dataframe thead th {\n",
              "        text-align: right;\n",
              "    }\n",
              "</style>\n",
              "<table border=\"1\" class=\"dataframe\">\n",
              "  <thead>\n",
              "    <tr style=\"text-align: right;\">\n",
              "      <th></th>\n",
              "      <th>overall</th>\n",
              "      <th>reviewTime</th>\n",
              "      <th>reviewText</th>\n",
              "    </tr>\n",
              "  </thead>\n",
              "  <tbody>\n",
              "    <tr>\n",
              "      <th>0</th>\n",
              "      <td>1.0</td>\n",
              "      <td>2018</td>\n",
              "      <td>No complaints! Sing your little heart out!</td>\n",
              "    </tr>\n",
              "    <tr>\n",
              "      <th>1</th>\n",
              "      <td>1.0</td>\n",
              "      <td>2018</td>\n",
              "      <td>Works great with Xbox 360. I have 2 of these u...</td>\n",
              "    </tr>\n",
              "    <tr>\n",
              "      <th>2</th>\n",
              "      <td>1.0</td>\n",
              "      <td>2018</td>\n",
              "      <td>The game was perfect and super clean. Very ple...</td>\n",
              "    </tr>\n",
              "    <tr>\n",
              "      <th>3</th>\n",
              "      <td>1.0</td>\n",
              "      <td>2018</td>\n",
              "      <td>It was perfect gift. Got it for Christmas and ...</td>\n",
              "    </tr>\n",
              "    <tr>\n",
              "      <th>4</th>\n",
              "      <td>1.0</td>\n",
              "      <td>2018</td>\n",
              "      <td>Lik3d it</td>\n",
              "    </tr>\n",
              "  </tbody>\n",
              "</table>\n",
              "</div>\n",
              "      <button class=\"colab-df-convert\" onclick=\"convertToInteractive('df-d77bc7cf-0716-4818-bbda-77e6cb31c7e8')\"\n",
              "              title=\"Convert this dataframe to an interactive table.\"\n",
              "              style=\"display:none;\">\n",
              "        \n",
              "  <svg xmlns=\"http://www.w3.org/2000/svg\" height=\"24px\"viewBox=\"0 0 24 24\"\n",
              "       width=\"24px\">\n",
              "    <path d=\"M0 0h24v24H0V0z\" fill=\"none\"/>\n",
              "    <path d=\"M18.56 5.44l.94 2.06.94-2.06 2.06-.94-2.06-.94-.94-2.06-.94 2.06-2.06.94zm-11 1L8.5 8.5l.94-2.06 2.06-.94-2.06-.94L8.5 2.5l-.94 2.06-2.06.94zm10 10l.94 2.06.94-2.06 2.06-.94-2.06-.94-.94-2.06-.94 2.06-2.06.94z\"/><path d=\"M17.41 7.96l-1.37-1.37c-.4-.4-.92-.59-1.43-.59-.52 0-1.04.2-1.43.59L10.3 9.45l-7.72 7.72c-.78.78-.78 2.05 0 2.83L4 21.41c.39.39.9.59 1.41.59.51 0 1.02-.2 1.41-.59l7.78-7.78 2.81-2.81c.8-.78.8-2.07 0-2.86zM5.41 20L4 18.59l7.72-7.72 1.47 1.35L5.41 20z\"/>\n",
              "  </svg>\n",
              "      </button>\n",
              "      \n",
              "  <style>\n",
              "    .colab-df-container {\n",
              "      display:flex;\n",
              "      flex-wrap:wrap;\n",
              "      gap: 12px;\n",
              "    }\n",
              "\n",
              "    .colab-df-convert {\n",
              "      background-color: #E8F0FE;\n",
              "      border: none;\n",
              "      border-radius: 50%;\n",
              "      cursor: pointer;\n",
              "      display: none;\n",
              "      fill: #1967D2;\n",
              "      height: 32px;\n",
              "      padding: 0 0 0 0;\n",
              "      width: 32px;\n",
              "    }\n",
              "\n",
              "    .colab-df-convert:hover {\n",
              "      background-color: #E2EBFA;\n",
              "      box-shadow: 0px 1px 2px rgba(60, 64, 67, 0.3), 0px 1px 3px 1px rgba(60, 64, 67, 0.15);\n",
              "      fill: #174EA6;\n",
              "    }\n",
              "\n",
              "    [theme=dark] .colab-df-convert {\n",
              "      background-color: #3B4455;\n",
              "      fill: #D2E3FC;\n",
              "    }\n",
              "\n",
              "    [theme=dark] .colab-df-convert:hover {\n",
              "      background-color: #434B5C;\n",
              "      box-shadow: 0px 1px 3px 1px rgba(0, 0, 0, 0.15);\n",
              "      filter: drop-shadow(0px 1px 2px rgba(0, 0, 0, 0.3));\n",
              "      fill: #FFFFFF;\n",
              "    }\n",
              "  </style>\n",
              "\n",
              "      <script>\n",
              "        const buttonEl =\n",
              "          document.querySelector('#df-d77bc7cf-0716-4818-bbda-77e6cb31c7e8 button.colab-df-convert');\n",
              "        buttonEl.style.display =\n",
              "          google.colab.kernel.accessAllowed ? 'block' : 'none';\n",
              "\n",
              "        async function convertToInteractive(key) {\n",
              "          const element = document.querySelector('#df-d77bc7cf-0716-4818-bbda-77e6cb31c7e8');\n",
              "          const dataTable =\n",
              "            await google.colab.kernel.invokeFunction('convertToInteractive',\n",
              "                                                     [key], {});\n",
              "          if (!dataTable) return;\n",
              "\n",
              "          const docLinkHtml = 'Like what you see? Visit the ' +\n",
              "            '<a target=\"_blank\" href=https://colab.research.google.com/notebooks/data_table.ipynb>data table notebook</a>'\n",
              "            + ' to learn more about interactive tables.';\n",
              "          element.innerHTML = '';\n",
              "          dataTable['output_type'] = 'display_data';\n",
              "          await google.colab.output.renderOutput(dataTable, element);\n",
              "          const docLink = document.createElement('div');\n",
              "          docLink.innerHTML = docLinkHtml;\n",
              "          element.appendChild(docLink);\n",
              "        }\n",
              "      </script>\n",
              "    </div>\n",
              "  </div>\n",
              "  "
            ]
          },
          "metadata": {},
          "execution_count": 9
        },
        {
          "output_type": "display_data",
          "data": {
            "text/plain": [
              "<Figure size 360x360 with 1 Axes>"
            ],
            "image/png": "[encoded data removed]"
          },
          "metadata": {}
        }
      ]
    },
    {
      "cell_type": "markdown",
      "source": [
        "## Split and Balance train&test"
      ],
      "metadata": {
        "id": "NukVz7qWS-6-"
      }
    },
    {
      "cell_type": "markdown",
      "source": [
        "#### Split and Balance for each time period"
      ],
      "metadata": {
        "id": "CTeti2-g1H3J"
      }
    },
    {
      "cell_type": "code",
      "source": [
        "def split_balance(df,counts):\n",
        "  # get data of each class\n",
        "  groups = df.groupby(df.overall)\n",
        "  pos = groups.get_group(1)\n",
        "  neu = groups.get_group(0)\n",
        "  neg = groups.get_group(-1)\n",
        "\n",
        "  # shuffle the dataframe\n",
        "  pos = pos.sample(frac=1.0)\n",
        "  neu = neu.sample(frac=1.0)\n",
        "  neg = neg.sample(frac=1.0)\n",
        "\n",
        "  # compute the index to split 80% for train 20% for test\n",
        "  posind = int(counts[1]*0.8)\n",
        "  neuind = int(counts[0]*0.8)\n",
        "  negind = int(counts[-1]*0.8)\n",
        "\n",
        "  # split to get train for each class\n",
        "  pos_train = pos.iloc[:posind,:]\n",
        "  neu_train = neu.iloc[:neuind,:]\n",
        "  neg_train = neg.iloc[:negind,:]\n",
        "\n",
        "  # split to get test for each class\n",
        "  pos_test = pos.iloc[posind:,:]\n",
        "  neu_test = neu.iloc[neuind:,:]\n",
        "  neg_test = neg.iloc[negind:,:]\n",
        "\n",
        "  # combine train dataset\n",
        "  df_train = pd.concat([pos_train, neu_train, neg_train],sort=False).sample(frac=1.0)\n",
        "  df_train_label = df_train.overall\n",
        "\n",
        "  # combine test dataset\n",
        "  df_test = pd.concat([pos_test, neu_test, neg_test],sort=False).sample(frac=1.0)\n",
        "  df_test_label = df_test.overall\n",
        "\n",
        "  return df_train,df_train_label,df_test,df_test_label"
      ],
      "metadata": {
        "id": "vZ5sSYE_S0lY"
      },
      "execution_count": null,
      "outputs": []
    },
    {
      "cell_type": "code",
      "source": [
        "# split train and test data for 1997 - 2006\n",
        "df1_train,df1_train_label,df1_test,df1_test_label = split_balance(df1,counts1)\n",
        "\n",
        "# get train and test text\n",
        "df1_train_data = df1_train.iloc[:10000,:].reviewText\n",
        "df1_train_label = df1_train_label.iloc[:10000]\n",
        "df1_test_data = df1_test.iloc[:10000,:].reviewText\n",
        "df1_test_label = df1_test_label.iloc[:10000]"
      ],
      "metadata": {
        "id": "U1MxfTSTTC3t"
      },
      "execution_count": null,
      "outputs": []
    },
    {
      "cell_type": "code",
      "source": [
        "# split train and test data for 2007 - 2012\n",
        "df2_train,df2_train_label,df2_test,df2_test_label = split_balance(df2,counts2)\n",
        "\n",
        "# get train and test text\n",
        "df2_train_data = df2_train.iloc[:10000,:].reviewText\n",
        "df2_train_label = df2_train_label.iloc[:10000]\n",
        "df2_test_data = df2_test.iloc[:10000,:].reviewText\n",
        "df2_test_label = df2_test_label.iloc[:10000]"
      ],
      "metadata": {
        "id": "-XAGR9zGTkig"
      },
      "execution_count": null,
      "outputs": []
    },
    {
      "cell_type": "code",
      "source": [
        "# split train and test data for 2013 - 2017\n",
        "df3_train,df3_train_label,df3_test,df3_test_label = split_balance(df3,counts3)\n",
        "\n",
        "# get train and test text\n",
        "df3_train_data = df3_train.iloc[:10000,:].reviewText\n",
        "df3_train_label = df3_train_label.iloc[:10000]\n",
        "df3_test_data = df3_test.iloc[:10000,:].reviewText\n",
        "df3_test_label = df3_test_label.iloc[:10000]"
      ],
      "metadata": {
        "id": "j35Rma7dToSh"
      },
      "execution_count": null,
      "outputs": []
    },
    {
      "cell_type": "code",
      "source": [
        "# split train and test data for 2018\n",
        "df4_train,df4_train_label,df4_test,df4_test_label = split_balance(df4,counts4)\n",
        "\n",
        "# get train and test text\n",
        "df4_train_data = df4_train.iloc[:10000,:].reviewText\n",
        "df4_train_label = df4_train_label.iloc[:10000]\n",
        "df4_test_data = df4_test.iloc[:10000,:].reviewText\n",
        "df4_test_label = df4_test_label.iloc[:10000]"
      ],
      "metadata": {
        "id": "IILca-EgTtLs"
      },
      "execution_count": null,
      "outputs": []
    },
    {
      "cell_type": "code",
      "source": [
        "df4_test_data.shape"
      ],
      "metadata": {
        "colab": {
          "base_uri": "https://localhost:8080/"
        },
        "id": "14uIbVwBIrsA",
        "outputId": "0e56e801-77af-45ea-e695-0d1fa4c2a23e"
      },
      "execution_count": null,
      "outputs": [
        {
          "output_type": "execute_result",
          "data": {
            "text/plain": [
              "(10000,)"
            ]
          },
          "metadata": {},
          "execution_count": 21
        }
      ]
    },
    {
      "cell_type": "markdown",
      "source": [
        "## Text Preprocessing"
      ],
      "metadata": {
        "id": "apqQhdzXV_41"
      }
    },
    {
      "cell_type": "code",
      "source": [
        "# Defining my NLTK stop words and my user-defined stop words\n",
        "emojis = {**UNICODE_EMOJI,**EMOTICONS_EMO} # full list of emojis unicodes"
      ],
      "metadata": {
        "id": "GHgiZd4FTuLk"
      },
      "execution_count": null,
      "outputs": []
    },
    {
      "cell_type": "code",
      "source": [
        "def processtext(txt):\n",
        "  # convert tweet to lower case\n",
        "  txt = txt.lower()\n",
        "  # remove all html tag\n",
        "  txt = re.sub(\"(<.*?>)\", \"\", txt)\n",
        "  # remove all urls\n",
        "  txt = re.sub('https?:\\/\\/\\S+','',txt)\n",
        "  # remove @ references  \n",
        "  txt = re.sub('@[\\w_]+','',txt)\n",
        "  # remove # hashtags\n",
        "  txt = re.sub('#\\S+','',txt)\n",
        "  # replace all emojis\n",
        "  for emo in emojis.keys():\n",
        "    txt = txt.replace(emo,\"EMOJI \"+emojis[emo])\n",
        "  # remove all multiple white spaces\n",
        "  txt = re.sub('[\\s]+',' ',txt)\n",
        "  # remove all punctuations and non-ascii\n",
        "  txt = re.sub('[\\.?!,;:\\-\\[\\]\\{\\}\\(\\)\\'\\\"/]','',txt)\n",
        "  # remove whitespace\n",
        "  txt = txt.strip()\n",
        "\n",
        "  # tokenization with nltk\n",
        "  data = word_tokenize(txt)\n",
        "  # stemming with nltk\n",
        "  porter = PorterStemmer()\n",
        "  stem_data = [porter.stem(word) for word in data]\n",
        "  return stem_data"
      ],
      "metadata": {
        "id": "Xsy5otegWBL3"
      },
      "execution_count": null,
      "outputs": []
    },
    {
      "cell_type": "markdown",
      "source": [
        "## Text Representation"
      ],
      "metadata": {
        "id": "7oax-yWgWEBC"
      }
    },
    {
      "cell_type": "markdown",
      "source": [
        "#### Learn on 1997-2006;Estimate on 2018"
      ],
      "metadata": {
        "id": "CSunjBSvWHjE"
      }
    },
    {
      "cell_type": "code",
      "source": [
        "# 5min\n",
        "# TFIDF, unigrams and trigrams\n",
        "tf_vect1 = TfidfVectorizer(tokenizer=processtext, sublinear_tf=True, norm='l2', ngram_range=(1,3))\n",
        "# fit on previous data\n",
        "tf_vect1.fit_transform(df1_train_data)\n",
        "\n",
        "# transform testing and training datasets to vectors\n",
        "df1_train_vect = tf_vect1.transform(df1_train_data)\n",
        "df1_test_vect = tf_vect1.transform(df1_test_data)\n",
        "\n",
        "# transform on 2018 test data\n",
        "df4_test_vect = tf_vect1.transform(df4_test_data)"
      ],
      "metadata": {
        "id": "aBakELPQWCPP"
      },
      "execution_count": null,
      "outputs": []
    },
    {
      "cell_type": "markdown",
      "source": [
        "#### Learn on 2007-2012;Estimate on 2018"
      ],
      "metadata": {
        "id": "ItRk_Xo7wj-w"
      }
    },
    {
      "cell_type": "code",
      "source": [
        "# 5min\n",
        "tf_vect2 = TfidfVectorizer(tokenizer=processtext, sublinear_tf=True, norm='l2', ngram_range=(1,3))\n",
        "tf_vect2.fit_transform(df2_train_data)\n",
        "df2_train_vect = tf_vect2.transform(df2_train_data)\n",
        "df2_test_vect = tf_vect2.transform(df2_test_data)\n",
        "\n",
        "# transform on 2018 test data\n",
        "df4_test_vect2 = tf_vect2.transform(df4_test_data)"
      ],
      "metadata": {
        "id": "FgL8gUgpwlnl"
      },
      "execution_count": null,
      "outputs": []
    },
    {
      "cell_type": "markdown",
      "source": [
        "### Learn on 2013-2017;Estimate on 2018"
      ],
      "metadata": {
        "id": "RJmC9dVQw7qT"
      }
    },
    {
      "cell_type": "code",
      "source": [
        "# 5min\n",
        "tf_vect3 = TfidfVectorizer(tokenizer=processtext, sublinear_tf=True, norm='l2', ngram_range=(1,3))\n",
        "tf_vect3.fit_transform(df3_train_data)\n",
        "df3_train_vect = tf_vect3.transform(df3_train_data)\n",
        "df3_test_vect = tf_vect3.transform(df3_test_data)\n",
        "\n",
        "# transform on 2018 test data\n",
        "df4_test_vect3 = tf_vect3.transform(df4_test_data)"
      ],
      "metadata": {
        "id": "sp0OA1Aqw8gF"
      },
      "execution_count": null,
      "outputs": []
    },
    {
      "cell_type": "markdown",
      "source": [
        "## Classifiers"
      ],
      "metadata": {
        "id": "lPhbkTSKWTJ7"
      }
    },
    {
      "cell_type": "markdown",
      "source": [
        "### Learn on 1997-2006;Estimate on 2018"
      ],
      "metadata": {
        "id": "sn0C8RlMWcPN"
      }
    },
    {
      "cell_type": "markdown",
      "source": [
        "#### Linear Support Vector"
      ],
      "metadata": {
        "id": "d8sKNnRGWjo5"
      }
    },
    {
      "cell_type": "code",
      "source": [
        "svc1 = LinearSVC(C=1.0, class_weight=None, dual=True, fit_intercept=True,\n",
        "     intercept_scaling=1, loss='squared_hinge', max_iter=1000,\n",
        "     multi_class='ovr', penalty='l2', random_state=None, tol=0.0001,\n",
        "     verbose=0)\n",
        "svc1.fit(df1_train_vect, df1_train_label)\n",
        "ysvm_pred = svc1.predict(df1_test_vect)\n",
        "\n",
        "print(\"Accuracy: {:.2f}%\".format(accuracy_score(df1_test_label, ysvm_pred) * 100))\n",
        "print(\"\\nF1 Score: {:.2f}\".format(f1_score(df1_test_label, ysvm_pred, average='micro') * 100))"
      ],
      "metadata": {
        "colab": {
          "base_uri": "https://localhost:8080/"
        },
        "id": "26aeqS9qWM6i",
        "outputId": "6f817b87-e28e-45ba-dae9-09d9129e12c2"
      },
      "execution_count": null,
      "outputs": [
        {
          "output_type": "stream",
          "name": "stdout",
          "text": [
            "Accuracy: 82.89%\n",
            "\n",
            "F1 Score: 82.89\n"
          ]
        }
      ]
    },
    {
      "cell_type": "code",
      "source": [
        "# estimate on 2018 data\n",
        "ysvm_pred_18 = svc1.predict(df4_test_vect)\n",
        "print(\"Accuracy: {:.2f}%\".format(accuracy_score(df4_test_label, ysvm_pred_18) * 100))\n",
        "print(\"\\nF1 Score: {:.2f}\".format(f1_score(df4_test_label, ysvm_pred_18, average='micro') * 100))"
      ],
      "metadata": {
        "colab": {
          "base_uri": "https://localhost:8080/"
        },
        "id": "W6UZ9hDlWu6y",
        "outputId": "52af5926-2193-49aa-efb1-c5ca281fe120"
      },
      "execution_count": null,
      "outputs": [
        {
          "output_type": "stream",
          "name": "stdout",
          "text": [
            "Accuracy: 78.79%\n",
            "\n",
            "F1 Score: 78.79\n"
          ]
        }
      ]
    },
    {
      "cell_type": "markdown",
      "source": [
        "#### Logistic Regression"
      ],
      "metadata": {
        "id": "2LSPFBkjjlU4"
      }
    },
    {
      "cell_type": "code",
      "source": [
        "lr1=LogisticRegression(C=10.0, class_weight=None, dual=False, fit_intercept=True,\n",
        "                   intercept_scaling=1, l1_ratio=None, max_iter=200,\n",
        "                   multi_class='auto', n_jobs=None, penalty='l2',\n",
        "                   random_state=None, solver='lbfgs', tol=0.0001, verbose=0,\n",
        "                   warm_start=False)\n",
        "lr1.fit(df1_train_vect, df1_train_label)\n",
        "ylog_pred = lr1.predict(df1_test_vect)\n",
        "\n",
        "print(\"Accuracy: {:.2f}%\".format(accuracy_score(df1_test_label, ylog_pred) * 100))\n",
        "print(\"\\nF1 Score: {:.2f}\".format(f1_score(df1_test_label, ylog_pred, average='micro') * 100))"
      ],
      "metadata": {
        "colab": {
          "base_uri": "https://localhost:8080/"
        },
        "id": "SI4OJUhnjd2f",
        "outputId": "fc8f995e-fb6f-4baa-9edd-79d14d1c4ef4"
      },
      "execution_count": null,
      "outputs": [
        {
          "output_type": "stream",
          "name": "stdout",
          "text": [
            "Accuracy: 82.17%\n",
            "\n",
            "F1 Score: 82.17\n"
          ]
        }
      ]
    },
    {
      "cell_type": "code",
      "source": [
        "ylog_pred_18 = lr1.predict(df4_test_vect)\n",
        "\n",
        "print(\"Accuracy: {:.2f}%\".format(accuracy_score(df4_test_label, ylog_pred_18) * 100))\n",
        "print(\"\\nF1 Score: {:.2f}\".format(f1_score(df4_test_label, ylog_pred_18, average='micro') * 100))"
      ],
      "metadata": {
        "colab": {
          "base_uri": "https://localhost:8080/"
        },
        "id": "ixkjmIQyjvQ6",
        "outputId": "01f71dad-01aa-424a-f826-4c78e24784e8"
      },
      "execution_count": null,
      "outputs": [
        {
          "output_type": "stream",
          "name": "stdout",
          "text": [
            "Accuracy: 78.39%\n",
            "\n",
            "F1 Score: 78.39\n"
          ]
        }
      ]
    },
    {
      "cell_type": "markdown",
      "source": [
        "#### Naive Bayes"
      ],
      "metadata": {
        "id": "DqwrAy4rodzN"
      }
    },
    {
      "cell_type": "code",
      "source": [
        "nb1 = MultinomialNB(alpha=0.1,fit_prior=True)\n",
        "\n",
        "nb1.fit(df1_train_vect, df1_train_label)\n",
        "ynb_pred = nb1.predict(df1_test_vect)\n",
        "\n",
        "print(\"Accuracy: {:.2f}%\".format(accuracy_score(df1_test_label, ynb_pred) * 100))\n",
        "print(\"\\nF1 Score: {:.2f}\".format(f1_score(df1_test_label, ynb_pred, average='micro') * 100))"
      ],
      "metadata": {
        "colab": {
          "base_uri": "https://localhost:8080/"
        },
        "id": "Bbo7sjVijv4a",
        "outputId": "a2d5449a-d66b-4c84-e957-72c6bbac153c"
      },
      "execution_count": null,
      "outputs": [
        {
          "output_type": "stream",
          "name": "stdout",
          "text": [
            "Accuracy: 72.85%\n",
            "\n",
            "F1 Score: 72.85\n"
          ]
        }
      ]
    },
    {
      "cell_type": "code",
      "source": [
        "ynb_pred_18 = nb1.predict(df4_test_vect)\n",
        "\n",
        "print(\"Accuracy: {:.2f}%\".format(accuracy_score(df4_test_label, ynb_pred_18) * 100))\n",
        "print(\"\\nF1 Score: {:.2f}\".format(f1_score(df4_test_label, ynb_pred_18, average='micro') * 100))"
      ],
      "metadata": {
        "colab": {
          "base_uri": "https://localhost:8080/"
        },
        "id": "y_LM4mh-ofYM",
        "outputId": "34285098-33a0-4c53-f7cc-277ddcfd9b92"
      },
      "execution_count": null,
      "outputs": [
        {
          "output_type": "stream",
          "name": "stdout",
          "text": [
            "Accuracy: 66.40%\n",
            "\n",
            "F1 Score: 66.40\n"
          ]
        }
      ]
    },
    {
      "cell_type": "markdown",
      "source": [
        "#### Random Forest"
      ],
      "metadata": {
        "id": "TCfUpE2ipcBk"
      }
    },
    {
      "cell_type": "code",
      "source": [
        "rf1= RandomForestClassifier(n_estimators=100,criterion='entropy',n_jobs=-1)\n",
        "\n",
        "rf1.fit(df1_train_vect, df1_train_label)\n",
        "yrf_pred = rf1.predict(df1_test_vect)\n",
        "\n",
        "print(\"Accuracy: {:.2f}%\".format(accuracy_score(df1_test_label, yrf_pred) * 100))\n",
        "print(\"\\nF1 Score: {:.2f}\".format(f1_score(df1_test_label, yrf_pred, average='micro') * 100))"
      ],
      "metadata": {
        "colab": {
          "base_uri": "https://localhost:8080/"
        },
        "id": "HHHLy1-CpcYU",
        "outputId": "d8442c6f-d63d-46ca-d682-de90e7f8615a"
      },
      "execution_count": null,
      "outputs": [
        {
          "output_type": "stream",
          "name": "stdout",
          "text": [
            "Accuracy: 73.37%\n",
            "\n",
            "F1 Score: 73.37\n"
          ]
        }
      ]
    },
    {
      "cell_type": "code",
      "source": [
        "yrf_pred_18 = rf1.predict(df4_test_vect)\n",
        "\n",
        "print(\"Accuracy: {:.2f}%\".format(accuracy_score(df4_test_label, yrf_pred_18) * 100))\n",
        "print(\"\\nF1 Score: {:.2f}\".format(f1_score(df4_test_label, yrf_pred_18, average='micro') * 100))"
      ],
      "metadata": {
        "colab": {
          "base_uri": "https://localhost:8080/"
        },
        "id": "UP9bMTTNpepa",
        "outputId": "9d46c696-7978-4466-bb28-4884034f568f"
      },
      "execution_count": null,
      "outputs": [
        {
          "output_type": "stream",
          "name": "stdout",
          "text": [
            "Accuracy: 66.77%\n",
            "\n",
            "F1 Score: 66.77\n"
          ]
        }
      ]
    },
    {
      "cell_type": "markdown",
      "source": [
        "### Learn on 2007-2012;Estimate on 2018"
      ],
      "metadata": {
        "id": "zwckF30Lx6I4"
      }
    },
    {
      "cell_type": "markdown",
      "source": [
        "#### Linear Support Vector"
      ],
      "metadata": {
        "id": "bYdrZXbYx8wV"
      }
    },
    {
      "cell_type": "code",
      "source": [
        "svc2 = LinearSVC(C=1.0, class_weight=None, dual=True, fit_intercept=True,\n",
        "     intercept_scaling=1, loss='squared_hinge', max_iter=1000,\n",
        "     multi_class='ovr', penalty='l2', random_state=None, tol=0.0001,\n",
        "     verbose=0)\n",
        "svc2.fit(df2_train_vect, df2_train_label)\n",
        "ysvm_pred2 = svc2.predict(df2_test_vect)\n",
        "\n",
        "print(\"Accuracy: {:.2f}%\".format(accuracy_score(df2_test_label, ysvm_pred2) * 100))\n",
        "print(\"\\nF1 Score: {:.2f}\".format(f1_score(df2_test_label, ysvm_pred2, average='micro') * 100))"
      ],
      "metadata": {
        "colab": {
          "base_uri": "https://localhost:8080/"
        },
        "id": "2oJWxwAQvRK2",
        "outputId": "0e9eb505-8f17-40cd-af8b-5ba98915f08f"
      },
      "execution_count": null,
      "outputs": [
        {
          "output_type": "stream",
          "name": "stdout",
          "text": [
            "Accuracy: 83.75%\n",
            "\n",
            "F1 Score: 83.75\n"
          ]
        }
      ]
    },
    {
      "cell_type": "code",
      "source": [
        "# estimate on 2018 data\n",
        "ysvm_pred2_18 = svc2.predict(df4_test_vect2)\n",
        "print(\"Accuracy: {:.2f}%\".format(accuracy_score(df4_test_label, ysvm_pred2_18) * 100))\n",
        "print(\"\\nF1 Score: {:.2f}\".format(f1_score(df4_test_label, ysvm_pred2_18, average='micro') * 100))"
      ],
      "metadata": {
        "colab": {
          "base_uri": "https://localhost:8080/"
        },
        "id": "nr5bncFCx_ux",
        "outputId": "d4ec17f7-53ff-433e-af7a-96779d650a9a"
      },
      "execution_count": null,
      "outputs": [
        {
          "output_type": "stream",
          "name": "stdout",
          "text": [
            "Accuracy: 82.32%\n",
            "\n",
            "F1 Score: 82.32\n"
          ]
        }
      ]
    },
    {
      "cell_type": "markdown",
      "source": [
        "#### Logistic Regression"
      ],
      "metadata": {
        "id": "b06CoUFeyUFV"
      }
    },
    {
      "cell_type": "code",
      "source": [
        "lr2=LogisticRegression(C=10.0, class_weight=None, dual=False, fit_intercept=True,\n",
        "                   intercept_scaling=1, l1_ratio=None, max_iter=200,\n",
        "                   multi_class='auto', n_jobs=None, penalty='l2',\n",
        "                   random_state=None, solver='lbfgs', tol=0.0001, verbose=0,\n",
        "                   warm_start=False)\n",
        "lr2.fit(df2_train_vect, df2_train_label)\n",
        "ylog_pred2 = lr2.predict(df2_test_vect)\n",
        "\n",
        "print(\"Accuracy: {:.2f}%\".format(accuracy_score(df2_test_label, ylog_pred2) * 100))\n",
        "print(\"\\nF1 Score: {:.2f}\".format(f1_score(df2_test_label, ylog_pred2, average='micro') * 100))"
      ],
      "metadata": {
        "colab": {
          "base_uri": "https://localhost:8080/"
        },
        "id": "zLK6WEZ_yAAj",
        "outputId": "3c2a02c5-641e-4ae5-ce15-fe227e459562"
      },
      "execution_count": null,
      "outputs": [
        {
          "output_type": "stream",
          "name": "stdout",
          "text": [
            "Accuracy: 83.26%\n",
            "\n",
            "F1 Score: 83.26\n"
          ]
        }
      ]
    },
    {
      "cell_type": "code",
      "source": [
        "ylog_pred2_18 = lr2.predict(df4_test_vect2)\n",
        "\n",
        "print(\"Accuracy: {:.2f}%\".format(accuracy_score(df4_test_label, ylog_pred2_18) * 100))\n",
        "print(\"\\nF1 Score: {:.2f}\".format(f1_score(df4_test_label, ylog_pred2_18, average='micro') * 100))"
      ],
      "metadata": {
        "colab": {
          "base_uri": "https://localhost:8080/"
        },
        "id": "9IQM3d-syWy-",
        "outputId": "094dc69a-0b6f-46c9-c917-428d69745be6"
      },
      "execution_count": null,
      "outputs": [
        {
          "output_type": "stream",
          "name": "stdout",
          "text": [
            "Accuracy: 81.73%\n",
            "\n",
            "F1 Score: 81.73\n"
          ]
        }
      ]
    },
    {
      "cell_type": "markdown",
      "source": [
        "#### Naive Bayes"
      ],
      "metadata": {
        "id": "R5cJ1Okpyq3_"
      }
    },
    {
      "cell_type": "code",
      "source": [
        "nb2 = MultinomialNB(alpha=0.1,fit_prior=True)\n",
        "\n",
        "nb2.fit(df2_train_vect, df2_train_label)\n",
        "ynb_pred2 = nb2.predict(df2_test_vect)\n",
        "\n",
        "print(\"Accuracy: {:.2f}%\".format(accuracy_score(df2_test_label, ynb_pred2) * 100))\n",
        "print(\"\\nF1 Score: {:.2f}\".format(f1_score(df2_test_label, ynb_pred2, average='micro') * 100))"
      ],
      "metadata": {
        "colab": {
          "base_uri": "https://localhost:8080/"
        },
        "id": "-RuIFZ4pyXAv",
        "outputId": "a116a0f7-ed3d-46b1-f41a-8b31e7a09aab"
      },
      "execution_count": null,
      "outputs": [
        {
          "output_type": "stream",
          "name": "stdout",
          "text": [
            "Accuracy: 72.43%\n",
            "\n",
            "F1 Score: 72.43\n"
          ]
        }
      ]
    },
    {
      "cell_type": "code",
      "source": [
        "ynb_pred2_18 = nb2.predict(df4_test_vect2)\n",
        "\n",
        "print(\"Accuracy: {:.2f}%\".format(accuracy_score(df4_test_label, ynb_pred2_18) * 100))\n",
        "print(\"\\nF1 Score: {:.2f}\".format(f1_score(df4_test_label, ynb_pred2_18, average='micro') * 100))"
      ],
      "metadata": {
        "colab": {
          "base_uri": "https://localhost:8080/"
        },
        "id": "7HDrP33Iy3K-",
        "outputId": "c1ca8096-9662-42ee-eb38-6a24d110016a"
      },
      "execution_count": null,
      "outputs": [
        {
          "output_type": "stream",
          "name": "stdout",
          "text": [
            "Accuracy: 68.61%\n",
            "\n",
            "F1 Score: 68.61\n"
          ]
        }
      ]
    },
    {
      "cell_type": "markdown",
      "source": [
        "#### Random Forest"
      ],
      "metadata": {
        "id": "oT91R3Tky5xv"
      }
    },
    {
      "cell_type": "code",
      "source": [
        "rf2= RandomForestClassifier(n_estimators=100,criterion='entropy',n_jobs=-1)\n",
        "\n",
        "rf2.fit(df2_train_vect, df2_train_label)\n",
        "yrf_pred2 = rf2.predict(df2_test_vect)\n",
        "\n",
        "print(\"Accuracy: {:.2f}%\".format(accuracy_score(df2_test_label, yrf_pred2) * 100))\n",
        "print(\"\\nF1 Score: {:.2f}\".format(f1_score(df2_test_label, yrf_pred2, average='micro') * 100))"
      ],
      "metadata": {
        "colab": {
          "base_uri": "https://localhost:8080/"
        },
        "id": "htJilsdMy3pg",
        "outputId": "6446b03b-5088-4bc6-b0ef-019f9c641ca0"
      },
      "execution_count": null,
      "outputs": [
        {
          "output_type": "stream",
          "name": "stdout",
          "text": [
            "Accuracy: 73.40%\n",
            "\n",
            "F1 Score: 73.40\n"
          ]
        }
      ]
    },
    {
      "cell_type": "code",
      "source": [
        "yrf_pred2_18 = rf2.predict(df4_test_vect2)\n",
        "\n",
        "print(\"Accuracy: {:.2f}%\".format(accuracy_score(df4_test_label, yrf_pred2_18) * 100))\n",
        "print(\"\\nF1 Score: {:.2f}\".format(f1_score(df4_test_label, yrf_pred2_18, average='micro') * 100))"
      ],
      "metadata": {
        "colab": {
          "base_uri": "https://localhost:8080/"
        },
        "id": "cNGKxTd6y751",
        "outputId": "9a3513c9-f4f8-46fe-9ad2-d7b038bb6f28"
      },
      "execution_count": null,
      "outputs": [
        {
          "output_type": "stream",
          "name": "stdout",
          "text": [
            "Accuracy: 68.03%\n",
            "\n",
            "F1 Score: 68.03\n"
          ]
        }
      ]
    },
    {
      "cell_type": "markdown",
      "source": [
        "### Learn on 2013-2017;Estimate on 2018"
      ],
      "metadata": {
        "id": "xkjJmW77zIrL"
      }
    },
    {
      "cell_type": "markdown",
      "source": [
        "#### Linear Support Vector"
      ],
      "metadata": {
        "id": "fOIvlX6TzMVw"
      }
    },
    {
      "cell_type": "code",
      "source": [
        "svc3 = LinearSVC(C=1.0, class_weight=None, dual=True, fit_intercept=True,\n",
        "     intercept_scaling=1, loss='squared_hinge', max_iter=1000,\n",
        "     multi_class='ovr', penalty='l2', random_state=None, tol=0.0001,\n",
        "     verbose=0)\n",
        "svc3.fit(df3_train_vect, df3_train_label)\n",
        "ysvm_pred3 = svc3.predict(df3_test_vect)\n",
        "\n",
        "print(\"Accuracy: {:.2f}%\".format(accuracy_score(df3_test_label, ysvm_pred3) * 100))\n",
        "print(\"\\nF1 Score: {:.2f}\".format(f1_score(df3_test_label, ysvm_pred3, average='micro') * 100))"
      ],
      "metadata": {
        "colab": {
          "base_uri": "https://localhost:8080/"
        },
        "id": "HgDclgvky8Nc",
        "outputId": "4c1b7c25-7d1a-471a-af3d-e962551c7f12"
      },
      "execution_count": null,
      "outputs": [
        {
          "output_type": "stream",
          "name": "stdout",
          "text": [
            "Accuracy: 85.09%\n",
            "\n",
            "F1 Score: 85.09\n"
          ]
        }
      ]
    },
    {
      "cell_type": "code",
      "source": [
        "# estimate on 2018 data\n",
        "ysvm_pred3_18 = svc3.predict(df4_test_vect3)\n",
        "print(\"Accuracy: {:.2f}%\".format(accuracy_score(df4_test_label, ysvm_pred3_18) * 100))\n",
        "print(\"\\nF1 Score: {:.2f}\".format(f1_score(df4_test_label, ysvm_pred3_18, average='micro') * 100))"
      ],
      "metadata": {
        "colab": {
          "base_uri": "https://localhost:8080/"
        },
        "id": "T8ExAb4lzPo1",
        "outputId": "6c13d2d8-04b6-4e07-9bea-10e9a5720365"
      },
      "execution_count": null,
      "outputs": [
        {
          "output_type": "stream",
          "name": "stdout",
          "text": [
            "Accuracy: 85.26%\n",
            "\n",
            "F1 Score: 85.26\n"
          ]
        }
      ]
    },
    {
      "cell_type": "markdown",
      "source": [
        "#### Logistic Regression"
      ],
      "metadata": {
        "id": "Ka_NhoURzVtX"
      }
    },
    {
      "cell_type": "code",
      "source": [
        "lr3=LogisticRegression(C=10.0, class_weight=None, dual=False, fit_intercept=True,\n",
        "                   intercept_scaling=1, l1_ratio=None, max_iter=200,\n",
        "                   multi_class='auto', n_jobs=None, penalty='l2',\n",
        "                   random_state=None, solver='lbfgs', tol=0.0001, verbose=0,\n",
        "                   warm_start=False)\n",
        "lr3.fit(df3_train_vect, df3_train_label)\n",
        "ylog_pred3 = lr3.predict(df3_test_vect)\n",
        "\n",
        "print(\"Accuracy: {:.2f}%\".format(accuracy_score(df3_test_label, ylog_pred3) * 100))\n",
        "print(\"\\nF1 Score: {:.2f}\".format(f1_score(df3_test_label, ylog_pred3, average='micro') * 100))"
      ],
      "metadata": {
        "colab": {
          "base_uri": "https://localhost:8080/"
        },
        "id": "9coKGN4uzQPs",
        "outputId": "35faedf0-3714-4a69-dbc1-d1b9224e04a2"
      },
      "execution_count": null,
      "outputs": [
        {
          "output_type": "stream",
          "name": "stdout",
          "text": [
            "Accuracy: 84.98%\n",
            "\n",
            "F1 Score: 84.98\n"
          ]
        }
      ]
    },
    {
      "cell_type": "code",
      "source": [
        "ylog_pred3_18 = lr3.predict(df4_test_vect3)\n",
        "\n",
        "print(\"Accuracy: {:.2f}%\".format(accuracy_score(df4_test_label, ylog_pred3_18) * 100))\n",
        "print(\"\\nF1 Score: {:.2f}\".format(f1_score(df4_test_label, ylog_pred3_18, average='micro') * 100))"
      ],
      "metadata": {
        "colab": {
          "base_uri": "https://localhost:8080/"
        },
        "id": "1eWGYRQTzW9T",
        "outputId": "c9acc7a6-01aa-4f64-ab6f-faeecc111e1f"
      },
      "execution_count": null,
      "outputs": [
        {
          "output_type": "stream",
          "name": "stdout",
          "text": [
            "Accuracy: 84.72%\n",
            "\n",
            "F1 Score: 84.72\n"
          ]
        }
      ]
    },
    {
      "cell_type": "markdown",
      "source": [
        "#### Naive Bayes"
      ],
      "metadata": {
        "id": "RvujAABIzfHs"
      }
    },
    {
      "cell_type": "code",
      "source": [
        "nb3 = MultinomialNB(alpha=0.1,fit_prior=True)\n",
        "\n",
        "nb3.fit(df3_train_vect, df3_train_label)\n",
        "ynb_pred3 = nb3.predict(df3_test_vect)\n",
        "\n",
        "print(\"Accuracy: {:.2f}%\".format(accuracy_score(df3_test_label, ynb_pred3) * 100))\n",
        "print(\"\\nF1 Score: {:.2f}\".format(f1_score(df3_test_label, ynb_pred3, average='micro') * 100))"
      ],
      "metadata": {
        "colab": {
          "base_uri": "https://localhost:8080/"
        },
        "id": "_78DsrUCzX9p",
        "outputId": "7ca94152-a94f-46b2-9598-fa82071b562c"
      },
      "execution_count": null,
      "outputs": [
        {
          "output_type": "stream",
          "name": "stdout",
          "text": [
            "Accuracy: 76.81%\n",
            "\n",
            "F1 Score: 76.81\n"
          ]
        }
      ]
    },
    {
      "cell_type": "code",
      "source": [
        "ynb_pred3_18 = nb3.predict(df4_test_vect3)\n",
        "\n",
        "print(\"Accuracy: {:.2f}%\".format(accuracy_score(df4_test_label, ynb_pred3_18) * 100))\n",
        "print(\"\\nF1 Score: {:.2f}\".format(f1_score(df4_test_label, ynb_pred3_18, average='micro') * 100))"
      ],
      "metadata": {
        "colab": {
          "base_uri": "https://localhost:8080/"
        },
        "id": "AHUb0_9szgqx",
        "outputId": "5f55656d-d19c-4443-ec4a-98ea8e9ea9d5"
      },
      "execution_count": null,
      "outputs": [
        {
          "output_type": "stream",
          "name": "stdout",
          "text": [
            "Accuracy: 75.19%\n",
            "\n",
            "F1 Score: 75.19\n"
          ]
        }
      ]
    },
    {
      "cell_type": "markdown",
      "source": [
        "#### Random Forest"
      ],
      "metadata": {
        "id": "zZ_bbxPezjHK"
      }
    },
    {
      "cell_type": "code",
      "source": [
        "# estimated 5hrs\n",
        "rf3= RandomForestClassifier(n_estimators=100,criterion='entropy',n_jobs=-1)\n",
        "rf3.fit(df3_train_vect, df3_train_label)\n",
        "yrf_pred3 = rf3.predict(df3_test_vect)\n",
        "\n",
        "print(\"Accuracy: {:.2f}%\".format(accuracy_score(df3_test_label, yrf_pred3) * 100))\n",
        "print(\"\\nF1 Score: {:.2f}\".format(f1_score(df3_test_label, yrf_pred3, average='micro') * 100))"
      ],
      "metadata": {
        "colab": {
          "base_uri": "https://localhost:8080/"
        },
        "id": "jVNkKlP9zhzX",
        "outputId": "85e29e15-f056-4ad7-bdf1-a41a3ef16d74"
      },
      "execution_count": null,
      "outputs": [
        {
          "output_type": "stream",
          "name": "stdout",
          "text": [
            "Accuracy: 77.53%\n",
            "\n",
            "F1 Score: 77.53\n"
          ]
        }
      ]
    },
    {
      "cell_type": "code",
      "source": [
        "yrf_pred3_18 = rf3.predict(df4_test_vect3)\n",
        "\n",
        "print(\"Accuracy: {:.2f}%\".format(accuracy_score(df4_test_label, yrf_pred3_18) * 100))\n",
        "print(\"\\nF1 Score: {:.2f}\".format(f1_score(df4_test_label, yrf_pred3_18, average='micro') * 100))"
      ],
      "metadata": {
        "colab": {
          "base_uri": "https://localhost:8080/"
        },
        "id": "t3Jo-DPdznkX",
        "outputId": "c6eb66b2-41bc-4b89-814d-079d131e5898"
      },
      "execution_count": null,
      "outputs": [
        {
          "output_type": "stream",
          "name": "stdout",
          "text": [
            "Accuracy: 75.64%\n",
            "\n",
            "F1 Score: 75.64\n"
          ]
        }
      ]
    },
    {
      "cell_type": "markdown",
      "source": [
        "## store models"
      ],
      "metadata": {
        "id": "pHxl-mArz-aK"
      }
    },
    {
      "cell_type": "code",
      "source": [
        "def store_model(i,vect,svm,lr,nb,rf):\n",
        "  pipe1 = Pipeline([\n",
        "    ('tfidf', vect),\n",
        "    ('svm', svm),\n",
        "    ])\n",
        "  pipe2 = Pipeline([\n",
        "    ('tfidf', vect),\n",
        "    ('lr', lr),\n",
        "    ])\n",
        "  pipe3 = Pipeline([\n",
        "    ('tfidf', vect),\n",
        "    ('nb', nb),\n",
        "    ])\n",
        "  pipe4 = Pipeline([\n",
        "    ('tfidf', vect),\n",
        "    ('rf', rf),\n",
        "    ])\n",
        "  if i == 1:\n",
        "    dir = '97_06'\n",
        "  elif i == 2:\n",
        "    dir = '07_12'\n",
        "  else:\n",
        "    dir = '13_17'\n",
        "  filename1 = './drive/MyDrive/Colab Notebooks/CL/game/'+dir+'/svm.pickle'\n",
        "  filename2 = './drive/MyDrive/Colab Notebooks/CL/game/'+dir+'/lr.pickle'\n",
        "  filename3 = './drive/MyDrive/Colab Notebooks/CL/game/'+dir+'/nb.pickle'\n",
        "  filename4 = './drive/MyDrive/Colab Notebooks/CL/game/'+dir+'/rf.pickle'\n",
        "  pickle.dump(pipe1, open(filename1, 'wb'))\n",
        "  pickle.dump(pipe2, open(filename2, 'wb'))\n",
        "  pickle.dump(pipe3, open(filename3, 'wb'))\n",
        "  pickle.dump(pipe4, open(filename4, 'wb'))"
      ],
      "metadata": {
        "id": "u4g118BAzoMY"
      },
      "execution_count": null,
      "outputs": []
    },
    {
      "cell_type": "code",
      "source": [
        "store_model(1,tf_vect1,svc1,lr1,nb1,rf1)"
      ],
      "metadata": {
        "id": "7J3lpJhm0GSV"
      },
      "execution_count": null,
      "outputs": []
    },
    {
      "cell_type": "code",
      "source": [
        "store_model(2,tf_vect2,svc2,lr2,nb2,rf2)"
      ],
      "metadata": {
        "id": "uuEPzoxQ0G7a"
      },
      "execution_count": null,
      "outputs": []
    },
    {
      "cell_type": "code",
      "source": [
        "store_model(3,tf_vect3,svc3,lr3,nb3,rf3)"
      ],
      "metadata": {
        "id": "wH6p_srv0HBm"
      },
      "execution_count": null,
      "outputs": []
    },
    {
      "cell_type": "code",
      "source": [
        ""
      ],
      "metadata": {
        "id": "i_XVYf6x0Xc1"
      },
      "execution_count": null,
      "outputs": []
    }
  ]
}