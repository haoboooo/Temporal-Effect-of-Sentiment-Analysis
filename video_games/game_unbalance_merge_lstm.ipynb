{
  "nbformat": 4,
  "nbformat_minor": 0,
  "metadata": {
    "colab": {
      "name": "game_unbalance_merge_lstm.ipynb",
      "provenance": [],
      "mount_file_id": "1m_xYIVx1YhpkzT-eMjcnCT6opbVa3rWR",
      "authorship_tag": "ABX9TyORzpbWS7YfPVICNkB2A57v",
      "include_colab_link": true
    },
    "kernelspec": {
      "name": "python3",
      "display_name": "Python 3"
    },
    "language_info": {
      "name": "python"
    },
    "accelerator": "GPU"
  },
  "cells": [
    {
      "cell_type": "markdown",
      "metadata": {
        "id": "view-in-github",
        "colab_type": "text"
      },
      "source": [
        "<a href=\"https://colab.research.google.com/github/haoboooo/Temporal-Generalization-of-Sentiment-Analysis-on-Amazon-Reviews/blob/main/video_games/game_unbalance_merge_lstm.ipynb\" target=\"_parent\"><img src=\"https://colab.research.google.com/assets/colab-badge.svg\" alt=\"Open In Colab\"/></a>"
      ]
    },
    {
      "cell_type": "code",
      "execution_count": null,
      "metadata": {
        "colab": {
          "base_uri": "https://localhost:8080/"
        },
        "id": "81DTMJ3R18AU",
        "outputId": "1371cec0-50b8-4239-de42-da4bf0d91e99"
      },
      "outputs": [
        {
          "output_type": "stream",
          "name": "stdout",
          "text": [
            "Collecting emot\n",
            "  Downloading emot-3.1-py3-none-any.whl (61 kB)\n",
            "\u001b[?25l\r\u001b[K     |█████▎                          | 10 kB 21.6 MB/s eta 0:00:01\r\u001b[K     |██████████▋                     | 20 kB 26.2 MB/s eta 0:00:01\r\u001b[K     |████████████████                | 30 kB 13.4 MB/s eta 0:00:01\r\u001b[K     |█████████████████████▎          | 40 kB 7.2 MB/s eta 0:00:01\r\u001b[K     |██████████████████████████▋     | 51 kB 8.4 MB/s eta 0:00:01\r\u001b[K     |████████████████████████████████| 61 kB 8.8 MB/s eta 0:00:01\r\u001b[K     |████████████████████████████████| 61 kB 19 kB/s \n",
            "\u001b[?25hInstalling collected packages: emot\n",
            "Successfully installed emot-3.1\n"
          ]
        }
      ],
      "source": [
        "!pip install emot"
      ]
    },
    {
      "cell_type": "code",
      "source": [
        "import pandas as pd\n",
        "import numpy as np\n",
        "import string\n",
        "import os\n",
        "\n",
        "# text preprocessing\n",
        "import nltk\n",
        "from nltk import word_tokenize\n",
        "from nltk.corpus import stopwords\n",
        "import re\n",
        "from emot.emo_unicode import EMOTICONS_EMO, UNICODE_EMOJI\n",
        "\n",
        "# plots and metrics\n",
        "import matplotlib.pyplot as plt\n",
        "import seaborn as sns\n",
        "plt.style.use('ggplot')\n",
        "from sklearn.metrics import accuracy_score, f1_score\n",
        "\n",
        "from tensorflow.keras.preprocessing.text import Tokenizer\n",
        "from tensorflow.keras.preprocessing.sequence import pad_sequences\n",
        "from tensorflow.keras.utils import to_categorical,plot_model\n",
        "\n",
        "from tensorflow.keras.layers import Input,Embedding,Bidirectional,LSTM,BatchNormalization,Dense,GlobalMaxPool1D,Dropout,Masking,Flatten\n",
        "from tensorflow.keras.callbacks import EarlyStopping\n",
        "from tensorflow.keras.models import Sequential,load_model"
      ],
      "metadata": {
        "id": "Z5oHb0Ue2TLJ"
      },
      "execution_count": null,
      "outputs": []
    },
    {
      "cell_type": "code",
      "source": [
        "import tensorflow as tf\n",
        "if tf.test.gpu_device_name():\n",
        "    print('Default GPU Device: {}'.format(tf.test.gpu_device_name()))\n",
        "else:\n",
        "    print(\"Please install GPU version of TF\")\n",
        "\n",
        "print(tf.test.is_built_with_cuda())\n",
        "print(tf.keras.__version__)\n",
        "print(tf.__version__)"
      ],
      "metadata": {
        "colab": {
          "base_uri": "https://localhost:8080/"
        },
        "id": "m7XwRnZN2UIJ",
        "outputId": "09f61e5a-66f7-4729-d5b2-303395033810"
      },
      "execution_count": null,
      "outputs": [
        {
          "output_type": "stream",
          "name": "stdout",
          "text": [
            "Default GPU Device: /device:GPU:0\n",
            "True\n",
            "2.8.0\n",
            "2.8.0\n"
          ]
        }
      ]
    },
    {
      "cell_type": "code",
      "source": [
        "nltk.download(\"stopwords\")\n",
        "nltk.download('punkt')"
      ],
      "metadata": {
        "colab": {
          "base_uri": "https://localhost:8080/"
        },
        "id": "8leTi_f42XDj",
        "outputId": "d0269343-c821-4ca2-95a2-704c0ac65eca"
      },
      "execution_count": null,
      "outputs": [
        {
          "output_type": "stream",
          "name": "stdout",
          "text": [
            "[nltk_data] Downloading package stopwords to /root/nltk_data...\n",
            "[nltk_data]   Unzipping corpora/stopwords.zip.\n",
            "[nltk_data] Downloading package punkt to /root/nltk_data...\n",
            "[nltk_data]   Unzipping tokenizers/punkt.zip.\n"
          ]
        },
        {
          "output_type": "execute_result",
          "data": {
            "text/plain": [
              "True"
            ]
          },
          "metadata": {},
          "execution_count": 4
        }
      ]
    },
    {
      "cell_type": "markdown",
      "source": [
        "## load game data"
      ],
      "metadata": {
        "id": "qvP_yseT2aGP"
      }
    },
    {
      "cell_type": "code",
      "source": [
        "file1 = \"./drive/MyDrive/Colab Notebooks/CL/game/97_06.csv\"\n",
        "file2 = \"./drive/MyDrive/Colab Notebooks/CL/game/07_12.csv\"\n",
        "file3 = \"./drive/MyDrive/Colab Notebooks/CL/game/13_17.csv\"\n",
        "file4 = \"./drive/MyDrive/Colab Notebooks/CL/game/18.csv\""
      ],
      "metadata": {
        "id": "1qroqHox2Ye5"
      },
      "execution_count": null,
      "outputs": []
    },
    {
      "cell_type": "code",
      "source": [
        "def load_data(file):\n",
        "  # read csv data and set columns\n",
        "  df = pd.read_csv(file,usecols=['overall', 'reviewTime','reviewText'])\n",
        "\n",
        "  # remove the duplicates if any\n",
        "  df.duplicated('reviewText').sum()\n",
        "  df.drop_duplicates(subset=['reviewText'],inplace=True)\n",
        "  \n",
        "  # remove NaN rows\n",
        "  df.isnull().sum()\n",
        "  df.dropna(how='any',axis=0,inplace=True)\n",
        "  shape = df.shape\n",
        "  counts = df.overall.value_counts()# labels count\n",
        "\n",
        "  sns.countplot(df['overall']) # plot bar graph\n",
        "  fig = plt.gcf() # get current figure\n",
        "  fig.set_size_inches(5,5) # set the figure size\n",
        "  plt.title('overall') # add title to the figure\n",
        "\n",
        "  return df,shape,counts"
      ],
      "metadata": {
        "id": "pVCciWIa2bI3"
      },
      "execution_count": null,
      "outputs": []
    },
    {
      "cell_type": "code",
      "source": [
        "# load data for 1997 - 2006\n",
        "df1,shape1,counts1 = load_data(file1)\n",
        "print(shape1)\n",
        "print(counts1)\n",
        "df1.head()"
      ],
      "metadata": {
        "colab": {
          "base_uri": "https://localhost:8080/",
          "height": 692
        },
        "id": "swM-UWu12cNs",
        "outputId": "4b0df937-4085-457d-9cb5-f352457e6d04"
      },
      "execution_count": null,
      "outputs": [
        {
          "output_type": "stream",
          "name": "stdout",
          "text": [
            "(95385, 3)\n",
            " 1.0    69406\n",
            "-1.0    18035\n",
            " 0.0     7944\n",
            "Name: overall, dtype: int64\n"
          ]
        },
        {
          "output_type": "stream",
          "name": "stderr",
          "text": [
            "/usr/local/lib/python3.7/dist-packages/seaborn/_decorators.py:43: FutureWarning: Pass the following variable as a keyword arg: x. From version 0.12, the only valid positional argument will be `data`, and passing other arguments without an explicit keyword will result in an error or misinterpretation.\n",
            "  FutureWarning\n"
          ]
        },
        {
          "output_type": "execute_result",
          "data": {
            "text/plain": [
              "   overall  reviewTime                                         reviewText\n",
              "0      1.0        2006  This game is a good time.  Especially if you h...\n",
              "1      0.0        2005  Don't expect the bells and whistles that you f...\n",
              "2      1.0        2005  It is fun to play this game, I really like it....\n",
              "3      1.0        2006  Here's the deal with this item: it's fine for ...\n",
              "4      0.0        2006  We bought this for Christmas for our three kid..."
            ],
            "text/html": [
              "\n",
              "  <div id=\"df-3159229e-aed0-4268-b828-ece37e572747\">\n",
              "    <div class=\"colab-df-container\">\n",
              "      <div>\n",
              "<style scoped>\n",
              "    .dataframe tbody tr th:only-of-type {\n",
              "        vertical-align: middle;\n",
              "    }\n",
              "\n",
              "    .dataframe tbody tr th {\n",
              "        vertical-align: top;\n",
              "    }\n",
              "\n",
              "    .dataframe thead th {\n",
              "        text-align: right;\n",
              "    }\n",
              "</style>\n",
              "<table border=\"1\" class=\"dataframe\">\n",
              "  <thead>\n",
              "    <tr style=\"text-align: right;\">\n",
              "      <th></th>\n",
              "      <th>overall</th>\n",
              "      <th>reviewTime</th>\n",
              "      <th>reviewText</th>\n",
              "    </tr>\n",
              "  </thead>\n",
              "  <tbody>\n",
              "    <tr>\n",
              "      <th>0</th>\n",
              "      <td>1.0</td>\n",
              "      <td>2006</td>\n",
              "      <td>This game is a good time.  Especially if you h...</td>\n",
              "    </tr>\n",
              "    <tr>\n",
              "      <th>1</th>\n",
              "      <td>0.0</td>\n",
              "      <td>2005</td>\n",
              "      <td>Don't expect the bells and whistles that you f...</td>\n",
              "    </tr>\n",
              "    <tr>\n",
              "      <th>2</th>\n",
              "      <td>1.0</td>\n",
              "      <td>2005</td>\n",
              "      <td>It is fun to play this game, I really like it....</td>\n",
              "    </tr>\n",
              "    <tr>\n",
              "      <th>3</th>\n",
              "      <td>1.0</td>\n",
              "      <td>2006</td>\n",
              "      <td>Here's the deal with this item: it's fine for ...</td>\n",
              "    </tr>\n",
              "    <tr>\n",
              "      <th>4</th>\n",
              "      <td>0.0</td>\n",
              "      <td>2006</td>\n",
              "      <td>We bought this for Christmas for our three kid...</td>\n",
              "    </tr>\n",
              "  </tbody>\n",
              "</table>\n",
              "</div>\n",
              "      <button class=\"colab-df-convert\" onclick=\"convertToInteractive('df-3159229e-aed0-4268-b828-ece37e572747')\"\n",
              "              title=\"Convert this dataframe to an interactive table.\"\n",
              "              style=\"display:none;\">\n",
              "        \n",
              "  <svg xmlns=\"http://www.w3.org/2000/svg\" height=\"24px\"viewBox=\"0 0 24 24\"\n",
              "       width=\"24px\">\n",
              "    <path d=\"M0 0h24v24H0V0z\" fill=\"none\"/>\n",
              "    <path d=\"M18.56 5.44l.94 2.06.94-2.06 2.06-.94-2.06-.94-.94-2.06-.94 2.06-2.06.94zm-11 1L8.5 8.5l.94-2.06 2.06-.94-2.06-.94L8.5 2.5l-.94 2.06-2.06.94zm10 10l.94 2.06.94-2.06 2.06-.94-2.06-.94-.94-2.06-.94 2.06-2.06.94z\"/><path d=\"M17.41 7.96l-1.37-1.37c-.4-.4-.92-.59-1.43-.59-.52 0-1.04.2-1.43.59L10.3 9.45l-7.72 7.72c-.78.78-.78 2.05 0 2.83L4 21.41c.39.39.9.59 1.41.59.51 0 1.02-.2 1.41-.59l7.78-7.78 2.81-2.81c.8-.78.8-2.07 0-2.86zM5.41 20L4 18.59l7.72-7.72 1.47 1.35L5.41 20z\"/>\n",
              "  </svg>\n",
              "      </button>\n",
              "      \n",
              "  <style>\n",
              "    .colab-df-container {\n",
              "      display:flex;\n",
              "      flex-wrap:wrap;\n",
              "      gap: 12px;\n",
              "    }\n",
              "\n",
              "    .colab-df-convert {\n",
              "      background-color: #E8F0FE;\n",
              "      border: none;\n",
              "      border-radius: 50%;\n",
              "      cursor: pointer;\n",
              "      display: none;\n",
              "      fill: #1967D2;\n",
              "      height: 32px;\n",
              "      padding: 0 0 0 0;\n",
              "      width: 32px;\n",
              "    }\n",
              "\n",
              "    .colab-df-convert:hover {\n",
              "      background-color: #E2EBFA;\n",
              "      box-shadow: 0px 1px 2px rgba(60, 64, 67, 0.3), 0px 1px 3px 1px rgba(60, 64, 67, 0.15);\n",
              "      fill: #174EA6;\n",
              "    }\n",
              "\n",
              "    [theme=dark] .colab-df-convert {\n",
              "      background-color: #3B4455;\n",
              "      fill: #D2E3FC;\n",
              "    }\n",
              "\n",
              "    [theme=dark] .colab-df-convert:hover {\n",
              "      background-color: #434B5C;\n",
              "      box-shadow: 0px 1px 3px 1px rgba(0, 0, 0, 0.15);\n",
              "      filter: drop-shadow(0px 1px 2px rgba(0, 0, 0, 0.3));\n",
              "      fill: #FFFFFF;\n",
              "    }\n",
              "  </style>\n",
              "\n",
              "      <script>\n",
              "        const buttonEl =\n",
              "          document.querySelector('#df-3159229e-aed0-4268-b828-ece37e572747 button.colab-df-convert');\n",
              "        buttonEl.style.display =\n",
              "          google.colab.kernel.accessAllowed ? 'block' : 'none';\n",
              "\n",
              "        async function convertToInteractive(key) {\n",
              "          const element = document.querySelector('#df-3159229e-aed0-4268-b828-ece37e572747');\n",
              "          const dataTable =\n",
              "            await google.colab.kernel.invokeFunction('convertToInteractive',\n",
              "                                                     [key], {});\n",
              "          if (!dataTable) return;\n",
              "\n",
              "          const docLinkHtml = 'Like what you see? Visit the ' +\n",
              "            '<a target=\"_blank\" href=https://colab.research.google.com/notebooks/data_table.ipynb>data table notebook</a>'\n",
              "            + ' to learn more about interactive tables.';\n",
              "          element.innerHTML = '';\n",
              "          dataTable['output_type'] = 'display_data';\n",
              "          await google.colab.output.renderOutput(dataTable, element);\n",
              "          const docLink = document.createElement('div');\n",
              "          docLink.innerHTML = docLinkHtml;\n",
              "          element.appendChild(docLink);\n",
              "        }\n",
              "      </script>\n",
              "    </div>\n",
              "  </div>\n",
              "  "
            ]
          },
          "metadata": {},
          "execution_count": 7
        },
        {
          "output_type": "display_data",
          "data": {
            "text/plain": [
              "<Figure size 360x360 with 1 Axes>"
            ],
            "image/png": "[encoded data removed]"
          },
          "metadata": {}
        }
      ]
    },
    {
      "cell_type": "code",
      "source": [
        "# load data for 2007 - 2012\n",
        "df2,shape2,counts2 = load_data(file2)\n",
        "print(shape2)\n",
        "print(counts2)\n",
        "df2.head()"
      ],
      "metadata": {
        "colab": {
          "base_uri": "https://localhost:8080/",
          "height": 692
        },
        "id": "rYPkZ6o52dIQ",
        "outputId": "30546300-cfc2-4e02-fc43-691d4a1f108e"
      },
      "execution_count": null,
      "outputs": [
        {
          "output_type": "stream",
          "name": "stdout",
          "text": [
            "(273501, 3)\n",
            " 1.0    193149\n",
            "-1.0     55507\n",
            " 0.0     24845\n",
            "Name: overall, dtype: int64\n"
          ]
        },
        {
          "output_type": "stream",
          "name": "stderr",
          "text": [
            "/usr/local/lib/python3.7/dist-packages/seaborn/_decorators.py:43: FutureWarning: Pass the following variable as a keyword arg: x. From version 0.12, the only valid positional argument will be `data`, and passing other arguments without an explicit keyword will result in an error or misinterpretation.\n",
            "  FutureWarning\n"
          ]
        },
        {
          "output_type": "execute_result",
          "data": {
            "text/plain": [
              "   overall  reviewTime                                         reviewText\n",
              "0      1.0        2012  I oredered this for a daughter who is now 33 a...\n",
              "1      1.0        2010  Well I thought since this idem didn't have any...\n",
              "2      1.0        2012  Good game. Good graphics. A bit of a learning ...\n",
              "3     -1.0        2012  If you buy this game, you will regret it.  If ...\n",
              "4      1.0        2012  4 Stars because they like it and play it often..."
            ],
            "text/html": [
              "\n",
              "  <div id=\"df-2352cb1b-955b-4dba-87e1-d551494eddd8\">\n",
              "    <div class=\"colab-df-container\">\n",
              "      <div>\n",
              "<style scoped>\n",
              "    .dataframe tbody tr th:only-of-type {\n",
              "        vertical-align: middle;\n",
              "    }\n",
              "\n",
              "    .dataframe tbody tr th {\n",
              "        vertical-align: top;\n",
              "    }\n",
              "\n",
              "    .dataframe thead th {\n",
              "        text-align: right;\n",
              "    }\n",
              "</style>\n",
              "<table border=\"1\" class=\"dataframe\">\n",
              "  <thead>\n",
              "    <tr style=\"text-align: right;\">\n",
              "      <th></th>\n",
              "      <th>overall</th>\n",
              "      <th>reviewTime</th>\n",
              "      <th>reviewText</th>\n",
              "    </tr>\n",
              "  </thead>\n",
              "  <tbody>\n",
              "    <tr>\n",
              "      <th>0</th>\n",
              "      <td>1.0</td>\n",
              "      <td>2012</td>\n",
              "      <td>I oredered this for a daughter who is now 33 a...</td>\n",
              "    </tr>\n",
              "    <tr>\n",
              "      <th>1</th>\n",
              "      <td>1.0</td>\n",
              "      <td>2010</td>\n",
              "      <td>Well I thought since this idem didn't have any...</td>\n",
              "    </tr>\n",
              "    <tr>\n",
              "      <th>2</th>\n",
              "      <td>1.0</td>\n",
              "      <td>2012</td>\n",
              "      <td>Good game. Good graphics. A bit of a learning ...</td>\n",
              "    </tr>\n",
              "    <tr>\n",
              "      <th>3</th>\n",
              "      <td>-1.0</td>\n",
              "      <td>2012</td>\n",
              "      <td>If you buy this game, you will regret it.  If ...</td>\n",
              "    </tr>\n",
              "    <tr>\n",
              "      <th>4</th>\n",
              "      <td>1.0</td>\n",
              "      <td>2012</td>\n",
              "      <td>4 Stars because they like it and play it often...</td>\n",
              "    </tr>\n",
              "  </tbody>\n",
              "</table>\n",
              "</div>\n",
              "      <button class=\"colab-df-convert\" onclick=\"convertToInteractive('df-2352cb1b-955b-4dba-87e1-d551494eddd8')\"\n",
              "              title=\"Convert this dataframe to an interactive table.\"\n",
              "              style=\"display:none;\">\n",
              "        \n",
              "  <svg xmlns=\"http://www.w3.org/2000/svg\" height=\"24px\"viewBox=\"0 0 24 24\"\n",
              "       width=\"24px\">\n",
              "    <path d=\"M0 0h24v24H0V0z\" fill=\"none\"/>\n",
              "    <path d=\"M18.56 5.44l.94 2.06.94-2.06 2.06-.94-2.06-.94-.94-2.06-.94 2.06-2.06.94zm-11 1L8.5 8.5l.94-2.06 2.06-.94-2.06-.94L8.5 2.5l-.94 2.06-2.06.94zm10 10l.94 2.06.94-2.06 2.06-.94-2.06-.94-.94-2.06-.94 2.06-2.06.94z\"/><path d=\"M17.41 7.96l-1.37-1.37c-.4-.4-.92-.59-1.43-.59-.52 0-1.04.2-1.43.59L10.3 9.45l-7.72 7.72c-.78.78-.78 2.05 0 2.83L4 21.41c.39.39.9.59 1.41.59.51 0 1.02-.2 1.41-.59l7.78-7.78 2.81-2.81c.8-.78.8-2.07 0-2.86zM5.41 20L4 18.59l7.72-7.72 1.47 1.35L5.41 20z\"/>\n",
              "  </svg>\n",
              "      </button>\n",
              "      \n",
              "  <style>\n",
              "    .colab-df-container {\n",
              "      display:flex;\n",
              "      flex-wrap:wrap;\n",
              "      gap: 12px;\n",
              "    }\n",
              "\n",
              "    .colab-df-convert {\n",
              "      background-color: #E8F0FE;\n",
              "      border: none;\n",
              "      border-radius: 50%;\n",
              "      cursor: pointer;\n",
              "      display: none;\n",
              "      fill: #1967D2;\n",
              "      height: 32px;\n",
              "      padding: 0 0 0 0;\n",
              "      width: 32px;\n",
              "    }\n",
              "\n",
              "    .colab-df-convert:hover {\n",
              "      background-color: #E2EBFA;\n",
              "      box-shadow: 0px 1px 2px rgba(60, 64, 67, 0.3), 0px 1px 3px 1px rgba(60, 64, 67, 0.15);\n",
              "      fill: #174EA6;\n",
              "    }\n",
              "\n",
              "    [theme=dark] .colab-df-convert {\n",
              "      background-color: #3B4455;\n",
              "      fill: #D2E3FC;\n",
              "    }\n",
              "\n",
              "    [theme=dark] .colab-df-convert:hover {\n",
              "      background-color: #434B5C;\n",
              "      box-shadow: 0px 1px 3px 1px rgba(0, 0, 0, 0.15);\n",
              "      filter: drop-shadow(0px 1px 2px rgba(0, 0, 0, 0.3));\n",
              "      fill: #FFFFFF;\n",
              "    }\n",
              "  </style>\n",
              "\n",
              "      <script>\n",
              "        const buttonEl =\n",
              "          document.querySelector('#df-2352cb1b-955b-4dba-87e1-d551494eddd8 button.colab-df-convert');\n",
              "        buttonEl.style.display =\n",
              "          google.colab.kernel.accessAllowed ? 'block' : 'none';\n",
              "\n",
              "        async function convertToInteractive(key) {\n",
              "          const element = document.querySelector('#df-2352cb1b-955b-4dba-87e1-d551494eddd8');\n",
              "          const dataTable =\n",
              "            await google.colab.kernel.invokeFunction('convertToInteractive',\n",
              "                                                     [key], {});\n",
              "          if (!dataTable) return;\n",
              "\n",
              "          const docLinkHtml = 'Like what you see? Visit the ' +\n",
              "            '<a target=\"_blank\" href=https://colab.research.google.com/notebooks/data_table.ipynb>data table notebook</a>'\n",
              "            + ' to learn more about interactive tables.';\n",
              "          element.innerHTML = '';\n",
              "          dataTable['output_type'] = 'display_data';\n",
              "          await google.colab.output.renderOutput(dataTable, element);\n",
              "          const docLink = document.createElement('div');\n",
              "          docLink.innerHTML = docLinkHtml;\n",
              "          element.appendChild(docLink);\n",
              "        }\n",
              "      </script>\n",
              "    </div>\n",
              "  </div>\n",
              "  "
            ]
          },
          "metadata": {},
          "execution_count": 8
        },
        {
          "output_type": "display_data",
          "data": {
            "text/plain": [
              "<Figure size 360x360 with 1 Axes>"
            ],
            "image/png": "[encoded data removed]"
          },
          "metadata": {}
        }
      ]
    },
    {
      "cell_type": "code",
      "source": [
        "# load data for 2013 - 2017\n",
        "df3,shape3,counts3 = load_data(file3)\n",
        "print(shape3)\n",
        "print(counts3)\n",
        "df3.head()"
      ],
      "metadata": {
        "colab": {
          "base_uri": "https://localhost:8080/",
          "height": 692
        },
        "id": "2z-gSi3J2edG",
        "outputId": "a64c6710-2a2a-43da-e2eb-814ee936be0c"
      },
      "execution_count": null,
      "outputs": [
        {
          "output_type": "stream",
          "name": "stdout",
          "text": [
            "(957163, 3)\n",
            " 1.0    672584\n",
            "-1.0    210099\n",
            " 0.0     74480\n",
            "Name: overall, dtype: int64\n"
          ]
        },
        {
          "output_type": "stream",
          "name": "stderr",
          "text": [
            "/usr/local/lib/python3.7/dist-packages/seaborn/_decorators.py:43: FutureWarning: Pass the following variable as a keyword arg: x. From version 0.12, the only valid positional argument will be `data`, and passing other arguments without an explicit keyword will result in an error or misinterpretation.\n",
            "  FutureWarning\n"
          ]
        },
        {
          "output_type": "execute_result",
          "data": {
            "text/plain": [
              "   overall  reviewTime                                         reviewText\n",
              "0     -1.0        2014  I used to play this game years ago and loved i...\n",
              "1      0.0        2014  The game itself worked great but the story lin...\n",
              "2      1.0        2014  I had to learn the hard way after ordering thi...\n",
              "3     -1.0        2014  The product description should state this clea...\n",
              "4      1.0        2014  I would recommend this learning game for anyon..."
            ],
            "text/html": [
              "\n",
              "  <div id=\"df-6ad9dab4-9747-458a-92de-cfa0fa9453a5\">\n",
              "    <div class=\"colab-df-container\">\n",
              "      <div>\n",
              "<style scoped>\n",
              "    .dataframe tbody tr th:only-of-type {\n",
              "        vertical-align: middle;\n",
              "    }\n",
              "\n",
              "    .dataframe tbody tr th {\n",
              "        vertical-align: top;\n",
              "    }\n",
              "\n",
              "    .dataframe thead th {\n",
              "        text-align: right;\n",
              "    }\n",
              "</style>\n",
              "<table border=\"1\" class=\"dataframe\">\n",
              "  <thead>\n",
              "    <tr style=\"text-align: right;\">\n",
              "      <th></th>\n",
              "      <th>overall</th>\n",
              "      <th>reviewTime</th>\n",
              "      <th>reviewText</th>\n",
              "    </tr>\n",
              "  </thead>\n",
              "  <tbody>\n",
              "    <tr>\n",
              "      <th>0</th>\n",
              "      <td>-1.0</td>\n",
              "      <td>2014</td>\n",
              "      <td>I used to play this game years ago and loved i...</td>\n",
              "    </tr>\n",
              "    <tr>\n",
              "      <th>1</th>\n",
              "      <td>0.0</td>\n",
              "      <td>2014</td>\n",
              "      <td>The game itself worked great but the story lin...</td>\n",
              "    </tr>\n",
              "    <tr>\n",
              "      <th>2</th>\n",
              "      <td>1.0</td>\n",
              "      <td>2014</td>\n",
              "      <td>I had to learn the hard way after ordering thi...</td>\n",
              "    </tr>\n",
              "    <tr>\n",
              "      <th>3</th>\n",
              "      <td>-1.0</td>\n",
              "      <td>2014</td>\n",
              "      <td>The product description should state this clea...</td>\n",
              "    </tr>\n",
              "    <tr>\n",
              "      <th>4</th>\n",
              "      <td>1.0</td>\n",
              "      <td>2014</td>\n",
              "      <td>I would recommend this learning game for anyon...</td>\n",
              "    </tr>\n",
              "  </tbody>\n",
              "</table>\n",
              "</div>\n",
              "      <button class=\"colab-df-convert\" onclick=\"convertToInteractive('df-6ad9dab4-9747-458a-92de-cfa0fa9453a5')\"\n",
              "              title=\"Convert this dataframe to an interactive table.\"\n",
              "              style=\"display:none;\">\n",
              "        \n",
              "  <svg xmlns=\"http://www.w3.org/2000/svg\" height=\"24px\"viewBox=\"0 0 24 24\"\n",
              "       width=\"24px\">\n",
              "    <path d=\"M0 0h24v24H0V0z\" fill=\"none\"/>\n",
              "    <path d=\"M18.56 5.44l.94 2.06.94-2.06 2.06-.94-2.06-.94-.94-2.06-.94 2.06-2.06.94zm-11 1L8.5 8.5l.94-2.06 2.06-.94-2.06-.94L8.5 2.5l-.94 2.06-2.06.94zm10 10l.94 2.06.94-2.06 2.06-.94-2.06-.94-.94-2.06-.94 2.06-2.06.94z\"/><path d=\"M17.41 7.96l-1.37-1.37c-.4-.4-.92-.59-1.43-.59-.52 0-1.04.2-1.43.59L10.3 9.45l-7.72 7.72c-.78.78-.78 2.05 0 2.83L4 21.41c.39.39.9.59 1.41.59.51 0 1.02-.2 1.41-.59l7.78-7.78 2.81-2.81c.8-.78.8-2.07 0-2.86zM5.41 20L4 18.59l7.72-7.72 1.47 1.35L5.41 20z\"/>\n",
              "  </svg>\n",
              "      </button>\n",
              "      \n",
              "  <style>\n",
              "    .colab-df-container {\n",
              "      display:flex;\n",
              "      flex-wrap:wrap;\n",
              "      gap: 12px;\n",
              "    }\n",
              "\n",
              "    .colab-df-convert {\n",
              "      background-color: #E8F0FE;\n",
              "      border: none;\n",
              "      border-radius: 50%;\n",
              "      cursor: pointer;\n",
              "      display: none;\n",
              "      fill: #1967D2;\n",
              "      height: 32px;\n",
              "      padding: 0 0 0 0;\n",
              "      width: 32px;\n",
              "    }\n",
              "\n",
              "    .colab-df-convert:hover {\n",
              "      background-color: #E2EBFA;\n",
              "      box-shadow: 0px 1px 2px rgba(60, 64, 67, 0.3), 0px 1px 3px 1px rgba(60, 64, 67, 0.15);\n",
              "      fill: #174EA6;\n",
              "    }\n",
              "\n",
              "    [theme=dark] .colab-df-convert {\n",
              "      background-color: #3B4455;\n",
              "      fill: #D2E3FC;\n",
              "    }\n",
              "\n",
              "    [theme=dark] .colab-df-convert:hover {\n",
              "      background-color: #434B5C;\n",
              "      box-shadow: 0px 1px 3px 1px rgba(0, 0, 0, 0.15);\n",
              "      filter: drop-shadow(0px 1px 2px rgba(0, 0, 0, 0.3));\n",
              "      fill: #FFFFFF;\n",
              "    }\n",
              "  </style>\n",
              "\n",
              "      <script>\n",
              "        const buttonEl =\n",
              "          document.querySelector('#df-6ad9dab4-9747-458a-92de-cfa0fa9453a5 button.colab-df-convert');\n",
              "        buttonEl.style.display =\n",
              "          google.colab.kernel.accessAllowed ? 'block' : 'none';\n",
              "\n",
              "        async function convertToInteractive(key) {\n",
              "          const element = document.querySelector('#df-6ad9dab4-9747-458a-92de-cfa0fa9453a5');\n",
              "          const dataTable =\n",
              "            await google.colab.kernel.invokeFunction('convertToInteractive',\n",
              "                                                     [key], {});\n",
              "          if (!dataTable) return;\n",
              "\n",
              "          const docLinkHtml = 'Like what you see? Visit the ' +\n",
              "            '<a target=\"_blank\" href=https://colab.research.google.com/notebooks/data_table.ipynb>data table notebook</a>'\n",
              "            + ' to learn more about interactive tables.';\n",
              "          element.innerHTML = '';\n",
              "          dataTable['output_type'] = 'display_data';\n",
              "          await google.colab.output.renderOutput(dataTable, element);\n",
              "          const docLink = document.createElement('div');\n",
              "          docLink.innerHTML = docLinkHtml;\n",
              "          element.appendChild(docLink);\n",
              "        }\n",
              "      </script>\n",
              "    </div>\n",
              "  </div>\n",
              "  "
            ]
          },
          "metadata": {},
          "execution_count": 9
        },
        {
          "output_type": "display_data",
          "data": {
            "text/plain": [
              "<Figure size 360x360 with 1 Axes>"
            ],
            "image/png": "[encoded data removed]"
          },
          "metadata": {}
        }
      ]
    },
    {
      "cell_type": "code",
      "source": [
        "# load data for 2018\n",
        "df4,shape4,counts4 = load_data(file4)\n",
        "print(shape4)\n",
        "print(counts4)\n",
        "df4.head()"
      ],
      "metadata": {
        "colab": {
          "base_uri": "https://localhost:8080/",
          "height": 692
        },
        "id": "gFcyN49R2flh",
        "outputId": "f31b9930-7f12-4862-b537-cbcd21e8932e"
      },
      "execution_count": null,
      "outputs": [
        {
          "output_type": "stream",
          "name": "stdout",
          "text": [
            "(80396, 3)\n",
            " 1.0    52744\n",
            "-1.0    21618\n",
            " 0.0     6034\n",
            "Name: overall, dtype: int64\n"
          ]
        },
        {
          "output_type": "stream",
          "name": "stderr",
          "text": [
            "/usr/local/lib/python3.7/dist-packages/seaborn/_decorators.py:43: FutureWarning: Pass the following variable as a keyword arg: x. From version 0.12, the only valid positional argument will be `data`, and passing other arguments without an explicit keyword will result in an error or misinterpretation.\n",
            "  FutureWarning\n"
          ]
        },
        {
          "output_type": "execute_result",
          "data": {
            "text/plain": [
              "   overall  reviewTime                                         reviewText\n",
              "0      1.0        2018         No complaints! Sing your little heart out!\n",
              "1      1.0        2018  Works great with Xbox 360. I have 2 of these u...\n",
              "2      1.0        2018  The game was perfect and super clean. Very ple...\n",
              "3      1.0        2018  It was perfect gift. Got it for Christmas and ...\n",
              "4      1.0        2018                                           Lik3d it"
            ],
            "text/html": [
              "\n",
              "  <div id=\"df-56e53ca2-d8c9-4b78-9130-25077ecc50bf\">\n",
              "    <div class=\"colab-df-container\">\n",
              "      <div>\n",
              "<style scoped>\n",
              "    .dataframe tbody tr th:only-of-type {\n",
              "        vertical-align: middle;\n",
              "    }\n",
              "\n",
              "    .dataframe tbody tr th {\n",
              "        vertical-align: top;\n",
              "    }\n",
              "\n",
              "    .dataframe thead th {\n",
              "        text-align: right;\n",
              "    }\n",
              "</style>\n",
              "<table border=\"1\" class=\"dataframe\">\n",
              "  <thead>\n",
              "    <tr style=\"text-align: right;\">\n",
              "      <th></th>\n",
              "      <th>overall</th>\n",
              "      <th>reviewTime</th>\n",
              "      <th>reviewText</th>\n",
              "    </tr>\n",
              "  </thead>\n",
              "  <tbody>\n",
              "    <tr>\n",
              "      <th>0</th>\n",
              "      <td>1.0</td>\n",
              "      <td>2018</td>\n",
              "      <td>No complaints! Sing your little heart out!</td>\n",
              "    </tr>\n",
              "    <tr>\n",
              "      <th>1</th>\n",
              "      <td>1.0</td>\n",
              "      <td>2018</td>\n",
              "      <td>Works great with Xbox 360. I have 2 of these u...</td>\n",
              "    </tr>\n",
              "    <tr>\n",
              "      <th>2</th>\n",
              "      <td>1.0</td>\n",
              "      <td>2018</td>\n",
              "      <td>The game was perfect and super clean. Very ple...</td>\n",
              "    </tr>\n",
              "    <tr>\n",
              "      <th>3</th>\n",
              "      <td>1.0</td>\n",
              "      <td>2018</td>\n",
              "      <td>It was perfect gift. Got it for Christmas and ...</td>\n",
              "    </tr>\n",
              "    <tr>\n",
              "      <th>4</th>\n",
              "      <td>1.0</td>\n",
              "      <td>2018</td>\n",
              "      <td>Lik3d it</td>\n",
              "    </tr>\n",
              "  </tbody>\n",
              "</table>\n",
              "</div>\n",
              "      <button class=\"colab-df-convert\" onclick=\"convertToInteractive('df-56e53ca2-d8c9-4b78-9130-25077ecc50bf')\"\n",
              "              title=\"Convert this dataframe to an interactive table.\"\n",
              "              style=\"display:none;\">\n",
              "        \n",
              "  <svg xmlns=\"http://www.w3.org/2000/svg\" height=\"24px\"viewBox=\"0 0 24 24\"\n",
              "       width=\"24px\">\n",
              "    <path d=\"M0 0h24v24H0V0z\" fill=\"none\"/>\n",
              "    <path d=\"M18.56 5.44l.94 2.06.94-2.06 2.06-.94-2.06-.94-.94-2.06-.94 2.06-2.06.94zm-11 1L8.5 8.5l.94-2.06 2.06-.94-2.06-.94L8.5 2.5l-.94 2.06-2.06.94zm10 10l.94 2.06.94-2.06 2.06-.94-2.06-.94-.94-2.06-.94 2.06-2.06.94z\"/><path d=\"M17.41 7.96l-1.37-1.37c-.4-.4-.92-.59-1.43-.59-.52 0-1.04.2-1.43.59L10.3 9.45l-7.72 7.72c-.78.78-.78 2.05 0 2.83L4 21.41c.39.39.9.59 1.41.59.51 0 1.02-.2 1.41-.59l7.78-7.78 2.81-2.81c.8-.78.8-2.07 0-2.86zM5.41 20L4 18.59l7.72-7.72 1.47 1.35L5.41 20z\"/>\n",
              "  </svg>\n",
              "      </button>\n",
              "      \n",
              "  <style>\n",
              "    .colab-df-container {\n",
              "      display:flex;\n",
              "      flex-wrap:wrap;\n",
              "      gap: 12px;\n",
              "    }\n",
              "\n",
              "    .colab-df-convert {\n",
              "      background-color: #E8F0FE;\n",
              "      border: none;\n",
              "      border-radius: 50%;\n",
              "      cursor: pointer;\n",
              "      display: none;\n",
              "      fill: #1967D2;\n",
              "      height: 32px;\n",
              "      padding: 0 0 0 0;\n",
              "      width: 32px;\n",
              "    }\n",
              "\n",
              "    .colab-df-convert:hover {\n",
              "      background-color: #E2EBFA;\n",
              "      box-shadow: 0px 1px 2px rgba(60, 64, 67, 0.3), 0px 1px 3px 1px rgba(60, 64, 67, 0.15);\n",
              "      fill: #174EA6;\n",
              "    }\n",
              "\n",
              "    [theme=dark] .colab-df-convert {\n",
              "      background-color: #3B4455;\n",
              "      fill: #D2E3FC;\n",
              "    }\n",
              "\n",
              "    [theme=dark] .colab-df-convert:hover {\n",
              "      background-color: #434B5C;\n",
              "      box-shadow: 0px 1px 3px 1px rgba(0, 0, 0, 0.15);\n",
              "      filter: drop-shadow(0px 1px 2px rgba(0, 0, 0, 0.3));\n",
              "      fill: #FFFFFF;\n",
              "    }\n",
              "  </style>\n",
              "\n",
              "      <script>\n",
              "        const buttonEl =\n",
              "          document.querySelector('#df-56e53ca2-d8c9-4b78-9130-25077ecc50bf button.colab-df-convert');\n",
              "        buttonEl.style.display =\n",
              "          google.colab.kernel.accessAllowed ? 'block' : 'none';\n",
              "\n",
              "        async function convertToInteractive(key) {\n",
              "          const element = document.querySelector('#df-56e53ca2-d8c9-4b78-9130-25077ecc50bf');\n",
              "          const dataTable =\n",
              "            await google.colab.kernel.invokeFunction('convertToInteractive',\n",
              "                                                     [key], {});\n",
              "          if (!dataTable) return;\n",
              "\n",
              "          const docLinkHtml = 'Like what you see? Visit the ' +\n",
              "            '<a target=\"_blank\" href=https://colab.research.google.com/notebooks/data_table.ipynb>data table notebook</a>'\n",
              "            + ' to learn more about interactive tables.';\n",
              "          element.innerHTML = '';\n",
              "          dataTable['output_type'] = 'display_data';\n",
              "          await google.colab.output.renderOutput(dataTable, element);\n",
              "          const docLink = document.createElement('div');\n",
              "          docLink.innerHTML = docLinkHtml;\n",
              "          element.appendChild(docLink);\n",
              "        }\n",
              "      </script>\n",
              "    </div>\n",
              "  </div>\n",
              "  "
            ]
          },
          "metadata": {},
          "execution_count": 10
        },
        {
          "output_type": "display_data",
          "data": {
            "text/plain": [
              "<Figure size 360x360 with 1 Axes>"
            ],
            "image/png": "[encoded data removed]"
          },
          "metadata": {}
        }
      ]
    },
    {
      "cell_type": "markdown",
      "source": [
        "## Split and Balance train&test"
      ],
      "metadata": {
        "id": "sMKCGw9W2iwa"
      }
    },
    {
      "cell_type": "markdown",
      "source": [
        "Balance each time period for \n",
        "5000 positive，5000 negative，5000 neutral\n",
        "\n",
        "80%(12000) training and 20%(3000) testing"
      ],
      "metadata": {
        "id": "qHAW5CSH2kda"
      }
    },
    {
      "cell_type": "code",
      "source": [
        "def split_balance(df):\n",
        "  # get data of each class\n",
        "  groups = df.groupby(df.overall)\n",
        "  pos = groups.get_group(1)\n",
        "  neu = groups.get_group(0)\n",
        "  neg = groups.get_group(-1)\n",
        "\n",
        "  # shuffle the dataframe\n",
        "  pos = pos.sample(frac=1.0)\n",
        "  neu = neu.sample(frac=1.0)\n",
        "  neg = neg.sample(frac=1.0)\n",
        "\n",
        "  # split to get train for each class\n",
        "  train_posdata = pos.iloc[:4000,:]\n",
        "  train_neudata = neu.iloc[:4000,:]\n",
        "  train_negdata = neg.iloc[:4000,:]\n",
        "\n",
        "  # split to get test for each class\n",
        "  test_posdata = pos.iloc[4000:5000,:]\n",
        "  test_neudata = neu.iloc[4000:5000,:]\n",
        "  test_negdata = neg.iloc[4000:5000,:]\n",
        "\n",
        "  train = pd.concat([train_posdata, train_neudata, train_negdata],sort=False).sample(frac=1.0)\n",
        "  test = pd.concat([test_posdata, test_neudata, test_negdata],sort=False).sample(frac=1.0)\n",
        "\n",
        "  return train,test"
      ],
      "metadata": {
        "id": "KVVzmoL62gm3"
      },
      "execution_count": null,
      "outputs": []
    },
    {
      "cell_type": "code",
      "source": [
        "# data for 1997 - 2006\n",
        "df1_train,df1_test = split_balance(df1)\n",
        "\n",
        "# data for 2007 - 2012\n",
        "df2_train,df2_test = split_balance(df2)\n",
        "\n",
        "# data for 2013 - 2017\n",
        "df3_train,df3_test = split_balance(df3)\n",
        "\n",
        "# data for 2018\n",
        "df4_train,df4_test = split_balance(df4)"
      ],
      "metadata": {
        "id": "0aluYO1_2l1b"
      },
      "execution_count": null,
      "outputs": []
    },
    {
      "cell_type": "code",
      "source": [
        "df1_train[\"overall\"] = df1_train[\"overall\"].replace(-1,2)\n",
        "df1_test[\"overall\"] = df1_test[\"overall\"].replace(-1,2)\n",
        "\n",
        "df2_train[\"overall\"] = df2_train[\"overall\"].replace(-1,2)\n",
        "df2_test[\"overall\"] = df2_test[\"overall\"].replace(-1,2)\n",
        "\n",
        "df3_train[\"overall\"] = df3_train[\"overall\"].replace(-1,2)\n",
        "df3_test[\"overall\"] = df3_test[\"overall\"].replace(-1,2)\n",
        "\n",
        "df4_train[\"overall\"] = df4_train[\"overall\"].replace(-1,2)\n",
        "df4_test[\"overall\"] = df4_test[\"overall\"].replace(-1,2)"
      ],
      "metadata": {
        "id": "JE5LuEUx2m1f"
      },
      "execution_count": null,
      "outputs": []
    },
    {
      "cell_type": "code",
      "source": [
        "df1_test.shape"
      ],
      "metadata": {
        "colab": {
          "base_uri": "https://localhost:8080/"
        },
        "id": "lOTnziNs2pRX",
        "outputId": "2b4618c8-b3ed-4890-8c2e-c6a55779a0f5"
      },
      "execution_count": null,
      "outputs": [
        {
          "output_type": "execute_result",
          "data": {
            "text/plain": [
              "(3000, 3)"
            ]
          },
          "metadata": {},
          "execution_count": 14
        }
      ]
    },
    {
      "cell_type": "markdown",
      "source": [
        "## Text Preprocessing"
      ],
      "metadata": {
        "id": "BfdB8ARC2r3I"
      }
    },
    {
      "cell_type": "code",
      "source": [
        "# get stopwords from txt\n",
        "def get_stop_words(txt):\n",
        "    #read the stop words\n",
        "    with open(txt,'r') as f:\n",
        "        stopwords_list=f.readlines()\n",
        "    for i in range (0,len(stopwords_list)):\n",
        "        stopwords_list[i]=stopwords_list[i].replace('\\n','')\n",
        "    return stopwords_list"
      ],
      "metadata": {
        "id": "ZKzwlaAM2qRR"
      },
      "execution_count": null,
      "outputs": []
    },
    {
      "cell_type": "code",
      "source": [
        "# Defining my NLTK stop words and my user-defined stop words\n",
        "stop_words = list(stopwords.words('english'))\n",
        "alphabets = list(string.ascii_lowercase) # 26 letters with lowercase\n",
        "user_stop_words = get_stop_words(\"./drive/MyDrive/Colab Notebooks/CL/stopwords.txt\")\n",
        "stop_words = stop_words+alphabets+user_stop_words\n",
        "emojis = {**UNICODE_EMOJI,**EMOTICONS_EMO} # full list of emojis unicodes"
      ],
      "metadata": {
        "id": "lBQBGdDe2swh"
      },
      "execution_count": null,
      "outputs": []
    },
    {
      "cell_type": "code",
      "source": [
        "def processtext(txt):\n",
        "  # replace all emojis\n",
        "  for emo in emojis.keys():\n",
        "    txt = txt.replace(emo,\"EMOJI \"+emojis[emo])\n",
        "  \n",
        "  txt = txt.replace('\\r', '').replace('\\n', ' ')\n",
        "  # remove all html tag\n",
        "  txt = re.sub(\"(<.*?>)\", \"\", txt)\n",
        "  # remove all urls\n",
        "  txt = re.sub('https?:\\/\\/\\S+','',txt)\n",
        "  # remove @ references  \n",
        "  txt = re.sub('@[\\w_]+','',txt)\n",
        "  # remove # hashtags\n",
        "  txt = re.sub('#\\S+','',txt)\n",
        "  # replace digits with no space\n",
        "  txt = re.sub(r\"\\d\", '',txt)\n",
        "  # convert tweet to lower case\n",
        "  txt = txt.lower()\n",
        "  # remove all multiple white spaces\n",
        "  txt = re.sub('[\\s]+',' ',txt)\n",
        "  # remove all punctuations and non-ascii\n",
        "  txt = re.sub('[\\.?!,;:\\-\\[\\]\\{\\}\\(\\)\\'\\\"/]','',txt)\n",
        "  txt = txt.replace('$','').replace('&','')\n",
        "  # remove whitespace\n",
        "  txt = txt.strip()\n",
        "\n",
        "  tokens = word_tokenize(txt)\n",
        "  filtered_words = [w for w in tokens if w not in stop_words]\n",
        "  # filtered_words = [w for w in filtered_words if w in word_list]\n",
        "  return \" \".join(filtered_words)"
      ],
      "metadata": {
        "id": "N-RuW9_92tnr"
      },
      "execution_count": null,
      "outputs": []
    },
    {
      "cell_type": "code",
      "source": [
        "df1_train[\"cleanText\"] = df1_train[\"reviewText\"].apply(processtext)\n",
        "df1_test[\"cleanText\"] = df1_test[\"reviewText\"].apply(processtext)\n",
        "\n",
        "df2_train[\"cleanText\"] = df2_train[\"reviewText\"].apply(processtext)\n",
        "df2_test[\"cleanText\"] = df2_test[\"reviewText\"].apply(processtext)\n",
        "\n",
        "df3_train[\"cleanText\"] = df3_train[\"reviewText\"].apply(processtext)\n",
        "df3_test[\"cleanText\"] = df3_test[\"reviewText\"].apply(processtext)\n",
        "\n",
        "df4_train[\"cleanText\"] = df4_train[\"reviewText\"].apply(processtext)\n",
        "df4_test[\"cleanText\"] = df4_test[\"reviewText\"].apply(processtext)"
      ],
      "metadata": {
        "id": "y9dEnMZs2uj3"
      },
      "execution_count": null,
      "outputs": []
    },
    {
      "cell_type": "code",
      "source": [
        "df4_test.head()"
      ],
      "metadata": {
        "colab": {
          "base_uri": "https://localhost:8080/",
          "height": 206
        },
        "id": "rDLBIUxu2vh0",
        "outputId": "bc283faf-fa1a-452c-a4ed-62b64a60b7b5"
      },
      "execution_count": null,
      "outputs": [
        {
          "output_type": "execute_result",
          "data": {
            "text/plain": [
              "       overall  reviewTime                                         reviewText  \\\n",
              "32966      0.0        2018  I really liked, but it come with the broken fi...   \n",
              "51809      0.0        2018  If you're looking for the adapter pictured thi...   \n",
              "8692       2.0        2018  Didnt even come in a case, just a sleeve. Grea...   \n",
              "28001      1.0        2018             My son love to dance all of the songs.   \n",
              "65968      1.0        2018  We buy most all of the Lego games for Xbox 360...   \n",
              "\n",
              "                                               cleanText  \n",
              "32966                   really liked come broken fitting  \n",
              "51809  youre looking adapter pictured product gets jo...  \n",
              "8692       didnt even come case sleeve great gift turned  \n",
              "28001                               son love dance songs  \n",
              "65968  buy lego games xbox best enjoyed hobbit versio...  "
            ],
            "text/html": [
              "\n",
              "  <div id=\"df-a6815b8e-65e2-4f38-98cf-681a00591d25\">\n",
              "    <div class=\"colab-df-container\">\n",
              "      <div>\n",
              "<style scoped>\n",
              "    .dataframe tbody tr th:only-of-type {\n",
              "        vertical-align: middle;\n",
              "    }\n",
              "\n",
              "    .dataframe tbody tr th {\n",
              "        vertical-align: top;\n",
              "    }\n",
              "\n",
              "    .dataframe thead th {\n",
              "        text-align: right;\n",
              "    }\n",
              "</style>\n",
              "<table border=\"1\" class=\"dataframe\">\n",
              "  <thead>\n",
              "    <tr style=\"text-align: right;\">\n",
              "      <th></th>\n",
              "      <th>overall</th>\n",
              "      <th>reviewTime</th>\n",
              "      <th>reviewText</th>\n",
              "      <th>cleanText</th>\n",
              "    </tr>\n",
              "  </thead>\n",
              "  <tbody>\n",
              "    <tr>\n",
              "      <th>32966</th>\n",
              "      <td>0.0</td>\n",
              "      <td>2018</td>\n",
              "      <td>I really liked, but it come with the broken fi...</td>\n",
              "      <td>really liked come broken fitting</td>\n",
              "    </tr>\n",
              "    <tr>\n",
              "      <th>51809</th>\n",
              "      <td>0.0</td>\n",
              "      <td>2018</td>\n",
              "      <td>If you're looking for the adapter pictured thi...</td>\n",
              "      <td>youre looking adapter pictured product gets jo...</td>\n",
              "    </tr>\n",
              "    <tr>\n",
              "      <th>8692</th>\n",
              "      <td>2.0</td>\n",
              "      <td>2018</td>\n",
              "      <td>Didnt even come in a case, just a sleeve. Grea...</td>\n",
              "      <td>didnt even come case sleeve great gift turned</td>\n",
              "    </tr>\n",
              "    <tr>\n",
              "      <th>28001</th>\n",
              "      <td>1.0</td>\n",
              "      <td>2018</td>\n",
              "      <td>My son love to dance all of the songs.</td>\n",
              "      <td>son love dance songs</td>\n",
              "    </tr>\n",
              "    <tr>\n",
              "      <th>65968</th>\n",
              "      <td>1.0</td>\n",
              "      <td>2018</td>\n",
              "      <td>We buy most all of the Lego games for Xbox 360...</td>\n",
              "      <td>buy lego games xbox best enjoyed hobbit versio...</td>\n",
              "    </tr>\n",
              "  </tbody>\n",
              "</table>\n",
              "</div>\n",
              "      <button class=\"colab-df-convert\" onclick=\"convertToInteractive('df-a6815b8e-65e2-4f38-98cf-681a00591d25')\"\n",
              "              title=\"Convert this dataframe to an interactive table.\"\n",
              "              style=\"display:none;\">\n",
              "        \n",
              "  <svg xmlns=\"http://www.w3.org/2000/svg\" height=\"24px\"viewBox=\"0 0 24 24\"\n",
              "       width=\"24px\">\n",
              "    <path d=\"M0 0h24v24H0V0z\" fill=\"none\"/>\n",
              "    <path d=\"M18.56 5.44l.94 2.06.94-2.06 2.06-.94-2.06-.94-.94-2.06-.94 2.06-2.06.94zm-11 1L8.5 8.5l.94-2.06 2.06-.94-2.06-.94L8.5 2.5l-.94 2.06-2.06.94zm10 10l.94 2.06.94-2.06 2.06-.94-2.06-.94-.94-2.06-.94 2.06-2.06.94z\"/><path d=\"M17.41 7.96l-1.37-1.37c-.4-.4-.92-.59-1.43-.59-.52 0-1.04.2-1.43.59L10.3 9.45l-7.72 7.72c-.78.78-.78 2.05 0 2.83L4 21.41c.39.39.9.59 1.41.59.51 0 1.02-.2 1.41-.59l7.78-7.78 2.81-2.81c.8-.78.8-2.07 0-2.86zM5.41 20L4 18.59l7.72-7.72 1.47 1.35L5.41 20z\"/>\n",
              "  </svg>\n",
              "      </button>\n",
              "      \n",
              "  <style>\n",
              "    .colab-df-container {\n",
              "      display:flex;\n",
              "      flex-wrap:wrap;\n",
              "      gap: 12px;\n",
              "    }\n",
              "\n",
              "    .colab-df-convert {\n",
              "      background-color: #E8F0FE;\n",
              "      border: none;\n",
              "      border-radius: 50%;\n",
              "      cursor: pointer;\n",
              "      display: none;\n",
              "      fill: #1967D2;\n",
              "      height: 32px;\n",
              "      padding: 0 0 0 0;\n",
              "      width: 32px;\n",
              "    }\n",
              "\n",
              "    .colab-df-convert:hover {\n",
              "      background-color: #E2EBFA;\n",
              "      box-shadow: 0px 1px 2px rgba(60, 64, 67, 0.3), 0px 1px 3px 1px rgba(60, 64, 67, 0.15);\n",
              "      fill: #174EA6;\n",
              "    }\n",
              "\n",
              "    [theme=dark] .colab-df-convert {\n",
              "      background-color: #3B4455;\n",
              "      fill: #D2E3FC;\n",
              "    }\n",
              "\n",
              "    [theme=dark] .colab-df-convert:hover {\n",
              "      background-color: #434B5C;\n",
              "      box-shadow: 0px 1px 3px 1px rgba(0, 0, 0, 0.15);\n",
              "      filter: drop-shadow(0px 1px 2px rgba(0, 0, 0, 0.3));\n",
              "      fill: #FFFFFF;\n",
              "    }\n",
              "  </style>\n",
              "\n",
              "      <script>\n",
              "        const buttonEl =\n",
              "          document.querySelector('#df-a6815b8e-65e2-4f38-98cf-681a00591d25 button.colab-df-convert');\n",
              "        buttonEl.style.display =\n",
              "          google.colab.kernel.accessAllowed ? 'block' : 'none';\n",
              "\n",
              "        async function convertToInteractive(key) {\n",
              "          const element = document.querySelector('#df-a6815b8e-65e2-4f38-98cf-681a00591d25');\n",
              "          const dataTable =\n",
              "            await google.colab.kernel.invokeFunction('convertToInteractive',\n",
              "                                                     [key], {});\n",
              "          if (!dataTable) return;\n",
              "\n",
              "          const docLinkHtml = 'Like what you see? Visit the ' +\n",
              "            '<a target=\"_blank\" href=https://colab.research.google.com/notebooks/data_table.ipynb>data table notebook</a>'\n",
              "            + ' to learn more about interactive tables.';\n",
              "          element.innerHTML = '';\n",
              "          dataTable['output_type'] = 'display_data';\n",
              "          await google.colab.output.renderOutput(dataTable, element);\n",
              "          const docLink = document.createElement('div');\n",
              "          docLink.innerHTML = docLinkHtml;\n",
              "          element.appendChild(docLink);\n",
              "        }\n",
              "      </script>\n",
              "    </div>\n",
              "  </div>\n",
              "  "
            ]
          },
          "metadata": {},
          "execution_count": 19
        }
      ]
    },
    {
      "cell_type": "markdown",
      "source": [
        "## Merge train&test data"
      ],
      "metadata": {
        "id": "c5sFA85x2yPP"
      }
    },
    {
      "cell_type": "code",
      "source": [
        "def merge(df1,df2,df3,df4,rate1,rate2):\n",
        "  sample1 = df1.sample(frac=rate1,replace=False,random_state=None,axis=0) # sample frac rate of rows from the dataframe without replacement\n",
        "  sample2 = df2.sample(frac=rate2,replace=False,random_state=None,axis=0)\n",
        "  sample3 = df3.sample(frac=rate2,replace=False,random_state=None,axis=0)\n",
        "  sample4 = df4.sample(frac=rate2,replace=False,random_state=None,axis=0)\n",
        "\n",
        "  merged = pd.concat([sample1, sample2, sample3, sample4],sort=False).sample(frac=1.0)\n",
        "\n",
        "  return merged"
      ],
      "metadata": {
        "id": "Js3rY_wP2waR"
      },
      "execution_count": null,
      "outputs": []
    },
    {
      "cell_type": "code",
      "source": [
        "train_merged = merge(df1_train,df2_train,df3_train,df4_train,0.4,0.2)\n",
        "test_merged = merge(df1_test,df2_test,df3_test,df4_test,0.4,0.2)"
      ],
      "metadata": {
        "id": "dgJNmsqV20Af"
      },
      "execution_count": null,
      "outputs": []
    },
    {
      "cell_type": "code",
      "source": [
        "train_merged2 = merge(df1_train,df2_train,df3_train,df4_train,0.7,0.1)\n",
        "test_merged2 = merge(df1_test,df2_test,df3_test,df4_test,0.7,0.1)"
      ],
      "metadata": {
        "id": "k4FztVZz24HQ"
      },
      "execution_count": null,
      "outputs": []
    },
    {
      "cell_type": "code",
      "source": [
        "test_merged.shape"
      ],
      "metadata": {
        "colab": {
          "base_uri": "https://localhost:8080/"
        },
        "id": "f_b_OHhz26g4",
        "outputId": "562c4baa-b8ec-4a79-ba23-6df07f9c9ead"
      },
      "execution_count": null,
      "outputs": [
        {
          "output_type": "execute_result",
          "data": {
            "text/plain": [
              "(3000, 4)"
            ]
          },
          "metadata": {},
          "execution_count": 23
        }
      ]
    },
    {
      "cell_type": "code",
      "source": [
        "train_merged.shape"
      ],
      "metadata": {
        "colab": {
          "base_uri": "https://localhost:8080/"
        },
        "id": "9WNjRHGS27r5",
        "outputId": "8af2e73a-b7f7-47f6-8a91-fba2e4979b4c"
      },
      "execution_count": null,
      "outputs": [
        {
          "output_type": "execute_result",
          "data": {
            "text/plain": [
              "(12000, 4)"
            ]
          },
          "metadata": {},
          "execution_count": 24
        }
      ]
    },
    {
      "cell_type": "markdown",
      "source": [
        "## Text Tokenization"
      ],
      "metadata": {
        "id": "m5PTjklx29zZ"
      }
    },
    {
      "cell_type": "code",
      "source": [
        "def tokenize(data1,data2):\n",
        "  tokenizer = Tokenizer()\n",
        "  tokenizer.fit_on_texts(data1)\n",
        "  print(f\"{len(tokenizer.word_index)} words are used\")\n",
        "\n",
        "  vocab_size=len(tokenizer.word_index)\n",
        "  tokenizer = Tokenizer(num_words=vocab_size)\n",
        "\n",
        "  tokenizer.fit_on_texts(data1)\n",
        "  train_fea = tokenizer.texts_to_sequences(data1)\n",
        "  test_fea = tokenizer.texts_to_sequences(data2)\n",
        "\n",
        "  length_tr = [len(s) for s in train_fea]\n",
        "  print(\"Training:\")\n",
        "  print(f\"Average length of each row >> {np.mean(length_tr)}\")\n",
        "  print(f\"Maximum length of each row >> {np.max(length_tr)}\")\n",
        "  plt.hist(length_tr,bins=50)\n",
        "  plt.show()\n",
        "\n",
        "  length_te = [len(s) for s in test_fea]\n",
        "  print(\"Testing\")\n",
        "  print(f\"Average length of each row >> {np.mean(length_te)}\")\n",
        "  print(f\"Maximum length of each row >> {np.max(length_te)}\")\n",
        "  plt.hist(length_te,bins=50)\n",
        "  plt.show()\n",
        "\n",
        "  seq_len = max(max(length_tr),max(length_te))\n",
        "  print(\"max sequence length: \",seq_len)\n",
        "\n",
        "  return train_fea,test_fea,vocab_size,seq_len"
      ],
      "metadata": {
        "id": "x3EHoqyK28ib"
      },
      "execution_count": null,
      "outputs": []
    },
    {
      "cell_type": "code",
      "source": [
        "df1_train_fea,df1_test_fea,df1_vocab_size,df1_maxlen = tokenize(df1_train[\"cleanText\"],df1_test[\"cleanText\"])"
      ],
      "metadata": {
        "colab": {
          "base_uri": "https://localhost:8080/",
          "height": 662
        },
        "id": "5I-kSPQ53Ax7",
        "outputId": "637fcac4-6e2e-475c-cd93-4c99810581d5"
      },
      "execution_count": null,
      "outputs": [
        {
          "output_type": "stream",
          "name": "stdout",
          "text": [
            "47945 words are used\n",
            "Training:\n",
            "Average length of each row >> 76.49233333333333\n",
            "Maximum length of each row >> 1734\n"
          ]
        },
        {
          "output_type": "display_data",
          "data": {
            "text/plain": [
              "<Figure size 432x288 with 1 Axes>"
            ],
            "image/png": "[encoded data removed]"
          },
          "metadata": {}
        },
        {
          "output_type": "stream",
          "name": "stdout",
          "text": [
            "Testing\n",
            "Average length of each row >> 72.11666666666666\n",
            "Maximum length of each row >> 879\n"
          ]
        },
        {
          "output_type": "display_data",
          "data": {
            "text/plain": [
              "<Figure size 432x288 with 1 Axes>"
            ],
            "image/png": "[encoded data removed]"
          },
          "metadata": {}
        },
        {
          "output_type": "stream",
          "name": "stdout",
          "text": [
            "max sequence length:  1734\n"
          ]
        }
      ]
    },
    {
      "cell_type": "code",
      "source": [
        "df2_train_fea,df2_test_fea,df2_vocab_size,df2_maxlen = tokenize(df2_train[\"cleanText\"],df2_test[\"cleanText\"])"
      ],
      "metadata": {
        "colab": {
          "base_uri": "https://localhost:8080/",
          "height": 660
        },
        "id": "TqthQiAM3CKp",
        "outputId": "aa7ff647-e730-4592-d425-6fc1eeb4b533"
      },
      "execution_count": null,
      "outputs": [
        {
          "output_type": "stream",
          "name": "stdout",
          "text": [
            "35415 words are used\n",
            "Training:\n",
            "Average length of each row >> 58.68541666666667\n",
            "Maximum length of each row >> 3615\n"
          ]
        },
        {
          "output_type": "display_data",
          "data": {
            "text/plain": [
              "<Figure size 432x288 with 1 Axes>"
            ],
            "image/png": "[encoded data removed]"
          },
          "metadata": {}
        },
        {
          "output_type": "stream",
          "name": "stdout",
          "text": [
            "Testing\n",
            "Average length of each row >> 56.18066666666667\n",
            "Maximum length of each row >> 835\n"
          ]
        },
        {
          "output_type": "display_data",
          "data": {
            "text/plain": [
              "<Figure size 432x288 with 1 Axes>"
            ],
            "image/png": "[encoded data removed]"
          },
          "metadata": {}
        },
        {
          "output_type": "stream",
          "name": "stdout",
          "text": [
            "max sequence length:  3615\n"
          ]
        }
      ]
    },
    {
      "cell_type": "code",
      "source": [
        "df3_train_fea,df3_test_fea,df3_vocab_size,df3_maxlen = tokenize(df3_train[\"cleanText\"],df3_test[\"cleanText\"])"
      ],
      "metadata": {
        "colab": {
          "base_uri": "https://localhost:8080/",
          "height": 660
        },
        "id": "ff8J6CJx3DJM",
        "outputId": "5c07e4e7-1eb3-4ff4-efe9-e04eef6ee87c"
      },
      "execution_count": null,
      "outputs": [
        {
          "output_type": "stream",
          "name": "stdout",
          "text": [
            "19108 words are used\n",
            "Training:\n",
            "Average length of each row >> 25.433916666666665\n",
            "Maximum length of each row >> 841\n"
          ]
        },
        {
          "output_type": "display_data",
          "data": {
            "text/plain": [
              "<Figure size 432x288 with 1 Axes>"
            ],
            "image/png": "[encoded data removed]"
          },
          "metadata": {}
        },
        {
          "output_type": "stream",
          "name": "stdout",
          "text": [
            "Testing\n",
            "Average length of each row >> 25.465333333333334\n",
            "Maximum length of each row >> 1687\n"
          ]
        },
        {
          "output_type": "display_data",
          "data": {
            "text/plain": [
              "<Figure size 432x288 with 1 Axes>"
            ],
            "image/png": "[encoded data removed]"
          },
          "metadata": {}
        },
        {
          "output_type": "stream",
          "name": "stdout",
          "text": [
            "max sequence length:  1687\n"
          ]
        }
      ]
    },
    {
      "cell_type": "code",
      "source": [
        "df4_train_fea,df4_test_fea,df4_vocab_size,df4_maxlen = tokenize(df4_train[\"cleanText\"],df4_test[\"cleanText\"])"
      ],
      "metadata": {
        "colab": {
          "base_uri": "https://localhost:8080/",
          "height": 660
        },
        "id": "3g-M4_CD3EGc",
        "outputId": "fb154da6-adcc-4e85-8ce7-7c4de5c49eab"
      },
      "execution_count": null,
      "outputs": [
        {
          "output_type": "stream",
          "name": "stdout",
          "text": [
            "14638 words are used\n",
            "Training:\n",
            "Average length of each row >> 19.244083333333332\n",
            "Maximum length of each row >> 463\n"
          ]
        },
        {
          "output_type": "display_data",
          "data": {
            "text/plain": [
              "<Figure size 432x288 with 1 Axes>"
            ],
            "image/png": "[encoded data removed]"
          },
          "metadata": {}
        },
        {
          "output_type": "stream",
          "name": "stdout",
          "text": [
            "Testing\n",
            "Average length of each row >> 18.715333333333334\n",
            "Maximum length of each row >> 395\n"
          ]
        },
        {
          "output_type": "display_data",
          "data": {
            "text/plain": [
              "<Figure size 432x288 with 1 Axes>"
            ],
            "image/png": "[encoded data removed]"
          },
          "metadata": {}
        },
        {
          "output_type": "stream",
          "name": "stdout",
          "text": [
            "max sequence length:  463\n"
          ]
        }
      ]
    },
    {
      "cell_type": "code",
      "source": [
        "merge_train_fea,merge_test_fea,merge_vocab_size,merge_maxlen = tokenize(train_merged[\"cleanText\"],test_merged[\"cleanText\"])"
      ],
      "metadata": {
        "colab": {
          "base_uri": "https://localhost:8080/",
          "height": 660
        },
        "id": "By40EdMB3FE6",
        "outputId": "7743d126-ae2e-41a5-ce1f-f336341223d9"
      },
      "execution_count": null,
      "outputs": [
        {
          "output_type": "stream",
          "name": "stdout",
          "text": [
            "35894 words are used\n",
            "Training:\n",
            "Average length of each row >> 51.67091666666666\n",
            "Maximum length of each row >> 1734\n"
          ]
        },
        {
          "output_type": "display_data",
          "data": {
            "text/plain": [
              "<Figure size 432x288 with 1 Axes>"
            ],
            "image/png": "[encoded data removed]"
          },
          "metadata": {}
        },
        {
          "output_type": "stream",
          "name": "stdout",
          "text": [
            "Testing\n",
            "Average length of each row >> 47.595\n",
            "Maximum length of each row >> 1724\n"
          ]
        },
        {
          "output_type": "display_data",
          "data": {
            "text/plain": [
              "<Figure size 432x288 with 1 Axes>"
            ],
            "image/png": "[encoded data removed]"
          },
          "metadata": {}
        },
        {
          "output_type": "stream",
          "name": "stdout",
          "text": [
            "max sequence length:  1734\n"
          ]
        }
      ]
    },
    {
      "cell_type": "code",
      "source": [
        "merge_train_fea2,merge_test_fea2,merge_vocab_size2,merge_maxlen2 = tokenize(train_merged2[\"cleanText\"],test_merged2[\"cleanText\"])"
      ],
      "metadata": {
        "colab": {
          "base_uri": "https://localhost:8080/",
          "height": 660
        },
        "id": "u7kQ00SS3GEP",
        "outputId": "81247686-19a0-4853-89e0-764a80bacb67"
      },
      "execution_count": null,
      "outputs": [
        {
          "output_type": "stream",
          "name": "stdout",
          "text": [
            "42416 words are used\n",
            "Training:\n",
            "Average length of each row >> 63.6425\n",
            "Maximum length of each row >> 1734\n"
          ]
        },
        {
          "output_type": "display_data",
          "data": {
            "text/plain": [
              "<Figure size 432x288 with 1 Axes>"
            ],
            "image/png": "[encoded data removed]"
          },
          "metadata": {}
        },
        {
          "output_type": "stream",
          "name": "stdout",
          "text": [
            "Testing\n",
            "Average length of each row >> 60.67933333333333\n",
            "Maximum length of each row >> 876\n"
          ]
        },
        {
          "output_type": "display_data",
          "data": {
            "text/plain": [
              "<Figure size 432x288 with 1 Axes>"
            ],
            "image/png": "[encoded data removed]"
          },
          "metadata": {}
        },
        {
          "output_type": "stream",
          "name": "stdout",
          "text": [
            "max sequence length:  1734\n"
          ]
        }
      ]
    },
    {
      "cell_type": "markdown",
      "source": [
        "## Padding"
      ],
      "metadata": {
        "id": "jGIzD4q23I5E"
      }
    },
    {
      "cell_type": "code",
      "source": [
        "sequence_size = 400\n",
        "print(\"max sequence length for game: \",sequence_size)"
      ],
      "metadata": {
        "colab": {
          "base_uri": "https://localhost:8080/"
        },
        "id": "mEY-6Ozp3HG1",
        "outputId": "52c06073-6f4d-4997-a346-fedcbf324051"
      },
      "execution_count": null,
      "outputs": [
        {
          "output_type": "stream",
          "name": "stdout",
          "text": [
            "max sequence length for game:  400\n"
          ]
        }
      ]
    },
    {
      "cell_type": "code",
      "source": [
        "df1_train_pad = pad_sequences(df1_train_fea,maxlen=sequence_size,padding='post',truncating='post')\n",
        "df1_test_pad = pad_sequences(df1_test_fea,maxlen=sequence_size,padding='post',truncating='post')\n",
        "df1_train_label = to_categorical(df1_train.overall,num_classes=3)\n",
        "df1_test_label = to_categorical(df1_test.overall,num_classes=3)\n",
        "\n",
        "df2_train_pad = pad_sequences(df2_train_fea,maxlen=sequence_size,padding='post',truncating='post')\n",
        "df2_test_pad = pad_sequences(df2_test_fea,maxlen=sequence_size,padding='post',truncating='post')\n",
        "df2_train_label = to_categorical(df2_train.overall,num_classes=3)\n",
        "df2_test_label = to_categorical(df2_test.overall,num_classes=3)\n",
        "\n",
        "df3_train_pad = pad_sequences(df3_train_fea,maxlen=sequence_size,padding='post',truncating='post')\n",
        "df3_test_pad = pad_sequences(df3_test_fea,maxlen=sequence_size,padding='post',truncating='post')\n",
        "df3_train_label = to_categorical(df3_train.overall,num_classes=3)\n",
        "df3_test_label = to_categorical(df3_test.overall,num_classes=3)\n",
        "\n",
        "df4_train_pad = pad_sequences(df4_train_fea,maxlen=sequence_size,padding='post',truncating='post')\n",
        "df4_test_pad = pad_sequences(df4_test_fea,maxlen=sequence_size,padding='post',truncating='post')\n",
        "df4_train_label = to_categorical(df4_train.overall,num_classes=3)\n",
        "df4_test_label = to_categorical(df4_test.overall,num_classes=3)\n",
        "\n",
        "merge_train_pad = pad_sequences(merge_train_fea,maxlen=sequence_size,padding='post',truncating='post')\n",
        "merge_test_pad = pad_sequences(merge_test_fea,maxlen=sequence_size,padding='post',truncating='post')\n",
        "merge_train_label = to_categorical(train_merged.overall,num_classes=3)\n",
        "merge_test_label = to_categorical(test_merged.overall,num_classes=3)\n",
        "\n",
        "merge_train_pad2 = pad_sequences(merge_train_fea2,maxlen=sequence_size,padding='post',truncating='post')\n",
        "merge_test_pad2 = pad_sequences(merge_test_fea2,maxlen=sequence_size,padding='post',truncating='post')\n",
        "merge_train_label2 = to_categorical(train_merged2.overall,num_classes=3)\n",
        "merge_test_label2 = to_categorical(test_merged2.overall,num_classes=3)"
      ],
      "metadata": {
        "id": "DxhEJQiE3M-d"
      },
      "execution_count": null,
      "outputs": []
    },
    {
      "cell_type": "markdown",
      "source": [
        "## Build LSTM Model and Train on merged train (4:2:2:2)"
      ],
      "metadata": {
        "id": "h5Fsn8f13RoN"
      }
    },
    {
      "cell_type": "code",
      "source": [
        "# hyperparameters\n",
        "word_vec_size = 100\n",
        "hidden_size = 128\n",
        "batch_size = 256\n",
        "epochs = 8\n",
        "vocab_size = max(df1_vocab_size,df2_vocab_size,df3_vocab_size,df4_vocab_size,merge_vocab_size)\n",
        "print(\"max vocab size: \",vocab_size)"
      ],
      "metadata": {
        "colab": {
          "base_uri": "https://localhost:8080/"
        },
        "id": "cRSzszxT3QOg",
        "outputId": "5e6ca1ab-e797-4c87-c46c-03cd921fac21"
      },
      "execution_count": null,
      "outputs": [
        {
          "output_type": "stream",
          "name": "stdout",
          "text": [
            "max vocab size:  47945\n"
          ]
        }
      ]
    },
    {
      "cell_type": "code",
      "source": [
        "def bilstm_model():\n",
        "    model = Sequential()\n",
        "    model.add(Input(shape=[sequence_size]))\n",
        "    model.add(Embedding(vocab_size,word_vec_size,input_length=sequence_size))\n",
        "    model.add(Bidirectional(LSTM(hidden_size,return_sequences=True)))\n",
        "    model.add(Flatten())\n",
        "    model.output_shape\n",
        "    model.add(Dense(32,activation='relu'))\n",
        "    model.add(Dropout(0.3))\n",
        "    model.add(Dense(3,activation='softmax'))\n",
        "    \n",
        "    model.compile(loss='categorical_crossentropy',optimizer='adam',metrics=['accuracy'])\n",
        "    model.summary()\n",
        "    return model\n",
        "es = EarlyStopping(monitor='val_accuracy',mode='min',patience=4,verbose=1)"
      ],
      "metadata": {
        "id": "TPo3R7sD3VVB"
      },
      "execution_count": null,
      "outputs": []
    },
    {
      "cell_type": "code",
      "source": [
        "bilstm = bilstm_model()\n",
        "plot_model(bilstm)\n",
        "lstm_no_hist = bilstm.fit(merge_train_pad,merge_train_label,epochs=epochs,batch_size=batch_size,validation_data=(merge_test_pad,merge_test_label),callbacks=[es])"
      ],
      "metadata": {
        "colab": {
          "base_uri": "https://localhost:8080/"
        },
        "id": "wrOeqTOU3Xiw",
        "outputId": "ac81dd59-fa5f-4c5c-a519-2db049627685"
      },
      "execution_count": null,
      "outputs": [
        {
          "output_type": "stream",
          "name": "stdout",
          "text": [
            "Model: \"sequential\"\n",
            "_________________________________________________________________\n",
            " Layer (type)                Output Shape              Param #   \n",
            "=================================================================\n",
            " embedding (Embedding)       (None, 400, 100)          4794500   \n",
            "                                                                 \n",
            " bidirectional (Bidirectiona  (None, 400, 256)         234496    \n",
            " l)                                                              \n",
            "                                                                 \n",
            " flatten (Flatten)           (None, 102400)            0         \n",
            "                                                                 \n",
            " dense (Dense)               (None, 32)                3276832   \n",
            "                                                                 \n",
            " dropout (Dropout)           (None, 32)                0         \n",
            "                                                                 \n",
            " dense_1 (Dense)             (None, 3)                 99        \n",
            "                                                                 \n",
            "=================================================================\n",
            "Total params: 8,305,927\n",
            "Trainable params: 8,305,927\n",
            "Non-trainable params: 0\n",
            "_________________________________________________________________\n",
            "Epoch 1/8\n",
            "47/47 [==============================] - 18s 138ms/step - loss: 1.1081 - accuracy: 0.3814 - val_loss: 0.9741 - val_accuracy: 0.5660\n",
            "Epoch 2/8\n",
            "47/47 [==============================] - 5s 99ms/step - loss: 0.8192 - accuracy: 0.6281 - val_loss: 0.8213 - val_accuracy: 0.6430\n",
            "Epoch 3/8\n",
            "47/47 [==============================] - 5s 100ms/step - loss: 0.5188 - accuracy: 0.7873 - val_loss: 0.8395 - val_accuracy: 0.6280\n",
            "Epoch 4/8\n",
            "47/47 [==============================] - 5s 99ms/step - loss: 0.3198 - accuracy: 0.8819 - val_loss: 1.0735 - val_accuracy: 0.6297\n",
            "Epoch 5/8\n",
            "47/47 [==============================] - 5s 99ms/step - loss: 0.2030 - accuracy: 0.9253 - val_loss: 1.4202 - val_accuracy: 0.6123\n",
            "Epoch 5: early stopping\n"
          ]
        }
      ]
    },
    {
      "cell_type": "code",
      "source": [
        "plt.plot(lstm_no_hist.history['loss'], label='loss')\n",
        "plt.plot(lstm_no_hist.history['val_loss'], label = 'val_loss')\n",
        "plt.legend()"
      ],
      "metadata": {
        "colab": {
          "base_uri": "https://localhost:8080/",
          "height": 283
        },
        "id": "olVaE6lo3YoG",
        "outputId": "d19820dc-7a40-41e9-e5e7-146bf9cc2934"
      },
      "execution_count": null,
      "outputs": [
        {
          "output_type": "execute_result",
          "data": {
            "text/plain": [
              "<matplotlib.legend.Legend at 0x7f0580565410>"
            ]
          },
          "metadata": {},
          "execution_count": 37
        },
        {
          "output_type": "display_data",
          "data": {
            "text/plain": [
              "<Figure size 432x288 with 1 Axes>"
            ],
            "image/png": "[encoded data removed]"
          },
          "metadata": {}
        }
      ]
    },
    {
      "cell_type": "code",
      "source": [
        "plt.plot(lstm_no_hist.history['accuracy'], label= 'accuracy')\n",
        "plt.plot(lstm_no_hist.history['val_accuracy'], label='val_accuracy')\n",
        "plt.legend()"
      ],
      "metadata": {
        "colab": {
          "base_uri": "https://localhost:8080/",
          "height": 283
        },
        "id": "N1uexitX3Zv3",
        "outputId": "38fd8a76-9ddd-4227-f693-44c8316080a6"
      },
      "execution_count": null,
      "outputs": [
        {
          "output_type": "execute_result",
          "data": {
            "text/plain": [
              "<matplotlib.legend.Legend at 0x7f06a7926250>"
            ]
          },
          "metadata": {},
          "execution_count": 38
        },
        {
          "output_type": "display_data",
          "data": {
            "text/plain": [
              "<Figure size 432x288 with 1 Axes>"
            ],
            "image/png": "[encoded data removed]"
          },
          "metadata": {}
        }
      ]
    },
    {
      "cell_type": "code",
      "source": [
        "bilstm.save('./drive/MyDrive/Colab Notebooks/CL/game/LSTM/BiLSTM_merge_unbalanced.h5')"
      ],
      "metadata": {
        "id": "Dj3MM0BF3akk"
      },
      "execution_count": null,
      "outputs": []
    },
    {
      "cell_type": "markdown",
      "source": [
        "## Build LSTM Model and Train on merged train (7:1:1:1)"
      ],
      "metadata": {
        "id": "YyqJXpQZ3fQD"
      }
    },
    {
      "cell_type": "code",
      "source": [
        "bilstm2 = bilstm_model()\n",
        "plot_model(bilstm2)\n",
        "lstm_no_hist = bilstm2.fit(merge_train_pad2,merge_train_label2,epochs=epochs,batch_size=batch_size,validation_data=(merge_test_pad2,merge_test_label2),callbacks=[es])"
      ],
      "metadata": {
        "colab": {
          "base_uri": "https://localhost:8080/"
        },
        "id": "t5LRoIrC3ctN",
        "outputId": "2c12b122-d801-49a8-c17d-5ff593b6bf73"
      },
      "execution_count": null,
      "outputs": [
        {
          "output_type": "stream",
          "name": "stdout",
          "text": [
            "Model: \"sequential_1\"\n",
            "_________________________________________________________________\n",
            " Layer (type)                Output Shape              Param #   \n",
            "=================================================================\n",
            " embedding_1 (Embedding)     (None, 400, 100)          4794500   \n",
            "                                                                 \n",
            " bidirectional_1 (Bidirectio  (None, 400, 256)         234496    \n",
            " nal)                                                            \n",
            "                                                                 \n",
            " flatten_1 (Flatten)         (None, 102400)            0         \n",
            "                                                                 \n",
            " dense_2 (Dense)             (None, 32)                3276832   \n",
            "                                                                 \n",
            " dropout_1 (Dropout)         (None, 32)                0         \n",
            "                                                                 \n",
            " dense_3 (Dense)             (None, 3)                 99        \n",
            "                                                                 \n",
            "=================================================================\n",
            "Total params: 8,305,927\n",
            "Trainable params: 8,305,927\n",
            "Non-trainable params: 0\n",
            "_________________________________________________________________\n",
            "Epoch 1/8\n",
            "47/47 [==============================] - 12s 153ms/step - loss: 1.1178 - accuracy: 0.3302 - val_loss: 1.0985 - val_accuracy: 0.3373\n",
            "Epoch 2/8\n",
            "47/47 [==============================] - 5s 105ms/step - loss: 1.0819 - accuracy: 0.3742 - val_loss: 1.0254 - val_accuracy: 0.4757\n",
            "Epoch 3/8\n",
            "47/47 [==============================] - 5s 102ms/step - loss: 0.8737 - accuracy: 0.5898 - val_loss: 0.8721 - val_accuracy: 0.6143\n",
            "Epoch 4/8\n",
            "47/47 [==============================] - 5s 101ms/step - loss: 0.5067 - accuracy: 0.7972 - val_loss: 0.9048 - val_accuracy: 0.6233\n",
            "Epoch 5/8\n",
            "47/47 [==============================] - 5s 107ms/step - loss: 0.2608 - accuracy: 0.9062 - val_loss: 1.2509 - val_accuracy: 0.6050\n",
            "Epoch 5: early stopping\n"
          ]
        }
      ]
    },
    {
      "cell_type": "code",
      "source": [
        "plt.plot(lstm_no_hist.history['loss'], label='loss')\n",
        "plt.plot(lstm_no_hist.history['val_loss'], label = 'val_loss')\n",
        "plt.legend()"
      ],
      "metadata": {
        "colab": {
          "base_uri": "https://localhost:8080/",
          "height": 283
        },
        "id": "QgnaNuI73kyg",
        "outputId": "a7a8ea44-8a32-4cef-d4ce-211591e31807"
      },
      "execution_count": null,
      "outputs": [
        {
          "output_type": "execute_result",
          "data": {
            "text/plain": [
              "<matplotlib.legend.Legend at 0x7f05801a9890>"
            ]
          },
          "metadata": {},
          "execution_count": 41
        },
        {
          "output_type": "display_data",
          "data": {
            "text/plain": [
              "<Figure size 432x288 with 1 Axes>"
            ],
            "image/png": "[encoded data removed]"
          },
          "metadata": {}
        }
      ]
    },
    {
      "cell_type": "code",
      "source": [
        "plt.plot(lstm_no_hist.history['accuracy'], label= 'accuracy')\n",
        "plt.plot(lstm_no_hist.history['val_accuracy'], label='val_accuracy')\n",
        "plt.legend()"
      ],
      "metadata": {
        "colab": {
          "base_uri": "https://localhost:8080/",
          "height": 283
        },
        "id": "N5iVuk4j3mey",
        "outputId": "39448787-f213-48a6-f199-6ce750fcc7e5"
      },
      "execution_count": null,
      "outputs": [
        {
          "output_type": "execute_result",
          "data": {
            "text/plain": [
              "<matplotlib.legend.Legend at 0x7f0580ec3b50>"
            ]
          },
          "metadata": {},
          "execution_count": 42
        },
        {
          "output_type": "display_data",
          "data": {
            "text/plain": [
              "<Figure size 432x288 with 1 Axes>"
            ],
            "image/png": "[encoded data removed]"
          },
          "metadata": {}
        }
      ]
    },
    {
      "cell_type": "code",
      "source": [
        "bilstm2.save('./drive/MyDrive/Colab Notebooks/CL/game/LSTM/BiLSTM_merge_unbalanced2.h5')"
      ],
      "metadata": {
        "id": "Ph_CSBzV3nSi"
      },
      "execution_count": null,
      "outputs": []
    },
    {
      "cell_type": "markdown",
      "source": [
        "## Evaluate on each time period data"
      ],
      "metadata": {
        "id": "vVLByUZs3rlw"
      }
    },
    {
      "cell_type": "code",
      "source": [
        "load_lstm = load_model('./drive/MyDrive/Colab Notebooks/CL/game/LSTM/BiLSTM_merge_unbalanced.h5')\n",
        "load_lstm.evaluate(df1_test_pad,df1_test_label)"
      ],
      "metadata": {
        "colab": {
          "base_uri": "https://localhost:8080/"
        },
        "id": "92GvEmDz3pRz",
        "outputId": "395f7862-8d51-496b-dffd-40442d3b6eb9"
      },
      "execution_count": null,
      "outputs": [
        {
          "output_type": "stream",
          "name": "stdout",
          "text": [
            "94/94 [==============================] - 3s 21ms/step - loss: 3.1916 - accuracy: 0.3453\n"
          ]
        },
        {
          "output_type": "execute_result",
          "data": {
            "text/plain": [
              "[3.1916067600250244, 0.3453333377838135]"
            ]
          },
          "metadata": {},
          "execution_count": 44
        }
      ]
    },
    {
      "cell_type": "code",
      "source": [
        "load_lstm = load_model('./drive/MyDrive/Colab Notebooks/CL/game/LSTM/BiLSTM_merge_unbalanced.h5')\n",
        "load_lstm.evaluate(df2_test_pad,df2_test_label)"
      ],
      "metadata": {
        "colab": {
          "base_uri": "https://localhost:8080/"
        },
        "id": "yJdYGCty3uS9",
        "outputId": "b971fd9a-0aa0-4ff8-fb7f-6cf4270ad5d4"
      },
      "execution_count": null,
      "outputs": [
        {
          "output_type": "stream",
          "name": "stdout",
          "text": [
            "94/94 [==============================] - 3s 22ms/step - loss: 3.0412 - accuracy: 0.3303\n"
          ]
        },
        {
          "output_type": "execute_result",
          "data": {
            "text/plain": [
              "[3.0411624908447266, 0.33033332228660583]"
            ]
          },
          "metadata": {},
          "execution_count": 45
        }
      ]
    },
    {
      "cell_type": "code",
      "source": [
        "load_lstm = load_model('./drive/MyDrive/Colab Notebooks/CL/game/LSTM/BiLSTM_merge_unbalanced.h5')\n",
        "load_lstm.evaluate(df3_test_pad,df3_test_label)"
      ],
      "metadata": {
        "colab": {
          "base_uri": "https://localhost:8080/"
        },
        "id": "j-B6TWJY3wHB",
        "outputId": "bc960acf-2d3b-451f-aa3c-6ffabf79c926"
      },
      "execution_count": null,
      "outputs": [
        {
          "output_type": "stream",
          "name": "stdout",
          "text": [
            "94/94 [==============================] - 3s 20ms/step - loss: 2.2822 - accuracy: 0.3543\n"
          ]
        },
        {
          "output_type": "execute_result",
          "data": {
            "text/plain": [
              "[2.2822065353393555, 0.3543333411216736]"
            ]
          },
          "metadata": {},
          "execution_count": 46
        }
      ]
    },
    {
      "cell_type": "code",
      "source": [
        "load_lstm = load_model('./drive/MyDrive/Colab Notebooks/CL/game/LSTM/BiLSTM_merge_unbalanced.h5')\n",
        "load_lstm.evaluate(df4_test_pad,df4_test_label)"
      ],
      "metadata": {
        "colab": {
          "base_uri": "https://localhost:8080/"
        },
        "id": "5_fRmq_E3xwS",
        "outputId": "e753549a-1bab-4c1b-dc5c-32ff5ac7b258"
      },
      "execution_count": null,
      "outputs": [
        {
          "output_type": "stream",
          "name": "stdout",
          "text": [
            "94/94 [==============================] - 3s 21ms/step - loss: 2.2285 - accuracy: 0.3407\n"
          ]
        },
        {
          "output_type": "execute_result",
          "data": {
            "text/plain": [
              "[2.228511333465576, 0.34066668152809143]"
            ]
          },
          "metadata": {},
          "execution_count": 47
        }
      ]
    },
    {
      "cell_type": "code",
      "source": [
        "load_lstm2 = load_model('./drive/MyDrive/Colab Notebooks/CL/game/LSTM/BiLSTM_merge_unbalanced2.h5')"
      ],
      "metadata": {
        "id": "gDbBIO-r3zxP"
      },
      "execution_count": null,
      "outputs": []
    },
    {
      "cell_type": "code",
      "source": [
        "load_lstm2.evaluate(df1_test_pad,df1_test_label)"
      ],
      "metadata": {
        "colab": {
          "base_uri": "https://localhost:8080/"
        },
        "id": "WU2XmZ4Q32Oi",
        "outputId": "f3e5387b-f3a9-4e83-a84e-719a592e69ce"
      },
      "execution_count": null,
      "outputs": [
        {
          "output_type": "stream",
          "name": "stdout",
          "text": [
            "94/94 [==============================] - 3s 20ms/step - loss: 2.3721 - accuracy: 0.3280\n"
          ]
        },
        {
          "output_type": "execute_result",
          "data": {
            "text/plain": [
              "[2.372061014175415, 0.328000009059906]"
            ]
          },
          "metadata": {},
          "execution_count": 49
        }
      ]
    },
    {
      "cell_type": "code",
      "source": [
        "load_lstm2.evaluate(df2_test_pad,df2_test_label)"
      ],
      "metadata": {
        "colab": {
          "base_uri": "https://localhost:8080/"
        },
        "id": "MoISRxoE33oV",
        "outputId": "98743b14-240f-4ca8-aed8-00b29940a30a"
      },
      "execution_count": null,
      "outputs": [
        {
          "output_type": "stream",
          "name": "stdout",
          "text": [
            "94/94 [==============================] - 2s 20ms/step - loss: 2.0998 - accuracy: 0.3560\n"
          ]
        },
        {
          "output_type": "execute_result",
          "data": {
            "text/plain": [
              "[2.099752187728882, 0.35600000619888306]"
            ]
          },
          "metadata": {},
          "execution_count": 50
        }
      ]
    },
    {
      "cell_type": "code",
      "source": [
        "load_lstm2.evaluate(df3_test_pad,df3_test_label)"
      ],
      "metadata": {
        "colab": {
          "base_uri": "https://localhost:8080/"
        },
        "id": "1ffFr4Fl35H_",
        "outputId": "9d1f9b13-f23f-4216-fb91-87cf5561cb9c"
      },
      "execution_count": null,
      "outputs": [
        {
          "output_type": "stream",
          "name": "stdout",
          "text": [
            "94/94 [==============================] - 2s 20ms/step - loss: 1.7295 - accuracy: 0.3553\n"
          ]
        },
        {
          "output_type": "execute_result",
          "data": {
            "text/plain": [
              "[1.7295233011245728, 0.3553333282470703]"
            ]
          },
          "metadata": {},
          "execution_count": 51
        }
      ]
    },
    {
      "cell_type": "code",
      "source": [
        "load_lstm2.evaluate(df4_test_pad,df4_test_label)"
      ],
      "metadata": {
        "colab": {
          "base_uri": "https://localhost:8080/"
        },
        "id": "AUGL_XFZ36EC",
        "outputId": "d0f94f65-4b1a-4548-f914-38f4ac93e9b1"
      },
      "execution_count": null,
      "outputs": [
        {
          "output_type": "stream",
          "name": "stdout",
          "text": [
            "94/94 [==============================] - 2s 21ms/step - loss: 1.6578 - accuracy: 0.3430\n"
          ]
        },
        {
          "output_type": "execute_result",
          "data": {
            "text/plain": [
              "[1.6577775478363037, 0.34299999475479126]"
            ]
          },
          "metadata": {},
          "execution_count": 52
        }
      ]
    },
    {
      "cell_type": "code",
      "source": [
        ""
      ],
      "metadata": {
        "id": "48h89RGG37nA"
      },
      "execution_count": null,
      "outputs": []
    }
  ]
}