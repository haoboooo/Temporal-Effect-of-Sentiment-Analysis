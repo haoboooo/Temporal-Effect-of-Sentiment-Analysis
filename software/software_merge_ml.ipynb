{
  "nbformat": 4,
  "nbformat_minor": 0,
  "metadata": {
    "colab": {
      "name": "software_merge_ml.ipynb",
      "provenance": [],
      "mount_file_id": "1vMX4ucIk9c_tyg51h33SUfikJiGFdPOC",
      "authorship_tag": "ABX9TyO+orU94vx5MEp5r/Y9QLIa",
      "include_colab_link": true
    },
    "kernelspec": {
      "name": "python3",
      "display_name": "Python 3"
    },
    "language_info": {
      "name": "python"
    }
  },
  "cells": [
    {
      "cell_type": "markdown",
      "metadata": {
        "id": "view-in-github",
        "colab_type": "text"
      },
      "source": [
        "<a href=\"https://colab.research.google.com/github/haoboooo/Temporal-Effect-of-Sentiment-Analysis/blob/main/software_merge_ml.ipynb\" target=\"_parent\"><img src=\"https://colab.research.google.com/assets/colab-badge.svg\" alt=\"Open In Colab\"/></a>"
      ]
    },
    {
      "cell_type": "code",
      "execution_count": 35,
      "metadata": {
        "id": "w0eg45dw_24E",
        "colab": {
          "base_uri": "https://localhost:8080/"
        },
        "outputId": "3dc8d046-3503-43a2-97ef-5b448cb0b034"
      },
      "outputs": [
        {
          "output_type": "stream",
          "name": "stdout",
          "text": [
            "Requirement already satisfied: emot in /usr/local/lib/python3.7/dist-packages (3.1)\n"
          ]
        }
      ],
      "source": [
        "# install emoji library\n",
        "!pip install emot"
      ]
    },
    {
      "cell_type": "code",
      "source": [
        "import pandas as pd\n",
        "import numpy as np\n",
        "import string\n",
        "\n",
        "# store models\n",
        "import pickle\n",
        "from sklearn.pipeline import Pipeline\n",
        "\n",
        "# text preprocessing\n",
        "import nltk\n",
        "from nltk import word_tokenize\n",
        "from nltk.stem import PorterStemmer\n",
        "from nltk.corpus import stopwords\n",
        "import re\n",
        "from emot.emo_unicode import EMOTICONS_EMO, UNICODE_EMOJI\n",
        "\n",
        "# plots and metrics\n",
        "import matplotlib.pyplot as plt\n",
        "import seaborn as sns\n",
        "plt.style.use('ggplot')\n",
        "from sklearn.metrics import accuracy_score, f1_score, confusion_matrix\n",
        "\n",
        "# feature extraction / vectorization\n",
        "from sklearn.feature_extraction.text import CountVectorizer, TfidfVectorizer\n",
        "\n",
        "\n",
        "# classifiers\n",
        "from sklearn.naive_bayes import MultinomialNB\n",
        "from sklearn.linear_model import LogisticRegression, SGDClassifier\n",
        "from sklearn.ensemble import RandomForestClassifier\n",
        "from sklearn.svm import LinearSVC"
      ],
      "metadata": {
        "id": "23U21Q7lHuIh"
      },
      "execution_count": 36,
      "outputs": []
    },
    {
      "cell_type": "code",
      "source": [
        "nltk.download('punkt')"
      ],
      "metadata": {
        "colab": {
          "base_uri": "https://localhost:8080/"
        },
        "id": "secE26YLHyZu",
        "outputId": "2314b380-3293-49ba-af76-cf179ccbf935"
      },
      "execution_count": 37,
      "outputs": [
        {
          "output_type": "stream",
          "name": "stdout",
          "text": [
            "[nltk_data] Downloading package punkt to /root/nltk_data...\n",
            "[nltk_data]   Package punkt is already up-to-date!\n"
          ]
        },
        {
          "output_type": "execute_result",
          "data": {
            "text/plain": [
              "True"
            ]
          },
          "metadata": {},
          "execution_count": 37
        }
      ]
    },
    {
      "cell_type": "markdown",
      "source": [
        "## load software data"
      ],
      "metadata": {
        "id": "qAwv3PTGH2kY"
      }
    },
    {
      "cell_type": "code",
      "source": [
        "file1 = \"./drive/MyDrive/Colab Notebooks/CL/software/98_06.csv\"\n",
        "file2 = \"./drive/MyDrive/Colab Notebooks/CL/software/07_12.csv\"\n",
        "file3 = \"./drive/MyDrive/Colab Notebooks/CL/software/13_17.csv\"\n",
        "file4 = \"./drive/MyDrive/Colab Notebooks/CL/software/18.csv\""
      ],
      "metadata": {
        "id": "EVDE_eEQH0G3"
      },
      "execution_count": 38,
      "outputs": []
    },
    {
      "cell_type": "code",
      "source": [
        "def load_data(file):\n",
        "  # read csv data and set columns\n",
        "  df = pd.read_csv(file,usecols=['overall', 'reviewTime','reviewText'])\n",
        "\n",
        "  # remove the duplicates if any\n",
        "  df.duplicated('reviewText').sum()\n",
        "  df.drop_duplicates(subset=['reviewText'],inplace=True)\n",
        "  \n",
        "  # remove NaN rows\n",
        "  df.isnull().sum()\n",
        "  df.dropna(how='any',axis=0,inplace=True)\n",
        "  shape = df.shape\n",
        "  counts = df.overall.value_counts()# labels count\n",
        "\n",
        "  sns.countplot(df['overall']) # plot bar graph\n",
        "  fig = plt.gcf() # get current figure\n",
        "  fig.set_size_inches(5,5) # set the figure size\n",
        "  plt.title('overall') # add title to the figure\n",
        "\n",
        "  return df,shape,counts"
      ],
      "metadata": {
        "id": "7KbbQANOH5bg"
      },
      "execution_count": 39,
      "outputs": []
    },
    {
      "cell_type": "code",
      "source": [
        "# load data for 1998 - 2006\n",
        "df1,shape1,counts1 = load_data(file1)\n",
        "print(shape1)\n",
        "print(counts1)\n",
        "df1.head()"
      ],
      "metadata": {
        "colab": {
          "base_uri": "https://localhost:8080/",
          "height": 692
        },
        "id": "BARahM3OH7SI",
        "outputId": "fbf9fcde-b1df-493b-a776-5df4917351c7"
      },
      "execution_count": 40,
      "outputs": [
        {
          "output_type": "stream",
          "name": "stdout",
          "text": [
            "(27028, 3)\n",
            " 1.0    13613\n",
            "-1.0    11120\n",
            " 0.0     2295\n",
            "Name: overall, dtype: int64\n"
          ]
        },
        {
          "output_type": "stream",
          "name": "stderr",
          "text": [
            "/usr/local/lib/python3.7/dist-packages/seaborn/_decorators.py:43: FutureWarning: Pass the following variable as a keyword arg: x. From version 0.12, the only valid positional argument will be `data`, and passing other arguments without an explicit keyword will result in an error or misinterpretation.\n",
            "  FutureWarning\n"
          ]
        },
        {
          "output_type": "execute_result",
          "data": {
            "text/plain": [
              "   overall  reviewTime                                         reviewText\n",
              "0      1.0        2006  -Great devotional Bible written with easy-to-u...\n",
              "1      1.0        2006  I love the new king james version of the the l...\n",
              "2      1.0        2005  I highly recommend this version of the bible f...\n",
              "3      1.0        2005  This Bible is a great study help.  The comment...\n",
              "4      1.0        2005  Great Bible for study - very informative and t..."
            ],
            "text/html": [
              "\n",
              "  <div id=\"df-54471074-041f-4529-a3da-c278180accfe\">\n",
              "    <div class=\"colab-df-container\">\n",
              "      <div>\n",
              "<style scoped>\n",
              "    .dataframe tbody tr th:only-of-type {\n",
              "        vertical-align: middle;\n",
              "    }\n",
              "\n",
              "    .dataframe tbody tr th {\n",
              "        vertical-align: top;\n",
              "    }\n",
              "\n",
              "    .dataframe thead th {\n",
              "        text-align: right;\n",
              "    }\n",
              "</style>\n",
              "<table border=\"1\" class=\"dataframe\">\n",
              "  <thead>\n",
              "    <tr style=\"text-align: right;\">\n",
              "      <th></th>\n",
              "      <th>overall</th>\n",
              "      <th>reviewTime</th>\n",
              "      <th>reviewText</th>\n",
              "    </tr>\n",
              "  </thead>\n",
              "  <tbody>\n",
              "    <tr>\n",
              "      <th>0</th>\n",
              "      <td>1.0</td>\n",
              "      <td>2006</td>\n",
              "      <td>-Great devotional Bible written with easy-to-u...</td>\n",
              "    </tr>\n",
              "    <tr>\n",
              "      <th>1</th>\n",
              "      <td>1.0</td>\n",
              "      <td>2006</td>\n",
              "      <td>I love the new king james version of the the l...</td>\n",
              "    </tr>\n",
              "    <tr>\n",
              "      <th>2</th>\n",
              "      <td>1.0</td>\n",
              "      <td>2005</td>\n",
              "      <td>I highly recommend this version of the bible f...</td>\n",
              "    </tr>\n",
              "    <tr>\n",
              "      <th>3</th>\n",
              "      <td>1.0</td>\n",
              "      <td>2005</td>\n",
              "      <td>This Bible is a great study help.  The comment...</td>\n",
              "    </tr>\n",
              "    <tr>\n",
              "      <th>4</th>\n",
              "      <td>1.0</td>\n",
              "      <td>2005</td>\n",
              "      <td>Great Bible for study - very informative and t...</td>\n",
              "    </tr>\n",
              "  </tbody>\n",
              "</table>\n",
              "</div>\n",
              "      <button class=\"colab-df-convert\" onclick=\"convertToInteractive('df-54471074-041f-4529-a3da-c278180accfe')\"\n",
              "              title=\"Convert this dataframe to an interactive table.\"\n",
              "              style=\"display:none;\">\n",
              "        \n",
              "  <svg xmlns=\"http://www.w3.org/2000/svg\" height=\"24px\"viewBox=\"0 0 24 24\"\n",
              "       width=\"24px\">\n",
              "    <path d=\"M0 0h24v24H0V0z\" fill=\"none\"/>\n",
              "    <path d=\"M18.56 5.44l.94 2.06.94-2.06 2.06-.94-2.06-.94-.94-2.06-.94 2.06-2.06.94zm-11 1L8.5 8.5l.94-2.06 2.06-.94-2.06-.94L8.5 2.5l-.94 2.06-2.06.94zm10 10l.94 2.06.94-2.06 2.06-.94-2.06-.94-.94-2.06-.94 2.06-2.06.94z\"/><path d=\"M17.41 7.96l-1.37-1.37c-.4-.4-.92-.59-1.43-.59-.52 0-1.04.2-1.43.59L10.3 9.45l-7.72 7.72c-.78.78-.78 2.05 0 2.83L4 21.41c.39.39.9.59 1.41.59.51 0 1.02-.2 1.41-.59l7.78-7.78 2.81-2.81c.8-.78.8-2.07 0-2.86zM5.41 20L4 18.59l7.72-7.72 1.47 1.35L5.41 20z\"/>\n",
              "  </svg>\n",
              "      </button>\n",
              "      \n",
              "  <style>\n",
              "    .colab-df-container {\n",
              "      display:flex;\n",
              "      flex-wrap:wrap;\n",
              "      gap: 12px;\n",
              "    }\n",
              "\n",
              "    .colab-df-convert {\n",
              "      background-color: #E8F0FE;\n",
              "      border: none;\n",
              "      border-radius: 50%;\n",
              "      cursor: pointer;\n",
              "      display: none;\n",
              "      fill: #1967D2;\n",
              "      height: 32px;\n",
              "      padding: 0 0 0 0;\n",
              "      width: 32px;\n",
              "    }\n",
              "\n",
              "    .colab-df-convert:hover {\n",
              "      background-color: #E2EBFA;\n",
              "      box-shadow: 0px 1px 2px rgba(60, 64, 67, 0.3), 0px 1px 3px 1px rgba(60, 64, 67, 0.15);\n",
              "      fill: #174EA6;\n",
              "    }\n",
              "\n",
              "    [theme=dark] .colab-df-convert {\n",
              "      background-color: #3B4455;\n",
              "      fill: #D2E3FC;\n",
              "    }\n",
              "\n",
              "    [theme=dark] .colab-df-convert:hover {\n",
              "      background-color: #434B5C;\n",
              "      box-shadow: 0px 1px 3px 1px rgba(0, 0, 0, 0.15);\n",
              "      filter: drop-shadow(0px 1px 2px rgba(0, 0, 0, 0.3));\n",
              "      fill: #FFFFFF;\n",
              "    }\n",
              "  </style>\n",
              "\n",
              "      <script>\n",
              "        const buttonEl =\n",
              "          document.querySelector('#df-54471074-041f-4529-a3da-c278180accfe button.colab-df-convert');\n",
              "        buttonEl.style.display =\n",
              "          google.colab.kernel.accessAllowed ? 'block' : 'none';\n",
              "\n",
              "        async function convertToInteractive(key) {\n",
              "          const element = document.querySelector('#df-54471074-041f-4529-a3da-c278180accfe');\n",
              "          const dataTable =\n",
              "            await google.colab.kernel.invokeFunction('convertToInteractive',\n",
              "                                                     [key], {});\n",
              "          if (!dataTable) return;\n",
              "\n",
              "          const docLinkHtml = 'Like what you see? Visit the ' +\n",
              "            '<a target=\"_blank\" href=https://colab.research.google.com/notebooks/data_table.ipynb>data table notebook</a>'\n",
              "            + ' to learn more about interactive tables.';\n",
              "          element.innerHTML = '';\n",
              "          dataTable['output_type'] = 'display_data';\n",
              "          await google.colab.output.renderOutput(dataTable, element);\n",
              "          const docLink = document.createElement('div');\n",
              "          docLink.innerHTML = docLinkHtml;\n",
              "          element.appendChild(docLink);\n",
              "        }\n",
              "      </script>\n",
              "    </div>\n",
              "  </div>\n",
              "  "
            ]
          },
          "metadata": {},
          "execution_count": 40
        },
        {
          "output_type": "display_data",
          "data": {
            "text/plain": [
              "<Figure size 360x360 with 1 Axes>"
            ],
            "image/png": "[encoded data removed]"
          },
          "metadata": {}
        }
      ]
    },
    {
      "cell_type": "code",
      "source": [
        "# load data for 2007 - 2012\n",
        "df2,shape2,counts2 = load_data(file2)\n",
        "print(shape2)\n",
        "print(counts2)\n",
        "df2.head()"
      ],
      "metadata": {
        "colab": {
          "base_uri": "https://localhost:8080/",
          "height": 692
        },
        "id": "GfJcgmltH9gE",
        "outputId": "08013ef7-587d-475a-ba76-0306133eb1aa"
      },
      "execution_count": 41,
      "outputs": [
        {
          "output_type": "stream",
          "name": "stdout",
          "text": [
            "(83773, 3)\n",
            " 1.0    48362\n",
            "-1.0    27920\n",
            " 0.0     7491\n",
            "Name: overall, dtype: int64\n"
          ]
        },
        {
          "output_type": "stream",
          "name": "stderr",
          "text": [
            "/usr/local/lib/python3.7/dist-packages/seaborn/_decorators.py:43: FutureWarning: Pass the following variable as a keyword arg: x. From version 0.12, the only valid positional argument will be `data`, and passing other arguments without an explicit keyword will result in an error or misinterpretation.\n",
            "  FutureWarning\n"
          ]
        },
        {
          "output_type": "execute_result",
          "data": {
            "text/plain": [
              "   overall  reviewTime                                         reviewText\n",
              "0      1.0        2011  Strong backgroung, good read, quite up to date...\n",
              "1      0.0        2010  If you live on Mars and never heard of the int...\n",
              "2      1.0        2010  i got this book on amazon and it ended up savi...\n",
              "3      1.0        2010  I was very happy with this purchase because th...\n",
              "4      1.0        2010  Recieved in a timely manner- book in great con..."
            ],
            "text/html": [
              "\n",
              "  <div id=\"df-31804e7b-c3e1-49fc-b429-0e30736bfdf9\">\n",
              "    <div class=\"colab-df-container\">\n",
              "      <div>\n",
              "<style scoped>\n",
              "    .dataframe tbody tr th:only-of-type {\n",
              "        vertical-align: middle;\n",
              "    }\n",
              "\n",
              "    .dataframe tbody tr th {\n",
              "        vertical-align: top;\n",
              "    }\n",
              "\n",
              "    .dataframe thead th {\n",
              "        text-align: right;\n",
              "    }\n",
              "</style>\n",
              "<table border=\"1\" class=\"dataframe\">\n",
              "  <thead>\n",
              "    <tr style=\"text-align: right;\">\n",
              "      <th></th>\n",
              "      <th>overall</th>\n",
              "      <th>reviewTime</th>\n",
              "      <th>reviewText</th>\n",
              "    </tr>\n",
              "  </thead>\n",
              "  <tbody>\n",
              "    <tr>\n",
              "      <th>0</th>\n",
              "      <td>1.0</td>\n",
              "      <td>2011</td>\n",
              "      <td>Strong backgroung, good read, quite up to date...</td>\n",
              "    </tr>\n",
              "    <tr>\n",
              "      <th>1</th>\n",
              "      <td>0.0</td>\n",
              "      <td>2010</td>\n",
              "      <td>If you live on Mars and never heard of the int...</td>\n",
              "    </tr>\n",
              "    <tr>\n",
              "      <th>2</th>\n",
              "      <td>1.0</td>\n",
              "      <td>2010</td>\n",
              "      <td>i got this book on amazon and it ended up savi...</td>\n",
              "    </tr>\n",
              "    <tr>\n",
              "      <th>3</th>\n",
              "      <td>1.0</td>\n",
              "      <td>2010</td>\n",
              "      <td>I was very happy with this purchase because th...</td>\n",
              "    </tr>\n",
              "    <tr>\n",
              "      <th>4</th>\n",
              "      <td>1.0</td>\n",
              "      <td>2010</td>\n",
              "      <td>Recieved in a timely manner- book in great con...</td>\n",
              "    </tr>\n",
              "  </tbody>\n",
              "</table>\n",
              "</div>\n",
              "      <button class=\"colab-df-convert\" onclick=\"convertToInteractive('df-31804e7b-c3e1-49fc-b429-0e30736bfdf9')\"\n",
              "              title=\"Convert this dataframe to an interactive table.\"\n",
              "              style=\"display:none;\">\n",
              "        \n",
              "  <svg xmlns=\"http://www.w3.org/2000/svg\" height=\"24px\"viewBox=\"0 0 24 24\"\n",
              "       width=\"24px\">\n",
              "    <path d=\"M0 0h24v24H0V0z\" fill=\"none\"/>\n",
              "    <path d=\"M18.56 5.44l.94 2.06.94-2.06 2.06-.94-2.06-.94-.94-2.06-.94 2.06-2.06.94zm-11 1L8.5 8.5l.94-2.06 2.06-.94-2.06-.94L8.5 2.5l-.94 2.06-2.06.94zm10 10l.94 2.06.94-2.06 2.06-.94-2.06-.94-.94-2.06-.94 2.06-2.06.94z\"/><path d=\"M17.41 7.96l-1.37-1.37c-.4-.4-.92-.59-1.43-.59-.52 0-1.04.2-1.43.59L10.3 9.45l-7.72 7.72c-.78.78-.78 2.05 0 2.83L4 21.41c.39.39.9.59 1.41.59.51 0 1.02-.2 1.41-.59l7.78-7.78 2.81-2.81c.8-.78.8-2.07 0-2.86zM5.41 20L4 18.59l7.72-7.72 1.47 1.35L5.41 20z\"/>\n",
              "  </svg>\n",
              "      </button>\n",
              "      \n",
              "  <style>\n",
              "    .colab-df-container {\n",
              "      display:flex;\n",
              "      flex-wrap:wrap;\n",
              "      gap: 12px;\n",
              "    }\n",
              "\n",
              "    .colab-df-convert {\n",
              "      background-color: #E8F0FE;\n",
              "      border: none;\n",
              "      border-radius: 50%;\n",
              "      cursor: pointer;\n",
              "      display: none;\n",
              "      fill: #1967D2;\n",
              "      height: 32px;\n",
              "      padding: 0 0 0 0;\n",
              "      width: 32px;\n",
              "    }\n",
              "\n",
              "    .colab-df-convert:hover {\n",
              "      background-color: #E2EBFA;\n",
              "      box-shadow: 0px 1px 2px rgba(60, 64, 67, 0.3), 0px 1px 3px 1px rgba(60, 64, 67, 0.15);\n",
              "      fill: #174EA6;\n",
              "    }\n",
              "\n",
              "    [theme=dark] .colab-df-convert {\n",
              "      background-color: #3B4455;\n",
              "      fill: #D2E3FC;\n",
              "    }\n",
              "\n",
              "    [theme=dark] .colab-df-convert:hover {\n",
              "      background-color: #434B5C;\n",
              "      box-shadow: 0px 1px 3px 1px rgba(0, 0, 0, 0.15);\n",
              "      filter: drop-shadow(0px 1px 2px rgba(0, 0, 0, 0.3));\n",
              "      fill: #FFFFFF;\n",
              "    }\n",
              "  </style>\n",
              "\n",
              "      <script>\n",
              "        const buttonEl =\n",
              "          document.querySelector('#df-31804e7b-c3e1-49fc-b429-0e30736bfdf9 button.colab-df-convert');\n",
              "        buttonEl.style.display =\n",
              "          google.colab.kernel.accessAllowed ? 'block' : 'none';\n",
              "\n",
              "        async function convertToInteractive(key) {\n",
              "          const element = document.querySelector('#df-31804e7b-c3e1-49fc-b429-0e30736bfdf9');\n",
              "          const dataTable =\n",
              "            await google.colab.kernel.invokeFunction('convertToInteractive',\n",
              "                                                     [key], {});\n",
              "          if (!dataTable) return;\n",
              "\n",
              "          const docLinkHtml = 'Like what you see? Visit the ' +\n",
              "            '<a target=\"_blank\" href=https://colab.research.google.com/notebooks/data_table.ipynb>data table notebook</a>'\n",
              "            + ' to learn more about interactive tables.';\n",
              "          element.innerHTML = '';\n",
              "          dataTable['output_type'] = 'display_data';\n",
              "          await google.colab.output.renderOutput(dataTable, element);\n",
              "          const docLink = document.createElement('div');\n",
              "          docLink.innerHTML = docLinkHtml;\n",
              "          element.appendChild(docLink);\n",
              "        }\n",
              "      </script>\n",
              "    </div>\n",
              "  </div>\n",
              "  "
            ]
          },
          "metadata": {},
          "execution_count": 41
        },
        {
          "output_type": "display_data",
          "data": {
            "text/plain": [
              "<Figure size 360x360 with 1 Axes>"
            ],
            "image/png": "[encoded data removed]"
          },
          "metadata": {}
        }
      ]
    },
    {
      "cell_type": "code",
      "source": [
        "# load data for 2013 - 2017\n",
        "df3,shape3,counts3 = load_data(file3)\n",
        "print(shape3)\n",
        "print(counts3)\n",
        "df3.head()"
      ],
      "metadata": {
        "colab": {
          "base_uri": "https://localhost:8080/",
          "height": 692
        },
        "id": "DGH2bbnqIqJe",
        "outputId": "d44a4dc5-f117-4129-e48c-e8536a1dc0db"
      },
      "execution_count": 42,
      "outputs": [
        {
          "output_type": "stream",
          "name": "stdout",
          "text": [
            "(235021, 3)\n",
            " 1.0    146179\n",
            "-1.0     69066\n",
            " 0.0     19776\n",
            "Name: overall, dtype: int64\n"
          ]
        },
        {
          "output_type": "stream",
          "name": "stderr",
          "text": [
            "/usr/local/lib/python3.7/dist-packages/seaborn/_decorators.py:43: FutureWarning: Pass the following variable as a keyword arg: x. From version 0.12, the only valid positional argument will be `data`, and passing other arguments without an explicit keyword will result in an error or misinterpretation.\n",
            "  FutureWarning\n"
          ]
        },
        {
          "output_type": "execute_result",
          "data": {
            "text/plain": [
              "   overall  reviewTime                                         reviewText\n",
              "0      1.0        2014  The materials arrived early and were in excell...\n",
              "1      1.0        2014  I am really enjoying this book with the worksh...\n",
              "2     -1.0        2014  IF YOU ARE TAKING THIS CLASS DON\"T WASTE YOUR ...\n",
              "3      0.0        2014  This book was missing pages!!! Important pages...\n",
              "4      1.0        2013  I have used LearnSmart and can officially say ..."
            ],
            "text/html": [
              "\n",
              "  <div id=\"df-1beb8f1b-8a9b-4fe7-bdef-4ae86ed96734\">\n",
              "    <div class=\"colab-df-container\">\n",
              "      <div>\n",
              "<style scoped>\n",
              "    .dataframe tbody tr th:only-of-type {\n",
              "        vertical-align: middle;\n",
              "    }\n",
              "\n",
              "    .dataframe tbody tr th {\n",
              "        vertical-align: top;\n",
              "    }\n",
              "\n",
              "    .dataframe thead th {\n",
              "        text-align: right;\n",
              "    }\n",
              "</style>\n",
              "<table border=\"1\" class=\"dataframe\">\n",
              "  <thead>\n",
              "    <tr style=\"text-align: right;\">\n",
              "      <th></th>\n",
              "      <th>overall</th>\n",
              "      <th>reviewTime</th>\n",
              "      <th>reviewText</th>\n",
              "    </tr>\n",
              "  </thead>\n",
              "  <tbody>\n",
              "    <tr>\n",
              "      <th>0</th>\n",
              "      <td>1.0</td>\n",
              "      <td>2014</td>\n",
              "      <td>The materials arrived early and were in excell...</td>\n",
              "    </tr>\n",
              "    <tr>\n",
              "      <th>1</th>\n",
              "      <td>1.0</td>\n",
              "      <td>2014</td>\n",
              "      <td>I am really enjoying this book with the worksh...</td>\n",
              "    </tr>\n",
              "    <tr>\n",
              "      <th>2</th>\n",
              "      <td>-1.0</td>\n",
              "      <td>2014</td>\n",
              "      <td>IF YOU ARE TAKING THIS CLASS DON\"T WASTE YOUR ...</td>\n",
              "    </tr>\n",
              "    <tr>\n",
              "      <th>3</th>\n",
              "      <td>0.0</td>\n",
              "      <td>2014</td>\n",
              "      <td>This book was missing pages!!! Important pages...</td>\n",
              "    </tr>\n",
              "    <tr>\n",
              "      <th>4</th>\n",
              "      <td>1.0</td>\n",
              "      <td>2013</td>\n",
              "      <td>I have used LearnSmart and can officially say ...</td>\n",
              "    </tr>\n",
              "  </tbody>\n",
              "</table>\n",
              "</div>\n",
              "      <button class=\"colab-df-convert\" onclick=\"convertToInteractive('df-1beb8f1b-8a9b-4fe7-bdef-4ae86ed96734')\"\n",
              "              title=\"Convert this dataframe to an interactive table.\"\n",
              "              style=\"display:none;\">\n",
              "        \n",
              "  <svg xmlns=\"http://www.w3.org/2000/svg\" height=\"24px\"viewBox=\"0 0 24 24\"\n",
              "       width=\"24px\">\n",
              "    <path d=\"M0 0h24v24H0V0z\" fill=\"none\"/>\n",
              "    <path d=\"M18.56 5.44l.94 2.06.94-2.06 2.06-.94-2.06-.94-.94-2.06-.94 2.06-2.06.94zm-11 1L8.5 8.5l.94-2.06 2.06-.94-2.06-.94L8.5 2.5l-.94 2.06-2.06.94zm10 10l.94 2.06.94-2.06 2.06-.94-2.06-.94-.94-2.06-.94 2.06-2.06.94z\"/><path d=\"M17.41 7.96l-1.37-1.37c-.4-.4-.92-.59-1.43-.59-.52 0-1.04.2-1.43.59L10.3 9.45l-7.72 7.72c-.78.78-.78 2.05 0 2.83L4 21.41c.39.39.9.59 1.41.59.51 0 1.02-.2 1.41-.59l7.78-7.78 2.81-2.81c.8-.78.8-2.07 0-2.86zM5.41 20L4 18.59l7.72-7.72 1.47 1.35L5.41 20z\"/>\n",
              "  </svg>\n",
              "      </button>\n",
              "      \n",
              "  <style>\n",
              "    .colab-df-container {\n",
              "      display:flex;\n",
              "      flex-wrap:wrap;\n",
              "      gap: 12px;\n",
              "    }\n",
              "\n",
              "    .colab-df-convert {\n",
              "      background-color: #E8F0FE;\n",
              "      border: none;\n",
              "      border-radius: 50%;\n",
              "      cursor: pointer;\n",
              "      display: none;\n",
              "      fill: #1967D2;\n",
              "      height: 32px;\n",
              "      padding: 0 0 0 0;\n",
              "      width: 32px;\n",
              "    }\n",
              "\n",
              "    .colab-df-convert:hover {\n",
              "      background-color: #E2EBFA;\n",
              "      box-shadow: 0px 1px 2px rgba(60, 64, 67, 0.3), 0px 1px 3px 1px rgba(60, 64, 67, 0.15);\n",
              "      fill: #174EA6;\n",
              "    }\n",
              "\n",
              "    [theme=dark] .colab-df-convert {\n",
              "      background-color: #3B4455;\n",
              "      fill: #D2E3FC;\n",
              "    }\n",
              "\n",
              "    [theme=dark] .colab-df-convert:hover {\n",
              "      background-color: #434B5C;\n",
              "      box-shadow: 0px 1px 3px 1px rgba(0, 0, 0, 0.15);\n",
              "      filter: drop-shadow(0px 1px 2px rgba(0, 0, 0, 0.3));\n",
              "      fill: #FFFFFF;\n",
              "    }\n",
              "  </style>\n",
              "\n",
              "      <script>\n",
              "        const buttonEl =\n",
              "          document.querySelector('#df-1beb8f1b-8a9b-4fe7-bdef-4ae86ed96734 button.colab-df-convert');\n",
              "        buttonEl.style.display =\n",
              "          google.colab.kernel.accessAllowed ? 'block' : 'none';\n",
              "\n",
              "        async function convertToInteractive(key) {\n",
              "          const element = document.querySelector('#df-1beb8f1b-8a9b-4fe7-bdef-4ae86ed96734');\n",
              "          const dataTable =\n",
              "            await google.colab.kernel.invokeFunction('convertToInteractive',\n",
              "                                                     [key], {});\n",
              "          if (!dataTable) return;\n",
              "\n",
              "          const docLinkHtml = 'Like what you see? Visit the ' +\n",
              "            '<a target=\"_blank\" href=https://colab.research.google.com/notebooks/data_table.ipynb>data table notebook</a>'\n",
              "            + ' to learn more about interactive tables.';\n",
              "          element.innerHTML = '';\n",
              "          dataTable['output_type'] = 'display_data';\n",
              "          await google.colab.output.renderOutput(dataTable, element);\n",
              "          const docLink = document.createElement('div');\n",
              "          docLink.innerHTML = docLinkHtml;\n",
              "          element.appendChild(docLink);\n",
              "        }\n",
              "      </script>\n",
              "    </div>\n",
              "  </div>\n",
              "  "
            ]
          },
          "metadata": {},
          "execution_count": 42
        },
        {
          "output_type": "display_data",
          "data": {
            "text/plain": [
              "<Figure size 360x360 with 1 Axes>"
            ],
            "image/png": "[encoded data removed]"
          },
          "metadata": {}
        }
      ]
    },
    {
      "cell_type": "code",
      "source": [
        "# load data for 2018\n",
        "df4,shape4,counts4 = load_data(file4)\n",
        "print(shape4)\n",
        "print(counts4)\n",
        "df4.head()"
      ],
      "metadata": {
        "colab": {
          "base_uri": "https://localhost:8080/",
          "height": 692
        },
        "id": "9mzTjWi_IuD5",
        "outputId": "e08c20a0-0a04-4066-c2d9-ae496d4f82bd"
      },
      "execution_count": 43,
      "outputs": [
        {
          "output_type": "stream",
          "name": "stdout",
          "text": [
            "(10435, 3)\n",
            " 1.0    5925\n",
            "-1.0    3732\n",
            " 0.0     778\n",
            "Name: overall, dtype: int64\n"
          ]
        },
        {
          "output_type": "stream",
          "name": "stderr",
          "text": [
            "/usr/local/lib/python3.7/dist-packages/seaborn/_decorators.py:43: FutureWarning: Pass the following variable as a keyword arg: x. From version 0.12, the only valid positional argument will be `data`, and passing other arguments without an explicit keyword will result in an error or misinterpretation.\n",
            "  FutureWarning\n"
          ]
        },
        {
          "output_type": "execute_result",
          "data": {
            "text/plain": [
              "   overall  reviewTime                                         reviewText\n",
              "0     -1.0        2018  Product had false key.  Fake Microsoft phone n...\n",
              "1      1.0        2018  the codes worked fine.  Im not really a fan of...\n",
              "2      1.0        2018  This product was good i loved that i was able ...\n",
              "3      1.0        2018  It is just a must have for your computer what ...\n",
              "4      1.0        2018       Having access on more than one device helps."
            ],
            "text/html": [
              "\n",
              "  <div id=\"df-f6184f9e-91ac-4743-a6d4-34041e363f7e\">\n",
              "    <div class=\"colab-df-container\">\n",
              "      <div>\n",
              "<style scoped>\n",
              "    .dataframe tbody tr th:only-of-type {\n",
              "        vertical-align: middle;\n",
              "    }\n",
              "\n",
              "    .dataframe tbody tr th {\n",
              "        vertical-align: top;\n",
              "    }\n",
              "\n",
              "    .dataframe thead th {\n",
              "        text-align: right;\n",
              "    }\n",
              "</style>\n",
              "<table border=\"1\" class=\"dataframe\">\n",
              "  <thead>\n",
              "    <tr style=\"text-align: right;\">\n",
              "      <th></th>\n",
              "      <th>overall</th>\n",
              "      <th>reviewTime</th>\n",
              "      <th>reviewText</th>\n",
              "    </tr>\n",
              "  </thead>\n",
              "  <tbody>\n",
              "    <tr>\n",
              "      <th>0</th>\n",
              "      <td>-1.0</td>\n",
              "      <td>2018</td>\n",
              "      <td>Product had false key.  Fake Microsoft phone n...</td>\n",
              "    </tr>\n",
              "    <tr>\n",
              "      <th>1</th>\n",
              "      <td>1.0</td>\n",
              "      <td>2018</td>\n",
              "      <td>the codes worked fine.  Im not really a fan of...</td>\n",
              "    </tr>\n",
              "    <tr>\n",
              "      <th>2</th>\n",
              "      <td>1.0</td>\n",
              "      <td>2018</td>\n",
              "      <td>This product was good i loved that i was able ...</td>\n",
              "    </tr>\n",
              "    <tr>\n",
              "      <th>3</th>\n",
              "      <td>1.0</td>\n",
              "      <td>2018</td>\n",
              "      <td>It is just a must have for your computer what ...</td>\n",
              "    </tr>\n",
              "    <tr>\n",
              "      <th>4</th>\n",
              "      <td>1.0</td>\n",
              "      <td>2018</td>\n",
              "      <td>Having access on more than one device helps.</td>\n",
              "    </tr>\n",
              "  </tbody>\n",
              "</table>\n",
              "</div>\n",
              "      <button class=\"colab-df-convert\" onclick=\"convertToInteractive('df-f6184f9e-91ac-4743-a6d4-34041e363f7e')\"\n",
              "              title=\"Convert this dataframe to an interactive table.\"\n",
              "              style=\"display:none;\">\n",
              "        \n",
              "  <svg xmlns=\"http://www.w3.org/2000/svg\" height=\"24px\"viewBox=\"0 0 24 24\"\n",
              "       width=\"24px\">\n",
              "    <path d=\"M0 0h24v24H0V0z\" fill=\"none\"/>\n",
              "    <path d=\"M18.56 5.44l.94 2.06.94-2.06 2.06-.94-2.06-.94-.94-2.06-.94 2.06-2.06.94zm-11 1L8.5 8.5l.94-2.06 2.06-.94-2.06-.94L8.5 2.5l-.94 2.06-2.06.94zm10 10l.94 2.06.94-2.06 2.06-.94-2.06-.94-.94-2.06-.94 2.06-2.06.94z\"/><path d=\"M17.41 7.96l-1.37-1.37c-.4-.4-.92-.59-1.43-.59-.52 0-1.04.2-1.43.59L10.3 9.45l-7.72 7.72c-.78.78-.78 2.05 0 2.83L4 21.41c.39.39.9.59 1.41.59.51 0 1.02-.2 1.41-.59l7.78-7.78 2.81-2.81c.8-.78.8-2.07 0-2.86zM5.41 20L4 18.59l7.72-7.72 1.47 1.35L5.41 20z\"/>\n",
              "  </svg>\n",
              "      </button>\n",
              "      \n",
              "  <style>\n",
              "    .colab-df-container {\n",
              "      display:flex;\n",
              "      flex-wrap:wrap;\n",
              "      gap: 12px;\n",
              "    }\n",
              "\n",
              "    .colab-df-convert {\n",
              "      background-color: #E8F0FE;\n",
              "      border: none;\n",
              "      border-radius: 50%;\n",
              "      cursor: pointer;\n",
              "      display: none;\n",
              "      fill: #1967D2;\n",
              "      height: 32px;\n",
              "      padding: 0 0 0 0;\n",
              "      width: 32px;\n",
              "    }\n",
              "\n",
              "    .colab-df-convert:hover {\n",
              "      background-color: #E2EBFA;\n",
              "      box-shadow: 0px 1px 2px rgba(60, 64, 67, 0.3), 0px 1px 3px 1px rgba(60, 64, 67, 0.15);\n",
              "      fill: #174EA6;\n",
              "    }\n",
              "\n",
              "    [theme=dark] .colab-df-convert {\n",
              "      background-color: #3B4455;\n",
              "      fill: #D2E3FC;\n",
              "    }\n",
              "\n",
              "    [theme=dark] .colab-df-convert:hover {\n",
              "      background-color: #434B5C;\n",
              "      box-shadow: 0px 1px 3px 1px rgba(0, 0, 0, 0.15);\n",
              "      filter: drop-shadow(0px 1px 2px rgba(0, 0, 0, 0.3));\n",
              "      fill: #FFFFFF;\n",
              "    }\n",
              "  </style>\n",
              "\n",
              "      <script>\n",
              "        const buttonEl =\n",
              "          document.querySelector('#df-f6184f9e-91ac-4743-a6d4-34041e363f7e button.colab-df-convert');\n",
              "        buttonEl.style.display =\n",
              "          google.colab.kernel.accessAllowed ? 'block' : 'none';\n",
              "\n",
              "        async function convertToInteractive(key) {\n",
              "          const element = document.querySelector('#df-f6184f9e-91ac-4743-a6d4-34041e363f7e');\n",
              "          const dataTable =\n",
              "            await google.colab.kernel.invokeFunction('convertToInteractive',\n",
              "                                                     [key], {});\n",
              "          if (!dataTable) return;\n",
              "\n",
              "          const docLinkHtml = 'Like what you see? Visit the ' +\n",
              "            '<a target=\"_blank\" href=https://colab.research.google.com/notebooks/data_table.ipynb>data table notebook</a>'\n",
              "            + ' to learn more about interactive tables.';\n",
              "          element.innerHTML = '';\n",
              "          dataTable['output_type'] = 'display_data';\n",
              "          await google.colab.output.renderOutput(dataTable, element);\n",
              "          const docLink = document.createElement('div');\n",
              "          docLink.innerHTML = docLinkHtml;\n",
              "          element.appendChild(docLink);\n",
              "        }\n",
              "      </script>\n",
              "    </div>\n",
              "  </div>\n",
              "  "
            ]
          },
          "metadata": {},
          "execution_count": 43
        },
        {
          "output_type": "display_data",
          "data": {
            "text/plain": [
              "<Figure size 360x360 with 1 Axes>"
            ],
            "image/png": "[encoded data removed]"
          },
          "metadata": {}
        }
      ]
    },
    {
      "cell_type": "markdown",
      "source": [
        "## Split and Balance train&test"
      ],
      "metadata": {
        "id": "7W6cYU2rJS8i"
      }
    },
    {
      "cell_type": "markdown",
      "source": [
        "#### Split and Balance for each time period"
      ],
      "metadata": {
        "id": "Uh9yQMdIVo0L"
      }
    },
    {
      "cell_type": "code",
      "source": [
        "def split_balance(df,counts):\n",
        "  # get data of each class\n",
        "  groups = df.groupby(df.overall)\n",
        "  pos = groups.get_group(1)\n",
        "  neu = groups.get_group(0)\n",
        "  neg = groups.get_group(-1)\n",
        "\n",
        "  # shuffle the dataframe\n",
        "  pos = pos.sample(frac=1.0)\n",
        "  neu = neu.sample(frac=1.0)\n",
        "  neg = neg.sample(frac=1.0)\n",
        "\n",
        "  # compute the index to split 80% for train 20% for test\n",
        "  posind = int(counts[1]*0.8)\n",
        "  neuind = int(counts[0]*0.8)\n",
        "  negind = int(counts[-1]*0.8)\n",
        "\n",
        "  # split to get train for each class\n",
        "  pos_train = pos.iloc[:posind,:]\n",
        "  neu_train = neu.iloc[:neuind,:]\n",
        "  neg_train = neg.iloc[:negind,:]\n",
        "\n",
        "  # split to get test for each class\n",
        "  pos_test = pos.iloc[posind:,:]\n",
        "  neu_test = neu.iloc[neuind:,:]\n",
        "  neg_test = neg.iloc[negind:,:]\n",
        "\n",
        "  # combine train dataset\n",
        "  df_train = pd.concat([pos_train, neu_train, neg_train],sort=False).sample(frac=1.0)\n",
        "  df_train_label = df_train.overall\n",
        "\n",
        "  # combine test dataset\n",
        "  df_test = pd.concat([pos_test, neu_test, neg_test],sort=False).sample(frac=1.0)\n",
        "  df_test_label = df_test.overall\n",
        "\n",
        "  return df_train,df_train_label,df_test,df_test_label"
      ],
      "metadata": {
        "id": "kz1MgiwyIwWR"
      },
      "execution_count": 44,
      "outputs": []
    },
    {
      "cell_type": "code",
      "source": [
        "# split train and test data for 1998 - 2006\n",
        "df1_train,df1_train_label,df1_test,df1_test_label = split_balance(df1,counts1)\n",
        "\n",
        "# get train and test text\n",
        "df1_train_data = df1_train.reviewText\n",
        "df1_test_data = df1_test.reviewText\n",
        "\n",
        "# split train and test data for 2007 - 2012\n",
        "df2_train,df2_train_label,df2_test,df2_test_label = split_balance(df2,counts2)\n",
        "\n",
        "# get train and test text\n",
        "df2_train_data = df2_train.reviewText\n",
        "df2_test_data = df2_test.reviewText\n",
        "\n",
        "# split train and test data for 2013 - 2017\n",
        "df3_train,df3_train_label,df3_test,df3_test_label = split_balance(df3,counts3)\n",
        "\n",
        "# get train and test text\n",
        "df3_train_data = df3_train.reviewText\n",
        "df3_test_data = df3_test.reviewText\n",
        "\n",
        "# split train and test data for 2018\n",
        "df4_train,df4_train_label,df4_test,df4_test_label = split_balance(df4,counts4)\n",
        "\n",
        "# get train and test text\n",
        "df4_train_data = df4_train.reviewText\n",
        "df4_test_data = df4_test.reviewText"
      ],
      "metadata": {
        "id": "WMYM4NY8JczK"
      },
      "execution_count": 45,
      "outputs": []
    },
    {
      "cell_type": "markdown",
      "source": [
        "#### Merge 20% of each time period"
      ],
      "metadata": {
        "id": "bdTwAmH7Vve5"
      }
    },
    {
      "cell_type": "code",
      "source": [
        "# get 20% of each train to merge a train data\n",
        "size1,size2,size3,size4 = len(df1_train_data),len(df2_train_data),len(df3_train_data),len(df4_train_data)\n",
        "print(size1,size2,size3,size4)\n",
        "ind1,ind2,ind3,ind4 = int(size1*0.2),int(size2*0.2),int(size3*0.2),int(size4*0.2)\n",
        "train1,label1 = df1_train_data.iloc[:ind1],df1_train_label.iloc[:ind1]\n",
        "train2,label2 = df2_train_data.iloc[:ind2],df2_train_label.iloc[:ind2]\n",
        "train3,label3 = df3_train_data.iloc[:ind3],df3_train_label.iloc[:ind3]\n",
        "train4,label4 = df4_train_data.iloc[:ind4],df4_train_label.iloc[:ind4]\n",
        "\n",
        "merge_train_data = pd.concat([train1, train2, train3, train4],sort=False)\n",
        "merge_train_label = pd.concat([label1,label2,label3,label4],sort=False)\n",
        "merge_train_data.shape,merge_train_label.shape"
      ],
      "metadata": {
        "colab": {
          "base_uri": "https://localhost:8080/"
        },
        "id": "XZ6U58eEK_jZ",
        "outputId": "c4b5eb02-8d9a-4c92-80f8-7817d2c6be74"
      },
      "execution_count": 46,
      "outputs": [
        {
          "output_type": "stream",
          "name": "stdout",
          "text": [
            "21622 67017 188015 8347\n"
          ]
        },
        {
          "output_type": "execute_result",
          "data": {
            "text/plain": [
              "((56999,), (56999,))"
            ]
          },
          "metadata": {},
          "execution_count": 46
        }
      ]
    },
    {
      "cell_type": "markdown",
      "source": [
        "## Text Preprocessing"
      ],
      "metadata": {
        "id": "rfpBJeBGJoLR"
      }
    },
    {
      "cell_type": "code",
      "source": [
        "# Defining my NLTK stop words and my user-defined stop words\n",
        "emojis = {**UNICODE_EMOJI,**EMOTICONS_EMO} # full list of emojis unicodes"
      ],
      "metadata": {
        "id": "pt80XqG3Jl2h"
      },
      "execution_count": 47,
      "outputs": []
    },
    {
      "cell_type": "code",
      "source": [
        "def processtext(txt):\n",
        "  # convert tweet to lower case\n",
        "  txt = txt.lower()\n",
        "  # remove all html tag\n",
        "  txt = re.sub(\"(<.*?>)\", \"\", txt)\n",
        "  # remove all urls\n",
        "  txt = re.sub('https?:\\/\\/\\S+','',txt)\n",
        "  # remove @ references  \n",
        "  txt = re.sub('@[\\w_]+','',txt)\n",
        "  # remove # hashtags\n",
        "  txt = re.sub('#\\S+','',txt)\n",
        "  # replace all emojis\n",
        "  for emo in emojis.keys():\n",
        "    txt = txt.replace(emo,\"EMOJI \"+emojis[emo])\n",
        "  # remove all multiple white spaces\n",
        "  txt = re.sub('[\\s]+',' ',txt)\n",
        "  # remove all punctuations and non-ascii\n",
        "  txt = re.sub('[\\.?!,;:\\-\\[\\]\\{\\}\\(\\)\\'\\\"/]','',txt)\n",
        "  # remove whitespace\n",
        "  txt = txt.strip()\n",
        "\n",
        "  # tokenization with nltk\n",
        "  data = word_tokenize(txt)\n",
        "  # stemming with nltk\n",
        "  porter = PorterStemmer()\n",
        "  stem_data = [porter.stem(word) for word in data]\n",
        "  return stem_data"
      ],
      "metadata": {
        "id": "vTZjd5UCJq0_"
      },
      "execution_count": 48,
      "outputs": []
    },
    {
      "cell_type": "markdown",
      "source": [
        "## Text Representation"
      ],
      "metadata": {
        "id": "fiZYwspbLuYB"
      }
    },
    {
      "cell_type": "markdown",
      "source": [
        "### Learn on 2018;Estimate on 2018"
      ],
      "metadata": {
        "id": "Dj67XNO2Lxh3"
      }
    },
    {
      "cell_type": "code",
      "source": [
        "# min\n",
        "# TFIDF, unigrams and trigrams\n",
        "vect = TfidfVectorizer(tokenizer=processtext, sublinear_tf=True, norm='l2', ngram_range=(1,3))\n",
        "# fit on previous 2018 data\n",
        "vect.fit_transform(df4.reviewText)\n",
        "\n",
        "# transform testing and training datasets to vectors\n",
        "df4_train_vect = vect.transform(df4_train_data)\n",
        "df4_test_vect = vect.transform(df4_test_data)"
      ],
      "metadata": {
        "id": "GUpsYrXuJsWa"
      },
      "execution_count": 18,
      "outputs": []
    },
    {
      "cell_type": "markdown",
      "source": [
        "### Learn on merge data;Estimate on 98-06,07-12,13-17,18"
      ],
      "metadata": {
        "id": "JosDZgiFWKPv"
      }
    },
    {
      "cell_type": "code",
      "source": [
        "tfidf_vec = TfidfVectorizer(tokenizer=processtext, sublinear_tf=True, norm='l2', ngram_range=(1,3))\n",
        "tfidf_vec.fit_transform(merge_train_data)\n",
        "\n",
        "test_vect1 = tfidf_vec.transform(df1_test_data)\n",
        "test_vect2 = tfidf_vec.transform(df2_test_data)\n",
        "test_vect3 = tfidf_vec.transform(df3_test_data)\n",
        "test_vect4 = tfidf_vec.transform(df4_test_data)"
      ],
      "metadata": {
        "id": "GmS1NbszWccK"
      },
      "execution_count": 49,
      "outputs": []
    },
    {
      "cell_type": "code",
      "source": [
        "merged_data = tfidf_vec.transform(merge_train_data)"
      ],
      "metadata": {
        "id": "NPx-VaNsZG0D"
      },
      "execution_count": 51,
      "outputs": []
    },
    {
      "cell_type": "markdown",
      "source": [
        "## Classifiers"
      ],
      "metadata": {
        "id": "wAdeYgRaMQA_"
      }
    },
    {
      "cell_type": "markdown",
      "source": [
        "### Learn on 2018;Estimate on 2018"
      ],
      "metadata": {
        "id": "SS4tx9XyNzqu"
      }
    },
    {
      "cell_type": "markdown",
      "source": [
        "#### Linear Support Vector"
      ],
      "metadata": {
        "id": "VzP68QLjMRrN"
      }
    },
    {
      "cell_type": "code",
      "source": [
        "svc18 = LinearSVC(C=1.0, class_weight=None, dual=True, fit_intercept=True,\n",
        "     intercept_scaling=1, loss='squared_hinge', max_iter=1000,\n",
        "     multi_class='ovr', penalty='l2', random_state=None, tol=0.0001,\n",
        "     verbose=0)\n",
        "svc18.fit(df4_train_vect, df4_train_label)\n",
        "ysvm_pred18 = svc18.predict(df4_test_vect)\n",
        "\n",
        "print(\"Accuracy: {:.2f}%\".format(accuracy_score(df4_test_label, ysvm_pred18) * 100))\n",
        "print(\"\\nF1 Score: {:.2f}\".format(f1_score(df4_test_label, ysvm_pred18, average='micro') * 100))"
      ],
      "metadata": {
        "colab": {
          "base_uri": "https://localhost:8080/"
        },
        "id": "z241DREwMW1t",
        "outputId": "93c5c729-dc05-40be-ffb0-d2ea7b4b9e6b"
      },
      "execution_count": 19,
      "outputs": [
        {
          "output_type": "stream",
          "name": "stdout",
          "text": [
            "Accuracy: 84.48%\n",
            "\n",
            "F1 Score: 84.48\n"
          ]
        }
      ]
    },
    {
      "cell_type": "markdown",
      "source": [
        "#### Logistic Regression"
      ],
      "metadata": {
        "id": "EMyW_rncMR-h"
      }
    },
    {
      "cell_type": "code",
      "source": [
        "lr18=LogisticRegression(C=10.0, class_weight=None, dual=False, fit_intercept=True,\n",
        "                   intercept_scaling=1, l1_ratio=None, max_iter=200,\n",
        "                   multi_class='auto', n_jobs=None, penalty='l2',\n",
        "                   random_state=None, solver='lbfgs', tol=0.0001, verbose=0,\n",
        "                   warm_start=False)\n",
        "lr18.fit(df4_train_vect, df4_train_label)\n",
        "ylog_pred18 = lr18.predict(df4_test_vect)\n",
        "\n",
        "print(\"Accuracy: {:.2f}%\".format(accuracy_score(df4_test_label, ylog_pred18) * 100))\n",
        "print(\"\\nF1 Score: {:.2f}\".format(f1_score(df4_test_label, ylog_pred18, average='micro') * 100))"
      ],
      "metadata": {
        "colab": {
          "base_uri": "https://localhost:8080/"
        },
        "id": "SCv7X_4pMb31",
        "outputId": "d0050f17-fa1b-40cd-a927-3eb0e16a73dd"
      },
      "execution_count": 20,
      "outputs": [
        {
          "output_type": "stream",
          "name": "stdout",
          "text": [
            "Accuracy: 84.05%\n",
            "\n",
            "F1 Score: 84.05\n"
          ]
        }
      ]
    },
    {
      "cell_type": "markdown",
      "source": [
        "#### Naive Bayes"
      ],
      "metadata": {
        "id": "LPrgE-QWMSGl"
      }
    },
    {
      "cell_type": "code",
      "source": [
        "nb18 = MultinomialNB(alpha=0.1,fit_prior=True)\n",
        "\n",
        "nb18.fit(df4_train_vect, df4_train_label)\n",
        "ynb_pred18 = nb18.predict(df4_test_vect)\n",
        "\n",
        "print(\"Accuracy: {:.2f}%\".format(accuracy_score(df4_test_label, ynb_pred18) * 100))\n",
        "print(\"\\nF1 Score: {:.2f}\".format(f1_score(df4_test_label, ynb_pred18, average='micro') * 100))"
      ],
      "metadata": {
        "colab": {
          "base_uri": "https://localhost:8080/"
        },
        "id": "95ws7nqpNJSi",
        "outputId": "837f6045-dc14-4f77-a142-7c02a59dbbfb"
      },
      "execution_count": 21,
      "outputs": [
        {
          "output_type": "stream",
          "name": "stdout",
          "text": [
            "Accuracy: 83.43%\n",
            "\n",
            "F1 Score: 83.43\n"
          ]
        }
      ]
    },
    {
      "cell_type": "markdown",
      "source": [
        "#### Random Forest"
      ],
      "metadata": {
        "id": "FFDmo9rsMSOY"
      }
    },
    {
      "cell_type": "code",
      "source": [
        "# estimated 5hrs\n",
        "rf18 = RandomForestClassifier(n_estimators=100,criterion='entropy',n_jobs=-1)\n",
        "rf18.fit(df4_train_vect, df4_train_label)\n",
        "yrf_pred18 = rf18.predict(df4_test_vect)\n",
        "\n",
        "print(\"Accuracy: {:.2f}%\".format(accuracy_score(df4_test_label, yrf_pred18) * 100))\n",
        "print(\"\\nF1 Score: {:.2f}\".format(f1_score(df4_test_label, yrf_pred18, average='micro') * 100))"
      ],
      "metadata": {
        "colab": {
          "base_uri": "https://localhost:8080/"
        },
        "id": "vS2EKCTqMLqe",
        "outputId": "92cfed53-83b9-4433-b826-68e2f861ef8f"
      },
      "execution_count": 22,
      "outputs": [
        {
          "output_type": "stream",
          "name": "stdout",
          "text": [
            "Accuracy: 80.27%\n",
            "\n",
            "F1 Score: 80.27\n"
          ]
        }
      ]
    },
    {
      "cell_type": "markdown",
      "source": [
        "### Learn on Merged data;Estimate on each time period"
      ],
      "metadata": {
        "id": "I0_BwhNIXplW"
      }
    },
    {
      "cell_type": "markdown",
      "source": [
        "#### Linear Support Vector"
      ],
      "metadata": {
        "id": "dF-ZG0yxX19h"
      }
    },
    {
      "cell_type": "code",
      "source": [
        "svc = LinearSVC(C=1.0, class_weight=None, dual=True, fit_intercept=True,\n",
        "     intercept_scaling=1, loss='squared_hinge', max_iter=1000,\n",
        "     multi_class='ovr', penalty='l2', random_state=None, tol=0.0001,\n",
        "     verbose=0)\n",
        "svc.fit(merged_data, merge_train_label)"
      ],
      "metadata": {
        "colab": {
          "base_uri": "https://localhost:8080/"
        },
        "id": "2jJnLz_2Xu4g",
        "outputId": "98192282-5456-40f6-bad1-ef1ce73a7b95"
      },
      "execution_count": 52,
      "outputs": [
        {
          "output_type": "execute_result",
          "data": {
            "text/plain": [
              "LinearSVC()"
            ]
          },
          "metadata": {},
          "execution_count": 52
        }
      ]
    },
    {
      "cell_type": "code",
      "source": [
        "ysvm_pred1 = svc.predict(test_vect1)\n",
        "print(\"For 1998-2006\\n\")\n",
        "print(\"Accuracy: {:.2f}%\".format(accuracy_score(df1_test_label, ysvm_pred1) * 100))\n",
        "print(\"\\nF1 Score: {:.2f}\".format(f1_score(df1_test_label, ysvm_pred1, average='micro') * 100))\n",
        "\n",
        "ysvm_pred2 = svc.predict(test_vect2)\n",
        "print(\"For 2007-2012\\n\")\n",
        "print(\"Accuracy: {:.2f}%\".format(accuracy_score(df2_test_label, ysvm_pred2) * 100))\n",
        "print(\"\\nF1 Score: {:.2f}\".format(f1_score(df2_test_label, ysvm_pred2, average='micro') * 100))\n",
        "\n",
        "ysvm_pred3 = svc.predict(test_vect3)\n",
        "print(\"For 2013-2017\\n\")\n",
        "print(\"Accuracy: {:.2f}%\".format(accuracy_score(df3_test_label, ysvm_pred3) * 100))\n",
        "print(\"\\nF1 Score: {:.2f}\".format(f1_score(df3_test_label, ysvm_pred3, average='micro') * 100))\n",
        "\n",
        "ysvm_pred4 = svc.predict(test_vect4)\n",
        "print(\"For 2018\\n\")\n",
        "print(\"Accuracy: {:.2f}%\".format(accuracy_score(df4_test_label, ysvm_pred4) * 100))\n",
        "print(\"\\nF1 Score: {:.2f}\".format(f1_score(df4_test_label, ysvm_pred4, average='micro') * 100))"
      ],
      "metadata": {
        "colab": {
          "base_uri": "https://localhost:8080/"
        },
        "id": "vnn9AZUlXu_f",
        "outputId": "2b545c53-f22d-4a05-f647-20b46eed6c4f"
      },
      "execution_count": 55,
      "outputs": [
        {
          "output_type": "stream",
          "name": "stdout",
          "text": [
            "For 1998-2006\n",
            "\n",
            "Accuracy: 83.67%\n",
            "\n",
            "F1 Score: 83.67\n",
            "For 2007-2012\n",
            "\n",
            "Accuracy: 84.38%\n",
            "\n",
            "F1 Score: 84.38\n",
            "For 2013-2017\n",
            "\n",
            "Accuracy: 85.74%\n",
            "\n",
            "F1 Score: 85.74\n",
            "For 2018\n",
            "\n",
            "Accuracy: 86.02%\n",
            "\n",
            "F1 Score: 86.02\n"
          ]
        }
      ]
    },
    {
      "cell_type": "markdown",
      "source": [
        "#### Logistic Regression"
      ],
      "metadata": {
        "id": "Y6HMgBM6abJO"
      }
    },
    {
      "cell_type": "code",
      "source": [
        "lr=LogisticRegression(C=10.0, class_weight=None, dual=False, fit_intercept=True,\n",
        "                   intercept_scaling=1, l1_ratio=None, max_iter=200,\n",
        "                   multi_class='auto', n_jobs=None, penalty='l2',\n",
        "                   random_state=None, solver='lbfgs', tol=0.0001, verbose=0,\n",
        "                   warm_start=False)\n",
        "lr.fit(merged_data, merge_train_label)"
      ],
      "metadata": {
        "colab": {
          "base_uri": "https://localhost:8080/"
        },
        "id": "lCxyVaxsXvFf",
        "outputId": "5038f417-e66d-4f3f-bf57-c079dcc8ef75"
      },
      "execution_count": 54,
      "outputs": [
        {
          "output_type": "stream",
          "name": "stderr",
          "text": [
            "/usr/local/lib/python3.7/dist-packages/sklearn/linear_model/_logistic.py:818: ConvergenceWarning: lbfgs failed to converge (status=1):\n",
            "STOP: TOTAL NO. of ITERATIONS REACHED LIMIT.\n",
            "\n",
            "Increase the number of iterations (max_iter) or scale the data as shown in:\n",
            "    https://scikit-learn.org/stable/modules/preprocessing.html\n",
            "Please also refer to the documentation for alternative solver options:\n",
            "    https://scikit-learn.org/stable/modules/linear_model.html#logistic-regression\n",
            "  extra_warning_msg=_LOGISTIC_SOLVER_CONVERGENCE_MSG,\n"
          ]
        },
        {
          "output_type": "execute_result",
          "data": {
            "text/plain": [
              "LogisticRegression(C=10.0, max_iter=200)"
            ]
          },
          "metadata": {},
          "execution_count": 54
        }
      ]
    },
    {
      "cell_type": "code",
      "source": [
        "ylog_pred1 = lr.predict(test_vect1)\n",
        "print(\"For 1998-2006\\n\")\n",
        "print(\"Accuracy: {:.2f}%\".format(accuracy_score(df1_test_label, ylog_pred1) * 100))\n",
        "print(\"\\nF1 Score: {:.2f}\".format(f1_score(df1_test_label, ylog_pred1, average='micro') * 100))\n",
        "\n",
        "ylog_pred2 = lr.predict(test_vect2)\n",
        "print(\"For 2007-2012\\n\")\n",
        "print(\"Accuracy: {:.2f}%\".format(accuracy_score(df2_test_label, ylog_pred2) * 100))\n",
        "print(\"\\nF1 Score: {:.2f}\".format(f1_score(df2_test_label, ylog_pred2, average='micro') * 100))\n",
        "\n",
        "ylog_pred3 = lr.predict(test_vect3)\n",
        "print(\"For 2013-2017\\n\")\n",
        "print(\"Accuracy: {:.2f}%\".format(accuracy_score(df3_test_label, ylog_pred3) * 100))\n",
        "print(\"\\nF1 Score: {:.2f}\".format(f1_score(df3_test_label, ylog_pred3, average='micro') * 100))\n",
        "\n",
        "ylog_pred4 = lr.predict(test_vect4)\n",
        "print(\"For 2018\\n\")\n",
        "print(\"Accuracy: {:.2f}%\".format(accuracy_score(df4_test_label, ylog_pred4) * 100))\n",
        "print(\"\\nF1 Score: {:.2f}\".format(f1_score(df4_test_label, ylog_pred4, average='micro') * 100))"
      ],
      "metadata": {
        "colab": {
          "base_uri": "https://localhost:8080/"
        },
        "id": "a6RnDG1zXvL-",
        "outputId": "78291691-cb60-47be-8433-2deb454e895f"
      },
      "execution_count": 56,
      "outputs": [
        {
          "output_type": "stream",
          "name": "stdout",
          "text": [
            "For 1998-2006\n",
            "\n",
            "Accuracy: 83.24%\n",
            "\n",
            "F1 Score: 83.24\n",
            "For 2007-2012\n",
            "\n",
            "Accuracy: 84.20%\n",
            "\n",
            "F1 Score: 84.20\n",
            "For 2013-2017\n",
            "\n",
            "Accuracy: 85.45%\n",
            "\n",
            "F1 Score: 85.45\n",
            "For 2018\n",
            "\n",
            "Accuracy: 85.54%\n",
            "\n",
            "F1 Score: 85.54\n"
          ]
        }
      ]
    },
    {
      "cell_type": "markdown",
      "source": [
        "#### Naive Bayes"
      ],
      "metadata": {
        "id": "4TQwYTkzb7fq"
      }
    },
    {
      "cell_type": "code",
      "source": [
        "nb = MultinomialNB(alpha=0.1,fit_prior=True)\n",
        "nb.fit(merged_data, merge_train_label)"
      ],
      "metadata": {
        "colab": {
          "base_uri": "https://localhost:8080/"
        },
        "id": "NBbu3ev2b96O",
        "outputId": "ef1f86f7-12d8-4603-b069-9bd29dcf98b7"
      },
      "execution_count": 57,
      "outputs": [
        {
          "output_type": "execute_result",
          "data": {
            "text/plain": [
              "MultinomialNB(alpha=0.1)"
            ]
          },
          "metadata": {},
          "execution_count": 57
        }
      ]
    },
    {
      "cell_type": "code",
      "source": [
        "ynb_pred1 = nb.predict(test_vect1)\n",
        "print(\"For 1998-2006\\n\")\n",
        "print(\"Accuracy: {:.2f}%\".format(accuracy_score(df1_test_label, ynb_pred1) * 100))\n",
        "print(\"\\nF1 Score: {:.2f}\".format(f1_score(df1_test_label, ynb_pred1, average='micro') * 100))\n",
        "\n",
        "ynb_pred2 = nb.predict(test_vect2)\n",
        "print(\"For 2007-2012\\n\")\n",
        "print(\"Accuracy: {:.2f}%\".format(accuracy_score(df2_test_label, ynb_pred2) * 100))\n",
        "print(\"\\nF1 Score: {:.2f}\".format(f1_score(df2_test_label, ynb_pred2, average='micro') * 100))\n",
        "\n",
        "ynb_pred3 = nb.predict(test_vect3)\n",
        "print(\"For 2007-2012\\n\")\n",
        "print(\"Accuracy: {:.2f}%\".format(accuracy_score(df3_test_label, ynb_pred3) * 100))\n",
        "print(\"\\nF1 Score: {:.2f}\".format(f1_score(df3_test_label, ynb_pred3, average='micro') * 100))\n",
        "\n",
        "ynb_pred4 = nb.predict(test_vect4)\n",
        "print(\"For 2018\\n\")\n",
        "print(\"Accuracy: {:.2f}%\".format(accuracy_score(df4_test_label, ynb_pred4) * 100))\n",
        "print(\"\\nF1 Score: {:.2f}\".format(f1_score(df4_test_label, ynb_pred4, average='micro') * 100))"
      ],
      "metadata": {
        "colab": {
          "base_uri": "https://localhost:8080/"
        },
        "id": "B0FUsl1Nb-AI",
        "outputId": "9acee64d-2b48-49ec-81bb-2ce3f7734916"
      },
      "execution_count": 58,
      "outputs": [
        {
          "output_type": "stream",
          "name": "stdout",
          "text": [
            "For 1998-2006\n",
            "\n",
            "Accuracy: 78.19%\n",
            "\n",
            "F1 Score: 78.19\n",
            "For 2007-2012\n",
            "\n",
            "Accuracy: 80.39%\n",
            "\n",
            "F1 Score: 80.39\n",
            "For 2007-2012\n",
            "\n",
            "Accuracy: 82.51%\n",
            "\n",
            "F1 Score: 82.51\n",
            "For 2018\n",
            "\n",
            "Accuracy: 83.43%\n",
            "\n",
            "F1 Score: 83.43\n"
          ]
        }
      ]
    },
    {
      "cell_type": "markdown",
      "source": [
        "#### Random Forest"
      ],
      "metadata": {
        "id": "svi_Y_OGdSR3"
      }
    },
    {
      "cell_type": "code",
      "source": [
        "# estimated 5hrs\n",
        "rf = RandomForestClassifier(n_estimators=100,criterion='entropy',n_jobs=-1)\n",
        "rf.fit(merged_data, merge_train_label)"
      ],
      "metadata": {
        "colab": {
          "base_uri": "https://localhost:8080/"
        },
        "id": "B5tzWGAkdWkg",
        "outputId": "a4d30d1d-6627-42fe-f8d2-a065a01bd95f"
      },
      "execution_count": 59,
      "outputs": [
        {
          "output_type": "execute_result",
          "data": {
            "text/plain": [
              "RandomForestClassifier(criterion='entropy', n_jobs=-1)"
            ]
          },
          "metadata": {},
          "execution_count": 59
        }
      ]
    },
    {
      "cell_type": "code",
      "source": [
        "yrf_pred1 = rf.predict(test_vect1)\n",
        "print(\"For 1998-2006\\n\")\n",
        "print(\"Accuracy: {:.2f}%\".format(accuracy_score(df1_test_label, yrf_pred1) * 100))\n",
        "print(\"\\nF1 Score: {:.2f}\".format(f1_score(df1_test_label, yrf_pred1, average='micro') * 100))\n",
        "\n",
        "yrf_pred2 = rf.predict(test_vect2)\n",
        "print(\"For 2007-2012\\n\")\n",
        "print(\"Accuracy: {:.2f}%\".format(accuracy_score(df2_test_label, yrf_pred2) * 100))\n",
        "print(\"\\nF1 Score: {:.2f}\".format(f1_score(df2_test_label, yrf_pred2, average='micro') * 100))\n",
        "\n",
        "yrf_pred3 = rf.predict(test_vect3)\n",
        "print(\"For 2013-2017\\n\")\n",
        "print(\"Accuracy: {:.2f}%\".format(accuracy_score(df3_test_label, yrf_pred3) * 100))\n",
        "print(\"\\nF1 Score: {:.2f}\".format(f1_score(df3_test_label, yrf_pred3, average='micro') * 100))\n",
        "\n",
        "yrf_pred4 = rf.predict(test_vect4)\n",
        "print(\"For 2013-2017\\n\")\n",
        "print(\"Accuracy: {:.2f}%\".format(accuracy_score(df4_test_label, yrf_pred4) * 100))\n",
        "print(\"\\nF1 Score: {:.2f}\".format(f1_score(df4_test_label, yrf_pred4, average='micro') * 100))"
      ],
      "metadata": {
        "colab": {
          "base_uri": "https://localhost:8080/"
        },
        "id": "M8rKqEigdWxE",
        "outputId": "f8878532-0071-44a5-c7c8-83f9333f5e1c"
      },
      "execution_count": 60,
      "outputs": [
        {
          "output_type": "stream",
          "name": "stdout",
          "text": [
            "For 1998-2006\n",
            "\n",
            "Accuracy: 74.32%\n",
            "\n",
            "F1 Score: 74.32\n",
            "For 2007-2012\n",
            "\n",
            "Accuracy: 76.54%\n",
            "\n",
            "F1 Score: 76.54\n",
            "For 2013-2017\n",
            "\n",
            "Accuracy: 78.38%\n",
            "\n",
            "F1 Score: 78.38\n",
            "For 2013-2017\n",
            "\n",
            "Accuracy: 77.97%\n",
            "\n",
            "F1 Score: 77.97\n"
          ]
        }
      ]
    },
    {
      "cell_type": "markdown",
      "source": [
        "## Store models"
      ],
      "metadata": {
        "id": "hU9mypDOOLez"
      }
    },
    {
      "cell_type": "code",
      "source": [
        "def store_model(i,vect,svm,lr,nb,rf):\n",
        "  pipe1 = Pipeline([\n",
        "    ('tfidf', vect),\n",
        "    ('svm', svm),\n",
        "    ])\n",
        "  pipe2 = Pipeline([\n",
        "    ('tfidf', vect),\n",
        "    ('lr', lr),\n",
        "    ])\n",
        "  pipe3 = Pipeline([\n",
        "    ('tfidf', vect),\n",
        "    ('nb', nb),\n",
        "    ])\n",
        "  pipe4 = Pipeline([\n",
        "    ('tfidf', vect),\n",
        "    ('rf', rf),\n",
        "    ])\n",
        "  if i == 18:\n",
        "    dir = '18'\n",
        "  else:\n",
        "    dir = 'merge'\n",
        "  filename1 = './drive/MyDrive/Colab Notebooks/CL/software/'+dir+'/svm.pickle'\n",
        "  filename2 = './drive/MyDrive/Colab Notebooks/CL/software/'+dir+'/lr.pickle'\n",
        "  filename3 = './drive/MyDrive/Colab Notebooks/CL/software/'+dir+'/nb.pickle'\n",
        "  filename4 = './drive/MyDrive/Colab Notebooks/CL/software/'+dir+'/rf.pickle'\n",
        "  pickle.dump(pipe1, open(filename1, 'wb'))\n",
        "  pickle.dump(pipe2, open(filename2, 'wb'))\n",
        "  pickle.dump(pipe3, open(filename3, 'wb'))\n",
        "  pickle.dump(pipe4, open(filename4, 'wb'))  "
      ],
      "metadata": {
        "id": "5n2JP9AmNwPd"
      },
      "execution_count": 24,
      "outputs": []
    },
    {
      "cell_type": "code",
      "source": [
        "store_model(18,vect,svc18,lr18,nb18,rf18)"
      ],
      "metadata": {
        "id": "G2ymjl3HQq4_"
      },
      "execution_count": 25,
      "outputs": []
    },
    {
      "cell_type": "code",
      "source": [
        "store_model(0,tfidf_vec,svc,lr,nb,rf)"
      ],
      "metadata": {
        "id": "tkpLXU7VQ4ee"
      },
      "execution_count": 61,
      "outputs": []
    },
    {
      "cell_type": "code",
      "source": [
        ""
      ],
      "metadata": {
        "id": "YEkCqkZNr-60"
      },
      "execution_count": null,
      "outputs": []
    }
  ]
}